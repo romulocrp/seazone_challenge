{
 "cells": [
  {
   "cell_type": "code",
   "execution_count": 65,
   "id": "f9284268",
   "metadata": {
    "ExecuteTime": {
     "end_time": "2022-01-18T12:33:33.889778Z",
     "start_time": "2022-01-18T12:33:33.301712Z"
    }
   },
   "outputs": [],
   "source": [
    "import pandas as pd\n",
    "import numpy as np\n",
    "from sklearn import preprocessing\n",
    "import seaborn as sns\n",
    "import matplotlib.pyplot as plt"
   ]
  },
  {
   "cell_type": "code",
   "execution_count": 4,
   "id": "4471fadf",
   "metadata": {
    "ExecuteTime": {
     "end_time": "2022-01-17T21:03:26.304392Z",
     "start_time": "2022-01-17T21:03:26.218927Z"
    }
   },
   "outputs": [
    {
     "data": {
      "text/html": [
       "<div>\n",
       "<style scoped>\n",
       "    .dataframe tbody tr th:only-of-type {\n",
       "        vertical-align: middle;\n",
       "    }\n",
       "\n",
       "    .dataframe tbody tr th {\n",
       "        vertical-align: top;\n",
       "    }\n",
       "\n",
       "    .dataframe thead th {\n",
       "        text-align: right;\n",
       "    }\n",
       "</style>\n",
       "<table border=\"1\" class=\"dataframe\">\n",
       "  <thead>\n",
       "    <tr style=\"text-align: right;\">\n",
       "      <th></th>\n",
       "      <th>Unnamed: 0</th>\n",
       "      <th>airbnb_listing_id</th>\n",
       "      <th>suburb</th>\n",
       "      <th>ad_name</th>\n",
       "      <th>number_of_bedrooms</th>\n",
       "      <th>number_of_bathrooms</th>\n",
       "      <th>star_rating</th>\n",
       "      <th>is_superhost</th>\n",
       "      <th>number_of_reviews</th>\n",
       "    </tr>\n",
       "  </thead>\n",
       "  <tbody>\n",
       "    <tr>\n",
       "      <th>0</th>\n",
       "      <td>0</td>\n",
       "      <td>31389869</td>\n",
       "      <td>Jurerê</td>\n",
       "      <td>Lindo Apartamento em Jurerê</td>\n",
       "      <td>2.0</td>\n",
       "      <td>2.0</td>\n",
       "      <td>5.0</td>\n",
       "      <td>False</td>\n",
       "      <td>15.0</td>\n",
       "    </tr>\n",
       "    <tr>\n",
       "      <th>1</th>\n",
       "      <td>1</td>\n",
       "      <td>40010667</td>\n",
       "      <td>Canasvieiras</td>\n",
       "      <td>Residencial Arruda, 1 quarto</td>\n",
       "      <td>1.0</td>\n",
       "      <td>1.0</td>\n",
       "      <td>NaN</td>\n",
       "      <td>False</td>\n",
       "      <td>0.0</td>\n",
       "    </tr>\n",
       "    <tr>\n",
       "      <th>2</th>\n",
       "      <td>2</td>\n",
       "      <td>38905997</td>\n",
       "      <td>Ingleses</td>\n",
       "      <td>Apartamento NOVO Completo - Moderno e Sofisticado</td>\n",
       "      <td>1.0</td>\n",
       "      <td>1.0</td>\n",
       "      <td>4.5</td>\n",
       "      <td>True</td>\n",
       "      <td>13.0</td>\n",
       "    </tr>\n",
       "    <tr>\n",
       "      <th>3</th>\n",
       "      <td>3</td>\n",
       "      <td>22343656</td>\n",
       "      <td>Ingleses</td>\n",
       "      <td>06- Apartamento 02 habitaciones</td>\n",
       "      <td>2.0</td>\n",
       "      <td>1.0</td>\n",
       "      <td>5.0</td>\n",
       "      <td>True</td>\n",
       "      <td>28.0</td>\n",
       "    </tr>\n",
       "    <tr>\n",
       "      <th>4</th>\n",
       "      <td>4</td>\n",
       "      <td>18328184</td>\n",
       "      <td>Canasvieiras</td>\n",
       "      <td>Apto 2 quartos em Canasvieiras, Florianopolis!</td>\n",
       "      <td>2.0</td>\n",
       "      <td>1.0</td>\n",
       "      <td>5.0</td>\n",
       "      <td>True</td>\n",
       "      <td>35.0</td>\n",
       "    </tr>\n",
       "    <tr>\n",
       "      <th>...</th>\n",
       "      <td>...</td>\n",
       "      <td>...</td>\n",
       "      <td>...</td>\n",
       "      <td>...</td>\n",
       "      <td>...</td>\n",
       "      <td>...</td>\n",
       "      <td>...</td>\n",
       "      <td>...</td>\n",
       "      <td>...</td>\n",
       "    </tr>\n",
       "    <tr>\n",
       "      <th>4686</th>\n",
       "      <td>4686</td>\n",
       "      <td>34392248</td>\n",
       "      <td>Ingleses</td>\n",
       "      <td>Lindo e acogedor apto en zona norte de la Isla</td>\n",
       "      <td>2.0</td>\n",
       "      <td>2.0</td>\n",
       "      <td>NaN</td>\n",
       "      <td>False</td>\n",
       "      <td>0.0</td>\n",
       "    </tr>\n",
       "    <tr>\n",
       "      <th>4687</th>\n",
       "      <td>4687</td>\n",
       "      <td>44538969</td>\n",
       "      <td>Canasvieiras</td>\n",
       "      <td>Ótimo apto no centro de Canas, a 450m do mar</td>\n",
       "      <td>1.0</td>\n",
       "      <td>1.0</td>\n",
       "      <td>NaN</td>\n",
       "      <td>False</td>\n",
       "      <td>0.0</td>\n",
       "    </tr>\n",
       "    <tr>\n",
       "      <th>4688</th>\n",
       "      <td>4688</td>\n",
       "      <td>16609826</td>\n",
       "      <td>Jurerê</td>\n",
       "      <td>Agradável Apartamento em Jurerê Internacional</td>\n",
       "      <td>3.0</td>\n",
       "      <td>2.0</td>\n",
       "      <td>5.0</td>\n",
       "      <td>True</td>\n",
       "      <td>30.0</td>\n",
       "    </tr>\n",
       "    <tr>\n",
       "      <th>4689</th>\n",
       "      <td>4689</td>\n",
       "      <td>31239515</td>\n",
       "      <td>Canasvieiras</td>\n",
       "      <td>Cobertura no centro 3 dormitorios com AR.</td>\n",
       "      <td>3.0</td>\n",
       "      <td>2.0</td>\n",
       "      <td>NaN</td>\n",
       "      <td>True</td>\n",
       "      <td>2.0</td>\n",
       "    </tr>\n",
       "    <tr>\n",
       "      <th>4690</th>\n",
       "      <td>4690</td>\n",
       "      <td>5078051</td>\n",
       "      <td>Ingleses</td>\n",
       "      <td>APARTAMENTO A 400 M DA PRAIA</td>\n",
       "      <td>2.0</td>\n",
       "      <td>2.0</td>\n",
       "      <td>5.0</td>\n",
       "      <td>False</td>\n",
       "      <td>18.0</td>\n",
       "    </tr>\n",
       "  </tbody>\n",
       "</table>\n",
       "<p>4691 rows × 9 columns</p>\n",
       "</div>"
      ],
      "text/plain": [
       "      Unnamed: 0  airbnb_listing_id        suburb  \\\n",
       "0              0           31389869        Jurerê   \n",
       "1              1           40010667  Canasvieiras   \n",
       "2              2           38905997      Ingleses   \n",
       "3              3           22343656      Ingleses   \n",
       "4              4           18328184  Canasvieiras   \n",
       "...          ...                ...           ...   \n",
       "4686        4686           34392248      Ingleses   \n",
       "4687        4687           44538969  Canasvieiras   \n",
       "4688        4688           16609826        Jurerê   \n",
       "4689        4689           31239515  Canasvieiras   \n",
       "4690        4690            5078051      Ingleses   \n",
       "\n",
       "                                                ad_name  number_of_bedrooms  \\\n",
       "0                           Lindo Apartamento em Jurerê                 2.0   \n",
       "1                          Residencial Arruda, 1 quarto                 1.0   \n",
       "2     Apartamento NOVO Completo - Moderno e Sofisticado                 1.0   \n",
       "3                       06- Apartamento 02 habitaciones                 2.0   \n",
       "4        Apto 2 quartos em Canasvieiras, Florianopolis!                 2.0   \n",
       "...                                                 ...                 ...   \n",
       "4686     Lindo e acogedor apto en zona norte de la Isla                 2.0   \n",
       "4687       Ótimo apto no centro de Canas, a 450m do mar                 1.0   \n",
       "4688      Agradável Apartamento em Jurerê Internacional                 3.0   \n",
       "4689          Cobertura no centro 3 dormitorios com AR.                 3.0   \n",
       "4690                       APARTAMENTO A 400 M DA PRAIA                 2.0   \n",
       "\n",
       "      number_of_bathrooms  star_rating  is_superhost  number_of_reviews  \n",
       "0                     2.0          5.0         False               15.0  \n",
       "1                     1.0          NaN         False                0.0  \n",
       "2                     1.0          4.5          True               13.0  \n",
       "3                     1.0          5.0          True               28.0  \n",
       "4                     1.0          5.0          True               35.0  \n",
       "...                   ...          ...           ...                ...  \n",
       "4686                  2.0          NaN         False                0.0  \n",
       "4687                  1.0          NaN         False                0.0  \n",
       "4688                  2.0          5.0          True               30.0  \n",
       "4689                  2.0          NaN          True                2.0  \n",
       "4690                  2.0          5.0         False               18.0  \n",
       "\n",
       "[4691 rows x 9 columns]"
      ]
     },
     "execution_count": 4,
     "metadata": {},
     "output_type": "execute_result"
    }
   ],
   "source": [
    "desafio_details_df = pd.read_csv(\"desafio_details.csv\")\n",
    "desafio_details_df"
   ]
  },
  {
   "cell_type": "code",
   "execution_count": 5,
   "id": "ac35e973",
   "metadata": {
    "ExecuteTime": {
     "end_time": "2022-01-17T21:03:26.751439Z",
     "start_time": "2022-01-17T21:03:26.312010Z"
    }
   },
   "outputs": [
    {
     "data": {
      "text/html": [
       "<div>\n",
       "<style scoped>\n",
       "    .dataframe tbody tr th:only-of-type {\n",
       "        vertical-align: middle;\n",
       "    }\n",
       "\n",
       "    .dataframe tbody tr th {\n",
       "        vertical-align: top;\n",
       "    }\n",
       "\n",
       "    .dataframe thead th {\n",
       "        text-align: right;\n",
       "    }\n",
       "</style>\n",
       "<table border=\"1\" class=\"dataframe\">\n",
       "  <thead>\n",
       "    <tr style=\"text-align: right;\">\n",
       "      <th></th>\n",
       "      <th>Unnamed: 0</th>\n",
       "      <th>Unnamed: 0.1</th>\n",
       "      <th>airbnb_listing_id</th>\n",
       "      <th>booked_on</th>\n",
       "      <th>date</th>\n",
       "      <th>price_string</th>\n",
       "      <th>occupied</th>\n",
       "    </tr>\n",
       "  </thead>\n",
       "  <tbody>\n",
       "    <tr>\n",
       "      <th>0</th>\n",
       "      <td>0</td>\n",
       "      <td>2148</td>\n",
       "      <td>40201349</td>\n",
       "      <td>blank</td>\n",
       "      <td>2020-11-15</td>\n",
       "      <td>250.0</td>\n",
       "      <td>0</td>\n",
       "    </tr>\n",
       "    <tr>\n",
       "      <th>1</th>\n",
       "      <td>1</td>\n",
       "      <td>2159</td>\n",
       "      <td>40201349</td>\n",
       "      <td>blank</td>\n",
       "      <td>2020-11-26</td>\n",
       "      <td>250.0</td>\n",
       "      <td>0</td>\n",
       "    </tr>\n",
       "    <tr>\n",
       "      <th>2</th>\n",
       "      <td>2</td>\n",
       "      <td>2160</td>\n",
       "      <td>40201349</td>\n",
       "      <td>blank</td>\n",
       "      <td>2020-11-27</td>\n",
       "      <td>250.0</td>\n",
       "      <td>0</td>\n",
       "    </tr>\n",
       "    <tr>\n",
       "      <th>3</th>\n",
       "      <td>3</td>\n",
       "      <td>2173</td>\n",
       "      <td>40201349</td>\n",
       "      <td>blank</td>\n",
       "      <td>2020-12-10</td>\n",
       "      <td>250.0</td>\n",
       "      <td>0</td>\n",
       "    </tr>\n",
       "    <tr>\n",
       "      <th>4</th>\n",
       "      <td>4</td>\n",
       "      <td>2226</td>\n",
       "      <td>40201349</td>\n",
       "      <td>blank</td>\n",
       "      <td>2021-02-01</td>\n",
       "      <td>250.0</td>\n",
       "      <td>0</td>\n",
       "    </tr>\n",
       "    <tr>\n",
       "      <th>...</th>\n",
       "      <td>...</td>\n",
       "      <td>...</td>\n",
       "      <td>...</td>\n",
       "      <td>...</td>\n",
       "      <td>...</td>\n",
       "      <td>...</td>\n",
       "      <td>...</td>\n",
       "    </tr>\n",
       "    <tr>\n",
       "      <th>354515</th>\n",
       "      <td>64596</td>\n",
       "      <td>4298115</td>\n",
       "      <td>40199361</td>\n",
       "      <td>blank</td>\n",
       "      <td>2021-03-26</td>\n",
       "      <td>200.0</td>\n",
       "      <td>0</td>\n",
       "    </tr>\n",
       "    <tr>\n",
       "      <th>354516</th>\n",
       "      <td>64597</td>\n",
       "      <td>4298116</td>\n",
       "      <td>40199361</td>\n",
       "      <td>blank</td>\n",
       "      <td>2021-03-27</td>\n",
       "      <td>200.0</td>\n",
       "      <td>0</td>\n",
       "    </tr>\n",
       "    <tr>\n",
       "      <th>354517</th>\n",
       "      <td>64598</td>\n",
       "      <td>4298117</td>\n",
       "      <td>40199361</td>\n",
       "      <td>2020-09-14 00:00:00</td>\n",
       "      <td>2021-03-28</td>\n",
       "      <td>250.0</td>\n",
       "      <td>1</td>\n",
       "    </tr>\n",
       "    <tr>\n",
       "      <th>354518</th>\n",
       "      <td>64599</td>\n",
       "      <td>4298118</td>\n",
       "      <td>40199361</td>\n",
       "      <td>2020-09-14 00:00:00</td>\n",
       "      <td>2021-03-29</td>\n",
       "      <td>250.0</td>\n",
       "      <td>1</td>\n",
       "    </tr>\n",
       "    <tr>\n",
       "      <th>354519</th>\n",
       "      <td>64600</td>\n",
       "      <td>4298119</td>\n",
       "      <td>40199361</td>\n",
       "      <td>2020-12-03 00:00:00</td>\n",
       "      <td>2021-03-30</td>\n",
       "      <td>200.0</td>\n",
       "      <td>1</td>\n",
       "    </tr>\n",
       "  </tbody>\n",
       "</table>\n",
       "<p>354520 rows × 7 columns</p>\n",
       "</div>"
      ],
      "text/plain": [
       "        Unnamed: 0  Unnamed: 0.1  airbnb_listing_id            booked_on  \\\n",
       "0                0          2148           40201349                blank   \n",
       "1                1          2159           40201349                blank   \n",
       "2                2          2160           40201349                blank   \n",
       "3                3          2173           40201349                blank   \n",
       "4                4          2226           40201349                blank   \n",
       "...            ...           ...                ...                  ...   \n",
       "354515       64596       4298115           40199361                blank   \n",
       "354516       64597       4298116           40199361                blank   \n",
       "354517       64598       4298117           40199361  2020-09-14 00:00:00   \n",
       "354518       64599       4298118           40199361  2020-09-14 00:00:00   \n",
       "354519       64600       4298119           40199361  2020-12-03 00:00:00   \n",
       "\n",
       "              date  price_string  occupied  \n",
       "0       2020-11-15         250.0         0  \n",
       "1       2020-11-26         250.0         0  \n",
       "2       2020-11-27         250.0         0  \n",
       "3       2020-12-10         250.0         0  \n",
       "4       2021-02-01         250.0         0  \n",
       "...            ...           ...       ...  \n",
       "354515  2021-03-26         200.0         0  \n",
       "354516  2021-03-27         200.0         0  \n",
       "354517  2021-03-28         250.0         1  \n",
       "354518  2021-03-29         250.0         1  \n",
       "354519  2021-03-30         200.0         1  \n",
       "\n",
       "[354520 rows x 7 columns]"
      ]
     },
     "execution_count": 5,
     "metadata": {},
     "output_type": "execute_result"
    }
   ],
   "source": [
    "desafio_priceav_df = pd.read_csv(\"desafio_priceav.csv\")\n",
    "desafio_priceav_df"
   ]
  },
  {
   "cell_type": "code",
   "execution_count": 6,
   "id": "cdeb259c",
   "metadata": {
    "ExecuteTime": {
     "end_time": "2022-01-17T21:03:26.791061Z",
     "start_time": "2022-01-17T21:03:26.755888Z"
    }
   },
   "outputs": [
    {
     "name": "stdout",
     "output_type": "stream",
     "text": [
      "<class 'pandas.core.frame.DataFrame'>\n",
      "RangeIndex: 4691 entries, 0 to 4690\n",
      "Data columns (total 9 columns):\n",
      " #   Column               Non-Null Count  Dtype  \n",
      "---  ------               --------------  -----  \n",
      " 0   Unnamed: 0           4691 non-null   int64  \n",
      " 1   airbnb_listing_id    4691 non-null   int64  \n",
      " 2   suburb               4691 non-null   object \n",
      " 3   ad_name              4691 non-null   object \n",
      " 4   number_of_bedrooms   4508 non-null   float64\n",
      " 5   number_of_bathrooms  4690 non-null   float64\n",
      " 6   star_rating          2570 non-null   float64\n",
      " 7   is_superhost         4691 non-null   bool   \n",
      " 8   number_of_reviews    4684 non-null   float64\n",
      "dtypes: bool(1), float64(4), int64(2), object(2)\n",
      "memory usage: 297.9+ KB\n"
     ]
    }
   ],
   "source": [
    "desafio_details_df.info()"
   ]
  },
  {
   "cell_type": "code",
   "execution_count": 7,
   "id": "a6d83562",
   "metadata": {
    "ExecuteTime": {
     "end_time": "2022-01-17T21:03:26.874780Z",
     "start_time": "2022-01-17T21:03:26.794290Z"
    }
   },
   "outputs": [
    {
     "name": "stdout",
     "output_type": "stream",
     "text": [
      "<class 'pandas.core.frame.DataFrame'>\n",
      "RangeIndex: 354520 entries, 0 to 354519\n",
      "Data columns (total 7 columns):\n",
      " #   Column             Non-Null Count   Dtype  \n",
      "---  ------             --------------   -----  \n",
      " 0   Unnamed: 0         354520 non-null  int64  \n",
      " 1   Unnamed: 0.1       354520 non-null  int64  \n",
      " 2   airbnb_listing_id  354520 non-null  int64  \n",
      " 3   booked_on          354520 non-null  object \n",
      " 4   date               354520 non-null  object \n",
      " 5   price_string       354520 non-null  float64\n",
      " 6   occupied           354520 non-null  int64  \n",
      "dtypes: float64(1), int64(4), object(2)\n",
      "memory usage: 18.9+ MB\n"
     ]
    }
   ],
   "source": [
    "desafio_priceav_df.info()"
   ]
  },
  {
   "cell_type": "code",
   "execution_count": 8,
   "id": "2464f441",
   "metadata": {
    "ExecuteTime": {
     "end_time": "2022-01-17T21:03:26.901742Z",
     "start_time": "2022-01-17T21:03:26.876745Z"
    }
   },
   "outputs": [
    {
     "data": {
      "text/html": [
       "<div>\n",
       "<style scoped>\n",
       "    .dataframe tbody tr th:only-of-type {\n",
       "        vertical-align: middle;\n",
       "    }\n",
       "\n",
       "    .dataframe tbody tr th {\n",
       "        vertical-align: top;\n",
       "    }\n",
       "\n",
       "    .dataframe thead th {\n",
       "        text-align: right;\n",
       "    }\n",
       "</style>\n",
       "<table border=\"1\" class=\"dataframe\">\n",
       "  <thead>\n",
       "    <tr style=\"text-align: right;\">\n",
       "      <th></th>\n",
       "      <th>suburb</th>\n",
       "      <th>airbnb_listing_id</th>\n",
       "    </tr>\n",
       "  </thead>\n",
       "  <tbody>\n",
       "    <tr>\n",
       "      <th>0</th>\n",
       "      <td>Centro</td>\n",
       "      <td>278</td>\n",
       "    </tr>\n",
       "    <tr>\n",
       "      <th>1</th>\n",
       "      <td>Lagoa da Conceição</td>\n",
       "      <td>309</td>\n",
       "    </tr>\n",
       "    <tr>\n",
       "      <th>2</th>\n",
       "      <td>Jurerê</td>\n",
       "      <td>539</td>\n",
       "    </tr>\n",
       "    <tr>\n",
       "      <th>3</th>\n",
       "      <td>Canasvieiras</td>\n",
       "      <td>1177</td>\n",
       "    </tr>\n",
       "    <tr>\n",
       "      <th>4</th>\n",
       "      <td>Ingleses</td>\n",
       "      <td>2388</td>\n",
       "    </tr>\n",
       "  </tbody>\n",
       "</table>\n",
       "</div>"
      ],
      "text/plain": [
       "               suburb  airbnb_listing_id\n",
       "0              Centro                278\n",
       "1  Lagoa da Conceição                309\n",
       "2              Jurerê                539\n",
       "3        Canasvieiras               1177\n",
       "4            Ingleses               2388"
      ]
     },
     "execution_count": 8,
     "metadata": {},
     "output_type": "execute_result"
    }
   ],
   "source": [
    "contagem_listing = desafio_details_df[[\"airbnb_listing_id\", \"suburb\"]].groupby(\"suburb\").count().sort_values(by=\"airbnb_listing_id\").reset_index()\n",
    "contagem_listing"
   ]
  },
  {
   "cell_type": "code",
   "execution_count": 9,
   "id": "98697795",
   "metadata": {
    "ExecuteTime": {
     "end_time": "2022-01-17T21:03:27.195433Z",
     "start_time": "2022-01-17T21:03:26.904980Z"
    }
   },
   "outputs": [
    {
     "data": {
      "image/png": "[encoded data removed]",
      "text/plain": [
       "<Figure size 432x288 with 1 Axes>"
      ]
     },
     "metadata": {
      "needs_background": "light"
     },
     "output_type": "display_data"
    }
   ],
   "source": [
    "contagem_listing_grafico = sns.barplot(x=contagem_listing[\"suburb\"], y=contagem_listing[\"airbnb_listing_id\"]);\n",
    "contagem_listing_grafico.set(xlabel=\"Bairros\", ylabel=\"Contagem\")\n",
    "plt.xticks(rotation=45)\n",
    "plt.show()"
   ]
  },
  {
   "cell_type": "code",
   "execution_count": 10,
   "id": "c11c92c0",
   "metadata": {
    "ExecuteTime": {
     "end_time": "2022-01-17T21:03:27.369834Z",
     "start_time": "2022-01-17T21:03:27.200742Z"
    }
   },
   "outputs": [
    {
     "data": {
      "text/html": [
       "<div>\n",
       "<style scoped>\n",
       "    .dataframe tbody tr th:only-of-type {\n",
       "        vertical-align: middle;\n",
       "    }\n",
       "\n",
       "    .dataframe tbody tr th {\n",
       "        vertical-align: top;\n",
       "    }\n",
       "\n",
       "    .dataframe thead th {\n",
       "        text-align: right;\n",
       "    }\n",
       "</style>\n",
       "<table border=\"1\" class=\"dataframe\">\n",
       "  <thead>\n",
       "    <tr style=\"text-align: right;\">\n",
       "      <th></th>\n",
       "      <th>Unnamed: 0_x</th>\n",
       "      <th>airbnb_listing_id</th>\n",
       "      <th>suburb</th>\n",
       "      <th>ad_name</th>\n",
       "      <th>number_of_bedrooms</th>\n",
       "      <th>number_of_bathrooms</th>\n",
       "      <th>star_rating</th>\n",
       "      <th>is_superhost</th>\n",
       "      <th>number_of_reviews</th>\n",
       "      <th>Unnamed: 0_y</th>\n",
       "      <th>Unnamed: 0.1</th>\n",
       "      <th>booked_on</th>\n",
       "      <th>date</th>\n",
       "      <th>price_string</th>\n",
       "      <th>occupied</th>\n",
       "    </tr>\n",
       "  </thead>\n",
       "  <tbody>\n",
       "    <tr>\n",
       "      <th>0</th>\n",
       "      <td>0</td>\n",
       "      <td>31389869</td>\n",
       "      <td>Jurerê</td>\n",
       "      <td>Lindo Apartamento em Jurerê</td>\n",
       "      <td>2.0</td>\n",
       "      <td>2.0</td>\n",
       "      <td>5.0</td>\n",
       "      <td>False</td>\n",
       "      <td>15.0</td>\n",
       "      <td>54466</td>\n",
       "      <td>3628239</td>\n",
       "      <td>2020-12-04 00:00:00</td>\n",
       "      <td>2020-12-04</td>\n",
       "      <td>270.0</td>\n",
       "      <td>1</td>\n",
       "    </tr>\n",
       "    <tr>\n",
       "      <th>1</th>\n",
       "      <td>0</td>\n",
       "      <td>31389869</td>\n",
       "      <td>Jurerê</td>\n",
       "      <td>Lindo Apartamento em Jurerê</td>\n",
       "      <td>2.0</td>\n",
       "      <td>2.0</td>\n",
       "      <td>5.0</td>\n",
       "      <td>False</td>\n",
       "      <td>15.0</td>\n",
       "      <td>54467</td>\n",
       "      <td>3628240</td>\n",
       "      <td>2020-12-04 00:00:00</td>\n",
       "      <td>2020-12-05</td>\n",
       "      <td>270.0</td>\n",
       "      <td>1</td>\n",
       "    </tr>\n",
       "    <tr>\n",
       "      <th>2</th>\n",
       "      <td>0</td>\n",
       "      <td>31389869</td>\n",
       "      <td>Jurerê</td>\n",
       "      <td>Lindo Apartamento em Jurerê</td>\n",
       "      <td>2.0</td>\n",
       "      <td>2.0</td>\n",
       "      <td>5.0</td>\n",
       "      <td>False</td>\n",
       "      <td>15.0</td>\n",
       "      <td>54468</td>\n",
       "      <td>3628241</td>\n",
       "      <td>2020-12-04 00:00:00</td>\n",
       "      <td>2020-12-06</td>\n",
       "      <td>270.0</td>\n",
       "      <td>1</td>\n",
       "    </tr>\n",
       "    <tr>\n",
       "      <th>3</th>\n",
       "      <td>0</td>\n",
       "      <td>31389869</td>\n",
       "      <td>Jurerê</td>\n",
       "      <td>Lindo Apartamento em Jurerê</td>\n",
       "      <td>2.0</td>\n",
       "      <td>2.0</td>\n",
       "      <td>5.0</td>\n",
       "      <td>False</td>\n",
       "      <td>15.0</td>\n",
       "      <td>54469</td>\n",
       "      <td>3628242</td>\n",
       "      <td>2020-12-04 00:00:00</td>\n",
       "      <td>2020-12-07</td>\n",
       "      <td>270.0</td>\n",
       "      <td>1</td>\n",
       "    </tr>\n",
       "    <tr>\n",
       "      <th>4</th>\n",
       "      <td>0</td>\n",
       "      <td>31389869</td>\n",
       "      <td>Jurerê</td>\n",
       "      <td>Lindo Apartamento em Jurerê</td>\n",
       "      <td>2.0</td>\n",
       "      <td>2.0</td>\n",
       "      <td>5.0</td>\n",
       "      <td>False</td>\n",
       "      <td>15.0</td>\n",
       "      <td>54470</td>\n",
       "      <td>3628243</td>\n",
       "      <td>2020-12-04 00:00:00</td>\n",
       "      <td>2020-12-08</td>\n",
       "      <td>270.0</td>\n",
       "      <td>1</td>\n",
       "    </tr>\n",
       "    <tr>\n",
       "      <th>...</th>\n",
       "      <td>...</td>\n",
       "      <td>...</td>\n",
       "      <td>...</td>\n",
       "      <td>...</td>\n",
       "      <td>...</td>\n",
       "      <td>...</td>\n",
       "      <td>...</td>\n",
       "      <td>...</td>\n",
       "      <td>...</td>\n",
       "      <td>...</td>\n",
       "      <td>...</td>\n",
       "      <td>...</td>\n",
       "      <td>...</td>\n",
       "      <td>...</td>\n",
       "      <td>...</td>\n",
       "    </tr>\n",
       "    <tr>\n",
       "      <th>354515</th>\n",
       "      <td>3845</td>\n",
       "      <td>40277915</td>\n",
       "      <td>Ingleses</td>\n",
       "      <td>2 dormitório a 100 metros do mar (202B)</td>\n",
       "      <td>2.0</td>\n",
       "      <td>2.0</td>\n",
       "      <td>NaN</td>\n",
       "      <td>False</td>\n",
       "      <td>0.0</td>\n",
       "      <td>38574</td>\n",
       "      <td>2275517</td>\n",
       "      <td>2021-02-28 00:00:00</td>\n",
       "      <td>2021-03-26</td>\n",
       "      <td>150.0</td>\n",
       "      <td>1</td>\n",
       "    </tr>\n",
       "    <tr>\n",
       "      <th>354516</th>\n",
       "      <td>3845</td>\n",
       "      <td>40277915</td>\n",
       "      <td>Ingleses</td>\n",
       "      <td>2 dormitório a 100 metros do mar (202B)</td>\n",
       "      <td>2.0</td>\n",
       "      <td>2.0</td>\n",
       "      <td>NaN</td>\n",
       "      <td>False</td>\n",
       "      <td>0.0</td>\n",
       "      <td>38575</td>\n",
       "      <td>2275518</td>\n",
       "      <td>2021-02-28 00:00:00</td>\n",
       "      <td>2021-03-27</td>\n",
       "      <td>150.0</td>\n",
       "      <td>1</td>\n",
       "    </tr>\n",
       "    <tr>\n",
       "      <th>354517</th>\n",
       "      <td>3845</td>\n",
       "      <td>40277915</td>\n",
       "      <td>Ingleses</td>\n",
       "      <td>2 dormitório a 100 metros do mar (202B)</td>\n",
       "      <td>2.0</td>\n",
       "      <td>2.0</td>\n",
       "      <td>NaN</td>\n",
       "      <td>False</td>\n",
       "      <td>0.0</td>\n",
       "      <td>38576</td>\n",
       "      <td>2275519</td>\n",
       "      <td>2021-02-28 00:00:00</td>\n",
       "      <td>2021-03-28</td>\n",
       "      <td>150.0</td>\n",
       "      <td>1</td>\n",
       "    </tr>\n",
       "    <tr>\n",
       "      <th>354518</th>\n",
       "      <td>3845</td>\n",
       "      <td>40277915</td>\n",
       "      <td>Ingleses</td>\n",
       "      <td>2 dormitório a 100 metros do mar (202B)</td>\n",
       "      <td>2.0</td>\n",
       "      <td>2.0</td>\n",
       "      <td>NaN</td>\n",
       "      <td>False</td>\n",
       "      <td>0.0</td>\n",
       "      <td>38577</td>\n",
       "      <td>2275520</td>\n",
       "      <td>2021-02-28 00:00:00</td>\n",
       "      <td>2021-03-29</td>\n",
       "      <td>150.0</td>\n",
       "      <td>1</td>\n",
       "    </tr>\n",
       "    <tr>\n",
       "      <th>354519</th>\n",
       "      <td>3845</td>\n",
       "      <td>40277915</td>\n",
       "      <td>Ingleses</td>\n",
       "      <td>2 dormitório a 100 metros do mar (202B)</td>\n",
       "      <td>2.0</td>\n",
       "      <td>2.0</td>\n",
       "      <td>NaN</td>\n",
       "      <td>False</td>\n",
       "      <td>0.0</td>\n",
       "      <td>38578</td>\n",
       "      <td>2275521</td>\n",
       "      <td>2021-02-28 00:00:00</td>\n",
       "      <td>2021-03-30</td>\n",
       "      <td>150.0</td>\n",
       "      <td>1</td>\n",
       "    </tr>\n",
       "  </tbody>\n",
       "</table>\n",
       "<p>354520 rows × 15 columns</p>\n",
       "</div>"
      ],
      "text/plain": [
       "        Unnamed: 0_x  airbnb_listing_id    suburb  \\\n",
       "0                  0           31389869    Jurerê   \n",
       "1                  0           31389869    Jurerê   \n",
       "2                  0           31389869    Jurerê   \n",
       "3                  0           31389869    Jurerê   \n",
       "4                  0           31389869    Jurerê   \n",
       "...              ...                ...       ...   \n",
       "354515          3845           40277915  Ingleses   \n",
       "354516          3845           40277915  Ingleses   \n",
       "354517          3845           40277915  Ingleses   \n",
       "354518          3845           40277915  Ingleses   \n",
       "354519          3845           40277915  Ingleses   \n",
       "\n",
       "                                        ad_name  number_of_bedrooms  \\\n",
       "0                   Lindo Apartamento em Jurerê                 2.0   \n",
       "1                   Lindo Apartamento em Jurerê                 2.0   \n",
       "2                   Lindo Apartamento em Jurerê                 2.0   \n",
       "3                   Lindo Apartamento em Jurerê                 2.0   \n",
       "4                   Lindo Apartamento em Jurerê                 2.0   \n",
       "...                                         ...                 ...   \n",
       "354515  2 dormitório a 100 metros do mar (202B)                 2.0   \n",
       "354516  2 dormitório a 100 metros do mar (202B)                 2.0   \n",
       "354517  2 dormitório a 100 metros do mar (202B)                 2.0   \n",
       "354518  2 dormitório a 100 metros do mar (202B)                 2.0   \n",
       "354519  2 dormitório a 100 metros do mar (202B)                 2.0   \n",
       "\n",
       "        number_of_bathrooms  star_rating  is_superhost  number_of_reviews  \\\n",
       "0                       2.0          5.0         False               15.0   \n",
       "1                       2.0          5.0         False               15.0   \n",
       "2                       2.0          5.0         False               15.0   \n",
       "3                       2.0          5.0         False               15.0   \n",
       "4                       2.0          5.0         False               15.0   \n",
       "...                     ...          ...           ...                ...   \n",
       "354515                  2.0          NaN         False                0.0   \n",
       "354516                  2.0          NaN         False                0.0   \n",
       "354517                  2.0          NaN         False                0.0   \n",
       "354518                  2.0          NaN         False                0.0   \n",
       "354519                  2.0          NaN         False                0.0   \n",
       "\n",
       "        Unnamed: 0_y  Unnamed: 0.1            booked_on        date  \\\n",
       "0              54466       3628239  2020-12-04 00:00:00  2020-12-04   \n",
       "1              54467       3628240  2020-12-04 00:00:00  2020-12-05   \n",
       "2              54468       3628241  2020-12-04 00:00:00  2020-12-06   \n",
       "3              54469       3628242  2020-12-04 00:00:00  2020-12-07   \n",
       "4              54470       3628243  2020-12-04 00:00:00  2020-12-08   \n",
       "...              ...           ...                  ...         ...   \n",
       "354515         38574       2275517  2021-02-28 00:00:00  2021-03-26   \n",
       "354516         38575       2275518  2021-02-28 00:00:00  2021-03-27   \n",
       "354517         38576       2275519  2021-02-28 00:00:00  2021-03-28   \n",
       "354518         38577       2275520  2021-02-28 00:00:00  2021-03-29   \n",
       "354519         38578       2275521  2021-02-28 00:00:00  2021-03-30   \n",
       "\n",
       "        price_string  occupied  \n",
       "0              270.0         1  \n",
       "1              270.0         1  \n",
       "2              270.0         1  \n",
       "3              270.0         1  \n",
       "4              270.0         1  \n",
       "...              ...       ...  \n",
       "354515         150.0         1  \n",
       "354516         150.0         1  \n",
       "354517         150.0         1  \n",
       "354518         150.0         1  \n",
       "354519         150.0         1  \n",
       "\n",
       "[354520 rows x 15 columns]"
      ]
     },
     "execution_count": 10,
     "metadata": {},
     "output_type": "execute_result"
    }
   ],
   "source": [
    "desafio_df = pd.merge(desafio_details_df, desafio_priceav_df, on=\"airbnb_listing_id\")\n",
    "desafio_df"
   ]
  },
  {
   "cell_type": "code",
   "execution_count": 11,
   "id": "9691553d",
   "metadata": {
    "ExecuteTime": {
     "end_time": "2022-01-17T21:03:27.778325Z",
     "start_time": "2022-01-17T21:03:27.372785Z"
    }
   },
   "outputs": [],
   "source": [
    "desafio_df = desafio_df.drop_duplicates()"
   ]
  },
  {
   "cell_type": "code",
   "execution_count": 12,
   "id": "96f4192e",
   "metadata": {
    "ExecuteTime": {
     "end_time": "2022-01-17T21:03:27.879769Z",
     "start_time": "2022-01-17T21:03:27.783463Z"
    }
   },
   "outputs": [
    {
     "name": "stdout",
     "output_type": "stream",
     "text": [
      "<class 'pandas.core.frame.DataFrame'>\n",
      "Int64Index: 289919 entries, 0 to 354433\n",
      "Data columns (total 15 columns):\n",
      " #   Column               Non-Null Count   Dtype  \n",
      "---  ------               --------------   -----  \n",
      " 0   Unnamed: 0_x         289919 non-null  int64  \n",
      " 1   airbnb_listing_id    289919 non-null  int64  \n",
      " 2   suburb               289919 non-null  object \n",
      " 3   ad_name              289919 non-null  object \n",
      " 4   number_of_bedrooms   277998 non-null  float64\n",
      " 5   number_of_bathrooms  289845 non-null  float64\n",
      " 6   star_rating          178052 non-null  float64\n",
      " 7   is_superhost         289919 non-null  bool   \n",
      " 8   number_of_reviews    289597 non-null  float64\n",
      " 9   Unnamed: 0_y         289919 non-null  int64  \n",
      " 10  Unnamed: 0.1         289919 non-null  int64  \n",
      " 11  booked_on            289919 non-null  object \n",
      " 12  date                 289919 non-null  object \n",
      " 13  price_string         289919 non-null  float64\n",
      " 14  occupied             289919 non-null  int64  \n",
      "dtypes: bool(1), float64(5), int64(5), object(4)\n",
      "memory usage: 33.5+ MB\n"
     ]
    }
   ],
   "source": [
    "desafio_df.info()"
   ]
  },
  {
   "cell_type": "code",
   "execution_count": 13,
   "id": "31ed3484",
   "metadata": {
    "ExecuteTime": {
     "end_time": "2022-01-17T21:03:27.982974Z",
     "start_time": "2022-01-17T21:03:27.883206Z"
    }
   },
   "outputs": [],
   "source": [
    "desafio_df = desafio_df.fillna(value=0)"
   ]
  },
  {
   "cell_type": "code",
   "execution_count": 14,
   "id": "3a84cb32",
   "metadata": {
    "ExecuteTime": {
     "end_time": "2022-01-17T21:03:28.087745Z",
     "start_time": "2022-01-17T21:03:27.984938Z"
    }
   },
   "outputs": [
    {
     "name": "stdout",
     "output_type": "stream",
     "text": [
      "<class 'pandas.core.frame.DataFrame'>\n",
      "Int64Index: 289919 entries, 0 to 354433\n",
      "Data columns (total 15 columns):\n",
      " #   Column               Non-Null Count   Dtype  \n",
      "---  ------               --------------   -----  \n",
      " 0   Unnamed: 0_x         289919 non-null  int64  \n",
      " 1   airbnb_listing_id    289919 non-null  int64  \n",
      " 2   suburb               289919 non-null  object \n",
      " 3   ad_name              289919 non-null  object \n",
      " 4   number_of_bedrooms   289919 non-null  float64\n",
      " 5   number_of_bathrooms  289919 non-null  float64\n",
      " 6   star_rating          289919 non-null  float64\n",
      " 7   is_superhost         289919 non-null  bool   \n",
      " 8   number_of_reviews    289919 non-null  float64\n",
      " 9   Unnamed: 0_y         289919 non-null  int64  \n",
      " 10  Unnamed: 0.1         289919 non-null  int64  \n",
      " 11  booked_on            289919 non-null  object \n",
      " 12  date                 289919 non-null  object \n",
      " 13  price_string         289919 non-null  float64\n",
      " 14  occupied             289919 non-null  int64  \n",
      "dtypes: bool(1), float64(5), int64(5), object(4)\n",
      "memory usage: 33.5+ MB\n"
     ]
    }
   ],
   "source": [
    "desafio_df.info()"
   ]
  },
  {
   "cell_type": "code",
   "execution_count": 15,
   "id": "1c1fa6c7",
   "metadata": {
    "ExecuteTime": {
     "end_time": "2022-01-17T21:03:28.327693Z",
     "start_time": "2022-01-17T21:03:28.089671Z"
    }
   },
   "outputs": [],
   "source": [
    "desafio_df[\"booked_on\"] = desafio_df[\"booked_on\"].str.replace(\"blank\", \"\")"
   ]
  },
  {
   "cell_type": "code",
   "execution_count": 16,
   "id": "03395854",
   "metadata": {
    "ExecuteTime": {
     "end_time": "2022-01-17T21:03:28.698779Z",
     "start_time": "2022-01-17T21:03:28.329808Z"
    }
   },
   "outputs": [
    {
     "data": {
      "text/html": [
       "<div>\n",
       "<style scoped>\n",
       "    .dataframe tbody tr th:only-of-type {\n",
       "        vertical-align: middle;\n",
       "    }\n",
       "\n",
       "    .dataframe tbody tr th {\n",
       "        vertical-align: top;\n",
       "    }\n",
       "\n",
       "    .dataframe thead th {\n",
       "        text-align: right;\n",
       "    }\n",
       "</style>\n",
       "<table border=\"1\" class=\"dataframe\">\n",
       "  <thead>\n",
       "    <tr style=\"text-align: right;\">\n",
       "      <th></th>\n",
       "      <th>airbnb_listing_id</th>\n",
       "      <th>booked_on</th>\n",
       "      <th>date</th>\n",
       "      <th>suburb</th>\n",
       "      <th>price_string</th>\n",
       "    </tr>\n",
       "  </thead>\n",
       "  <tbody>\n",
       "    <tr>\n",
       "      <th>19</th>\n",
       "      <td>30964548</td>\n",
       "      <td>2021-01-04 00:00:00</td>\n",
       "      <td>2021-02-21</td>\n",
       "      <td>Canasvieiras</td>\n",
       "      <td>50.0</td>\n",
       "    </tr>\n",
       "    <tr>\n",
       "      <th>20</th>\n",
       "      <td>32843473</td>\n",
       "      <td>2020-03-31 00:00:00</td>\n",
       "      <td>2021-02-20</td>\n",
       "      <td>Ingleses</td>\n",
       "      <td>50.0</td>\n",
       "    </tr>\n",
       "    <tr>\n",
       "      <th>21</th>\n",
       "      <td>32843473</td>\n",
       "      <td>2020-03-31 00:00:00</td>\n",
       "      <td>2021-02-21</td>\n",
       "      <td>Ingleses</td>\n",
       "      <td>50.0</td>\n",
       "    </tr>\n",
       "    <tr>\n",
       "      <th>22</th>\n",
       "      <td>32843473</td>\n",
       "      <td>2020-03-31 00:00:00</td>\n",
       "      <td>2021-02-22</td>\n",
       "      <td>Ingleses</td>\n",
       "      <td>50.0</td>\n",
       "    </tr>\n",
       "    <tr>\n",
       "      <th>23</th>\n",
       "      <td>32843473</td>\n",
       "      <td>2020-03-31 00:00:00</td>\n",
       "      <td>2021-02-23</td>\n",
       "      <td>Ingleses</td>\n",
       "      <td>50.0</td>\n",
       "    </tr>\n",
       "    <tr>\n",
       "      <th>...</th>\n",
       "      <td>...</td>\n",
       "      <td>...</td>\n",
       "      <td>...</td>\n",
       "      <td>...</td>\n",
       "      <td>...</td>\n",
       "    </tr>\n",
       "    <tr>\n",
       "      <th>284061</th>\n",
       "      <td>40894598</td>\n",
       "      <td>2020-03-29 00:00:00</td>\n",
       "      <td>2021-02-20</td>\n",
       "      <td>Ingleses</td>\n",
       "      <td>2000.0</td>\n",
       "    </tr>\n",
       "    <tr>\n",
       "      <th>284063</th>\n",
       "      <td>40892444</td>\n",
       "      <td>2020-04-01 00:00:00</td>\n",
       "      <td>2021-03-17</td>\n",
       "      <td>Ingleses</td>\n",
       "      <td>2000.0</td>\n",
       "    </tr>\n",
       "    <tr>\n",
       "      <th>284065</th>\n",
       "      <td>40892444</td>\n",
       "      <td>2020-04-01 00:00:00</td>\n",
       "      <td>2021-03-18</td>\n",
       "      <td>Ingleses</td>\n",
       "      <td>2000.0</td>\n",
       "    </tr>\n",
       "    <tr>\n",
       "      <th>284068</th>\n",
       "      <td>40892444</td>\n",
       "      <td>2020-04-01 00:00:00</td>\n",
       "      <td>2021-03-19</td>\n",
       "      <td>Ingleses</td>\n",
       "      <td>2000.0</td>\n",
       "    </tr>\n",
       "    <tr>\n",
       "      <th>284069</th>\n",
       "      <td>40894598</td>\n",
       "      <td>2020-03-29 00:00:00</td>\n",
       "      <td>2021-02-05</td>\n",
       "      <td>Ingleses</td>\n",
       "      <td>2000.0</td>\n",
       "    </tr>\n",
       "  </tbody>\n",
       "</table>\n",
       "<p>132023 rows × 5 columns</p>\n",
       "</div>"
      ],
      "text/plain": [
       "        airbnb_listing_id            booked_on        date        suburb  \\\n",
       "19               30964548  2021-01-04 00:00:00  2021-02-21  Canasvieiras   \n",
       "20               32843473  2020-03-31 00:00:00  2021-02-20      Ingleses   \n",
       "21               32843473  2020-03-31 00:00:00  2021-02-21      Ingleses   \n",
       "22               32843473  2020-03-31 00:00:00  2021-02-22      Ingleses   \n",
       "23               32843473  2020-03-31 00:00:00  2021-02-23      Ingleses   \n",
       "...                   ...                  ...         ...           ...   \n",
       "284061           40894598  2020-03-29 00:00:00  2021-02-20      Ingleses   \n",
       "284063           40892444  2020-04-01 00:00:00  2021-03-17      Ingleses   \n",
       "284065           40892444  2020-04-01 00:00:00  2021-03-18      Ingleses   \n",
       "284068           40892444  2020-04-01 00:00:00  2021-03-19      Ingleses   \n",
       "284069           40894598  2020-03-29 00:00:00  2021-02-05      Ingleses   \n",
       "\n",
       "        price_string  \n",
       "19              50.0  \n",
       "20              50.0  \n",
       "21              50.0  \n",
       "22              50.0  \n",
       "23              50.0  \n",
       "...              ...  \n",
       "284061        2000.0  \n",
       "284063        2000.0  \n",
       "284065        2000.0  \n",
       "284068        2000.0  \n",
       "284069        2000.0  \n",
       "\n",
       "[132023 rows x 5 columns]"
      ]
     },
     "execution_count": 16,
     "metadata": {},
     "output_type": "execute_result"
    }
   ],
   "source": [
    "faturamento_por_agendamento = desafio_df[[\"airbnb_listing_id\", \"booked_on\", \"date\", \"suburb\", \"price_string\"]].groupby([\"airbnb_listing_id\", \"booked_on\", \"date\", \"suburb\"]).sum().sort_values(by = \"price_string\").reset_index()\n",
    "faturamento_por_agendamento = faturamento_por_agendamento[faturamento_por_agendamento.booked_on != \"\"]\n",
    "faturamento_por_agendamento"
   ]
  },
  {
   "cell_type": "code",
   "execution_count": 17,
   "id": "d1ca92a5",
   "metadata": {
    "ExecuteTime": {
     "end_time": "2022-01-17T21:03:28.766525Z",
     "start_time": "2022-01-17T21:03:28.701645Z"
    }
   },
   "outputs": [
    {
     "data": {
      "text/html": [
       "<div>\n",
       "<style scoped>\n",
       "    .dataframe tbody tr th:only-of-type {\n",
       "        vertical-align: middle;\n",
       "    }\n",
       "\n",
       "    .dataframe tbody tr th {\n",
       "        vertical-align: top;\n",
       "    }\n",
       "\n",
       "    .dataframe thead th {\n",
       "        text-align: right;\n",
       "    }\n",
       "</style>\n",
       "<table border=\"1\" class=\"dataframe\">\n",
       "  <thead>\n",
       "    <tr style=\"text-align: right;\">\n",
       "      <th></th>\n",
       "      <th>airbnb_listing_id</th>\n",
       "      <th>suburb</th>\n",
       "      <th>price_string</th>\n",
       "    </tr>\n",
       "  </thead>\n",
       "  <tbody>\n",
       "    <tr>\n",
       "      <th>0</th>\n",
       "      <td>42112099</td>\n",
       "      <td>Ingleses</td>\n",
       "      <td>98.0</td>\n",
       "    </tr>\n",
       "    <tr>\n",
       "      <th>1</th>\n",
       "      <td>13097427</td>\n",
       "      <td>Ingleses</td>\n",
       "      <td>150.0</td>\n",
       "    </tr>\n",
       "    <tr>\n",
       "      <th>2</th>\n",
       "      <td>41232719</td>\n",
       "      <td>Centro</td>\n",
       "      <td>160.0</td>\n",
       "    </tr>\n",
       "    <tr>\n",
       "      <th>3</th>\n",
       "      <td>2693585</td>\n",
       "      <td>Centro</td>\n",
       "      <td>190.0</td>\n",
       "    </tr>\n",
       "    <tr>\n",
       "      <th>4</th>\n",
       "      <td>39647983</td>\n",
       "      <td>Canasvieiras</td>\n",
       "      <td>195.0</td>\n",
       "    </tr>\n",
       "    <tr>\n",
       "      <th>...</th>\n",
       "      <td>...</td>\n",
       "      <td>...</td>\n",
       "      <td>...</td>\n",
       "    </tr>\n",
       "    <tr>\n",
       "      <th>3183</th>\n",
       "      <td>28908271</td>\n",
       "      <td>Ingleses</td>\n",
       "      <td>77230.0</td>\n",
       "    </tr>\n",
       "    <tr>\n",
       "      <th>3184</th>\n",
       "      <td>32374298</td>\n",
       "      <td>Ingleses</td>\n",
       "      <td>78330.0</td>\n",
       "    </tr>\n",
       "    <tr>\n",
       "      <th>3185</th>\n",
       "      <td>16567628</td>\n",
       "      <td>Ingleses</td>\n",
       "      <td>79650.0</td>\n",
       "    </tr>\n",
       "    <tr>\n",
       "      <th>3186</th>\n",
       "      <td>5199040</td>\n",
       "      <td>Ingleses</td>\n",
       "      <td>87540.0</td>\n",
       "    </tr>\n",
       "    <tr>\n",
       "      <th>3187</th>\n",
       "      <td>7725877</td>\n",
       "      <td>Ingleses</td>\n",
       "      <td>89100.0</td>\n",
       "    </tr>\n",
       "  </tbody>\n",
       "</table>\n",
       "<p>3188 rows × 3 columns</p>\n",
       "</div>"
      ],
      "text/plain": [
       "      airbnb_listing_id        suburb  price_string\n",
       "0              42112099      Ingleses          98.0\n",
       "1              13097427      Ingleses         150.0\n",
       "2              41232719        Centro         160.0\n",
       "3               2693585        Centro         190.0\n",
       "4              39647983  Canasvieiras         195.0\n",
       "...                 ...           ...           ...\n",
       "3183           28908271      Ingleses       77230.0\n",
       "3184           32374298      Ingleses       78330.0\n",
       "3185           16567628      Ingleses       79650.0\n",
       "3186            5199040      Ingleses       87540.0\n",
       "3187            7725877      Ingleses       89100.0\n",
       "\n",
       "[3188 rows x 3 columns]"
      ]
     },
     "execution_count": 17,
     "metadata": {},
     "output_type": "execute_result"
    }
   ],
   "source": [
    "faturamento_por_id = faturamento_por_agendamento[[\"airbnb_listing_id\", \"suburb\", \"price_string\"]].groupby([\"airbnb_listing_id\", \"suburb\"]).sum().sort_values(by=\"price_string\").reset_index()\n",
    "faturamento_por_id"
   ]
  },
  {
   "cell_type": "code",
   "execution_count": 18,
   "id": "1f09db82",
   "metadata": {
    "ExecuteTime": {
     "end_time": "2022-01-17T21:03:28.805638Z",
     "start_time": "2022-01-17T21:03:28.768982Z"
    }
   },
   "outputs": [
    {
     "data": {
      "text/html": [
       "<div>\n",
       "<style scoped>\n",
       "    .dataframe tbody tr th:only-of-type {\n",
       "        vertical-align: middle;\n",
       "    }\n",
       "\n",
       "    .dataframe tbody tr th {\n",
       "        vertical-align: top;\n",
       "    }\n",
       "\n",
       "    .dataframe thead th {\n",
       "        text-align: right;\n",
       "    }\n",
       "</style>\n",
       "<table border=\"1\" class=\"dataframe\">\n",
       "  <thead>\n",
       "    <tr style=\"text-align: right;\">\n",
       "      <th></th>\n",
       "      <th>suburb</th>\n",
       "      <th>price_string</th>\n",
       "    </tr>\n",
       "  </thead>\n",
       "  <tbody>\n",
       "    <tr>\n",
       "      <th>0</th>\n",
       "      <td>Centro</td>\n",
       "      <td>8666.49</td>\n",
       "    </tr>\n",
       "    <tr>\n",
       "      <th>1</th>\n",
       "      <td>Lagoa da Conceição</td>\n",
       "      <td>10447.67</td>\n",
       "    </tr>\n",
       "    <tr>\n",
       "      <th>2</th>\n",
       "      <td>Canasvieiras</td>\n",
       "      <td>13327.55</td>\n",
       "    </tr>\n",
       "    <tr>\n",
       "      <th>3</th>\n",
       "      <td>Ingleses</td>\n",
       "      <td>14743.46</td>\n",
       "    </tr>\n",
       "    <tr>\n",
       "      <th>4</th>\n",
       "      <td>Jurerê</td>\n",
       "      <td>17924.31</td>\n",
       "    </tr>\n",
       "  </tbody>\n",
       "</table>\n",
       "</div>"
      ],
      "text/plain": [
       "               suburb  price_string\n",
       "0              Centro       8666.49\n",
       "1  Lagoa da Conceição      10447.67\n",
       "2        Canasvieiras      13327.55\n",
       "3            Ingleses      14743.46\n",
       "4              Jurerê      17924.31"
      ]
     },
     "execution_count": 18,
     "metadata": {},
     "output_type": "execute_result"
    }
   ],
   "source": [
    "faturamento_medio = faturamento_por_id[[\"suburb\", \"price_string\"]].groupby(\"suburb\").mean().sort_values(by=\"price_string\").reset_index()\n",
    "faturamento_medio[\"price_string\"] = faturamento_medio[\"price_string\"].round(decimals=2)\n",
    "faturamento_medio"
   ]
  },
  {
   "cell_type": "code",
   "execution_count": 19,
   "id": "5af8ec1e",
   "metadata": {
    "ExecuteTime": {
     "end_time": "2022-01-17T21:03:29.077970Z",
     "start_time": "2022-01-17T21:03:28.809103Z"
    }
   },
   "outputs": [
    {
     "data": {
      "image/png": "[encoded data removed]",
      "text/plain": [
       "<Figure size 432x288 with 1 Axes>"
      ]
     },
     "metadata": {
      "needs_background": "light"
     },
     "output_type": "display_data"
    }
   ],
   "source": [
    "faturamento_medio_grafico = sns.barplot(x=faturamento_medio[\"suburb\"], y=faturamento_medio[\"price_string\"]);\n",
    "faturamento_medio_grafico.set(xlabel=\"Bairros\", ylabel=\"Faturamento médio\")\n",
    "plt.xticks(rotation=45)\n",
    "plt.show()"
   ]
  },
  {
   "cell_type": "code",
   "execution_count": 63,
   "id": "0d89c56c",
   "metadata": {
    "ExecuteTime": {
     "end_time": "2022-01-18T12:32:41.512273Z",
     "start_time": "2022-01-18T12:32:35.587523Z"
    },
    "scrolled": true
   },
   "outputs": [
    {
     "data": {
      "text/html": [
       "<div>\n",
       "<style scoped>\n",
       "    .dataframe tbody tr th:only-of-type {\n",
       "        vertical-align: middle;\n",
       "    }\n",
       "\n",
       "    .dataframe tbody tr th {\n",
       "        vertical-align: top;\n",
       "    }\n",
       "\n",
       "    .dataframe thead th {\n",
       "        text-align: right;\n",
       "    }\n",
       "</style>\n",
       "<table border=\"1\" class=\"dataframe\">\n",
       "  <thead>\n",
       "    <tr style=\"text-align: right;\">\n",
       "      <th></th>\n",
       "      <th>airbnb_listing_id</th>\n",
       "      <th>suburb</th>\n",
       "      <th>booked_on</th>\n",
       "      <th>date</th>\n",
       "      <th>number_of_bedrooms</th>\n",
       "      <th>number_of_bathrooms</th>\n",
       "      <th>number_of_reviews</th>\n",
       "      <th>star_rating</th>\n",
       "      <th>is_superhost</th>\n",
       "      <th>price_string</th>\n",
       "    </tr>\n",
       "  </thead>\n",
       "  <tbody>\n",
       "    <tr>\n",
       "      <th>19</th>\n",
       "      <td>30964548</td>\n",
       "      <td>Canasvieiras</td>\n",
       "      <td>2021-01-04</td>\n",
       "      <td>2021-02-21</td>\n",
       "      <td>1.0</td>\n",
       "      <td>1.0</td>\n",
       "      <td>17.0</td>\n",
       "      <td>4.5</td>\n",
       "      <td>0</td>\n",
       "      <td>50.0</td>\n",
       "    </tr>\n",
       "    <tr>\n",
       "      <th>20</th>\n",
       "      <td>32843473</td>\n",
       "      <td>Ingleses</td>\n",
       "      <td>2020-03-31</td>\n",
       "      <td>2021-02-20</td>\n",
       "      <td>1.0</td>\n",
       "      <td>1.0</td>\n",
       "      <td>12.0</td>\n",
       "      <td>4.5</td>\n",
       "      <td>0</td>\n",
       "      <td>50.0</td>\n",
       "    </tr>\n",
       "    <tr>\n",
       "      <th>21</th>\n",
       "      <td>32843473</td>\n",
       "      <td>Ingleses</td>\n",
       "      <td>2020-03-31</td>\n",
       "      <td>2021-02-21</td>\n",
       "      <td>1.0</td>\n",
       "      <td>1.0</td>\n",
       "      <td>12.0</td>\n",
       "      <td>4.5</td>\n",
       "      <td>0</td>\n",
       "      <td>50.0</td>\n",
       "    </tr>\n",
       "    <tr>\n",
       "      <th>22</th>\n",
       "      <td>32843473</td>\n",
       "      <td>Ingleses</td>\n",
       "      <td>2020-03-31</td>\n",
       "      <td>2021-02-22</td>\n",
       "      <td>1.0</td>\n",
       "      <td>1.0</td>\n",
       "      <td>12.0</td>\n",
       "      <td>4.5</td>\n",
       "      <td>0</td>\n",
       "      <td>50.0</td>\n",
       "    </tr>\n",
       "    <tr>\n",
       "      <th>23</th>\n",
       "      <td>32843473</td>\n",
       "      <td>Ingleses</td>\n",
       "      <td>2020-03-31</td>\n",
       "      <td>2021-02-23</td>\n",
       "      <td>1.0</td>\n",
       "      <td>1.0</td>\n",
       "      <td>12.0</td>\n",
       "      <td>4.5</td>\n",
       "      <td>0</td>\n",
       "      <td>50.0</td>\n",
       "    </tr>\n",
       "    <tr>\n",
       "      <th>...</th>\n",
       "      <td>...</td>\n",
       "      <td>...</td>\n",
       "      <td>...</td>\n",
       "      <td>...</td>\n",
       "      <td>...</td>\n",
       "      <td>...</td>\n",
       "      <td>...</td>\n",
       "      <td>...</td>\n",
       "      <td>...</td>\n",
       "      <td>...</td>\n",
       "    </tr>\n",
       "    <tr>\n",
       "      <th>284061</th>\n",
       "      <td>40894598</td>\n",
       "      <td>Ingleses</td>\n",
       "      <td>2020-03-29</td>\n",
       "      <td>2021-02-20</td>\n",
       "      <td>1.0</td>\n",
       "      <td>2.0</td>\n",
       "      <td>0.0</td>\n",
       "      <td>0.0</td>\n",
       "      <td>0</td>\n",
       "      <td>2000.0</td>\n",
       "    </tr>\n",
       "    <tr>\n",
       "      <th>284063</th>\n",
       "      <td>40892444</td>\n",
       "      <td>Ingleses</td>\n",
       "      <td>2020-04-01</td>\n",
       "      <td>2021-03-17</td>\n",
       "      <td>2.0</td>\n",
       "      <td>3.0</td>\n",
       "      <td>0.0</td>\n",
       "      <td>0.0</td>\n",
       "      <td>0</td>\n",
       "      <td>2000.0</td>\n",
       "    </tr>\n",
       "    <tr>\n",
       "      <th>284065</th>\n",
       "      <td>40892444</td>\n",
       "      <td>Ingleses</td>\n",
       "      <td>2020-04-01</td>\n",
       "      <td>2021-03-18</td>\n",
       "      <td>2.0</td>\n",
       "      <td>3.0</td>\n",
       "      <td>0.0</td>\n",
       "      <td>0.0</td>\n",
       "      <td>0</td>\n",
       "      <td>2000.0</td>\n",
       "    </tr>\n",
       "    <tr>\n",
       "      <th>284068</th>\n",
       "      <td>40892444</td>\n",
       "      <td>Ingleses</td>\n",
       "      <td>2020-04-01</td>\n",
       "      <td>2021-03-19</td>\n",
       "      <td>2.0</td>\n",
       "      <td>3.0</td>\n",
       "      <td>0.0</td>\n",
       "      <td>0.0</td>\n",
       "      <td>0</td>\n",
       "      <td>2000.0</td>\n",
       "    </tr>\n",
       "    <tr>\n",
       "      <th>284069</th>\n",
       "      <td>40894598</td>\n",
       "      <td>Ingleses</td>\n",
       "      <td>2020-03-29</td>\n",
       "      <td>2021-02-05</td>\n",
       "      <td>1.0</td>\n",
       "      <td>2.0</td>\n",
       "      <td>0.0</td>\n",
       "      <td>0.0</td>\n",
       "      <td>0</td>\n",
       "      <td>2000.0</td>\n",
       "    </tr>\n",
       "  </tbody>\n",
       "</table>\n",
       "<p>132023 rows × 10 columns</p>\n",
       "</div>"
      ],
      "text/plain": [
       "        airbnb_listing_id        suburb  booked_on       date  \\\n",
       "19               30964548  Canasvieiras 2021-01-04 2021-02-21   \n",
       "20               32843473      Ingleses 2020-03-31 2021-02-20   \n",
       "21               32843473      Ingleses 2020-03-31 2021-02-21   \n",
       "22               32843473      Ingleses 2020-03-31 2021-02-22   \n",
       "23               32843473      Ingleses 2020-03-31 2021-02-23   \n",
       "...                   ...           ...        ...        ...   \n",
       "284061           40894598      Ingleses 2020-03-29 2021-02-20   \n",
       "284063           40892444      Ingleses 2020-04-01 2021-03-17   \n",
       "284065           40892444      Ingleses 2020-04-01 2021-03-18   \n",
       "284068           40892444      Ingleses 2020-04-01 2021-03-19   \n",
       "284069           40894598      Ingleses 2020-03-29 2021-02-05   \n",
       "\n",
       "        number_of_bedrooms  number_of_bathrooms  number_of_reviews  \\\n",
       "19                     1.0                  1.0               17.0   \n",
       "20                     1.0                  1.0               12.0   \n",
       "21                     1.0                  1.0               12.0   \n",
       "22                     1.0                  1.0               12.0   \n",
       "23                     1.0                  1.0               12.0   \n",
       "...                    ...                  ...                ...   \n",
       "284061                 1.0                  2.0                0.0   \n",
       "284063                 2.0                  3.0                0.0   \n",
       "284065                 2.0                  3.0                0.0   \n",
       "284068                 2.0                  3.0                0.0   \n",
       "284069                 1.0                  2.0                0.0   \n",
       "\n",
       "        star_rating  is_superhost  price_string  \n",
       "19              4.5             0          50.0  \n",
       "20              4.5             0          50.0  \n",
       "21              4.5             0          50.0  \n",
       "22              4.5             0          50.0  \n",
       "23              4.5             0          50.0  \n",
       "...             ...           ...           ...  \n",
       "284061          0.0             0        2000.0  \n",
       "284063          0.0             0        2000.0  \n",
       "284065          0.0             0        2000.0  \n",
       "284068          0.0             0        2000.0  \n",
       "284069          0.0             0        2000.0  \n",
       "\n",
       "[132023 rows x 10 columns]"
      ]
     },
     "execution_count": 63,
     "metadata": {},
     "output_type": "execute_result"
    }
   ],
   "source": [
    "relacoes_numericas = desafio_df[[\"airbnb_listing_id\", \"suburb\", \"booked_on\", \"date\", \"number_of_bedrooms\", \"number_of_bathrooms\", \"number_of_reviews\", \"star_rating\", \"is_superhost\", \"price_string\"]].groupby([\"airbnb_listing_id\", \"suburb\", \"booked_on\", \"date\", \"number_of_bedrooms\", \"number_of_bathrooms\", \"number_of_reviews\", \"star_rating\",]).sum().sort_values(by=\"price_string\").reset_index()\n",
    "relacoes_numericas = relacoes_numericas[relacoes_numericas.booked_on != \"\"]\n",
    "relacoes_numericas[\"booked_on\"] = pd.to_datetime(relacoes_numericas[\"booked_on\"], format = \"%Y-%m-%d %H:%M:%S\")\n",
    "relacoes_numericas[\"date\"] = pd.to_datetime(relacoes_numericas[\"date\"], format = \"%Y-%m-%d\")\n",
    "relacoes_numericas"
   ]
  },
  {
   "cell_type": "code",
   "execution_count": 86,
   "id": "a6f53979",
   "metadata": {
    "ExecuteTime": {
     "end_time": "2022-01-18T13:41:27.148738Z",
     "start_time": "2022-01-18T13:41:00.040876Z"
    }
   },
   "outputs": [
    {
     "name": "stdout",
     "output_type": "stream",
     "text": [
      "2022-01-18 10:41:02.464969: W tensorflow/stream_executor/platform/default/dso_loader.cc:64] Could not load dynamic library 'libcudart.so.11.0'; dlerror: libcudart.so.11.0: cannot open shared object file: No such file or directory\n",
      "2022-01-18 10:41:02.465010: I tensorflow/stream_executor/cuda/cudart_stub.cc:29] Ignore above cudart dlerror if you do not have a GPU set up on your machine.\n",
      "\u001b[38;5;3m⚠ As of spaCy v3.0, shortcuts like 'pt' are deprecated. Please use the\n",
      "full pipeline package name 'pt_core_news_sm' instead.\u001b[0m\n",
      "Collecting pt-core-news-sm==3.2.0\n",
      "  Downloading https://github.com/explosion/spacy-models/releases/download/pt_core_news_sm-3.2.0/pt_core_news_sm-3.2.0-py3-none-any.whl (22.2 MB)\n",
      "\u001b[K     |████████████████████████████████| 22.2 MB 1.1 MB/s eta 0:00:01\n",
      "\u001b[?25hRequirement already satisfied: spacy<3.3.0,>=3.2.0 in /home/romulo/anaconda3/lib/python3.8/site-packages (from pt-core-news-sm==3.2.0) (3.2.1)\n",
      "Requirement already satisfied: catalogue<2.1.0,>=2.0.6 in /home/romulo/anaconda3/lib/python3.8/site-packages (from spacy<3.3.0,>=3.2.0->pt-core-news-sm==3.2.0) (2.0.6)\n",
      "Requirement already satisfied: tqdm<5.0.0,>=4.38.0 in /home/romulo/anaconda3/lib/python3.8/site-packages (from spacy<3.3.0,>=3.2.0->pt-core-news-sm==3.2.0) (4.62.0)\n",
      "Requirement already satisfied: spacy-legacy<3.1.0,>=3.0.8 in /home/romulo/anaconda3/lib/python3.8/site-packages (from spacy<3.3.0,>=3.2.0->pt-core-news-sm==3.2.0) (3.0.8)\n",
      "Requirement already satisfied: blis<0.8.0,>=0.4.0 in /home/romulo/anaconda3/lib/python3.8/site-packages (from spacy<3.3.0,>=3.2.0->pt-core-news-sm==3.2.0) (0.7.5)\n",
      "Requirement already satisfied: langcodes<4.0.0,>=3.2.0 in /home/romulo/anaconda3/lib/python3.8/site-packages (from spacy<3.3.0,>=3.2.0->pt-core-news-sm==3.2.0) (3.3.0)\n",
      "Requirement already satisfied: requests<3.0.0,>=2.13.0 in /home/romulo/anaconda3/lib/python3.8/site-packages (from spacy<3.3.0,>=3.2.0->pt-core-news-sm==3.2.0) (2.26.0)\n",
      "Requirement already satisfied: jinja2 in /home/romulo/.local/lib/python3.8/site-packages (from spacy<3.3.0,>=3.2.0->pt-core-news-sm==3.2.0) (3.0.1)\n",
      "Requirement already satisfied: wasabi<1.1.0,>=0.8.1 in /home/romulo/anaconda3/lib/python3.8/site-packages (from spacy<3.3.0,>=3.2.0->pt-core-news-sm==3.2.0) (0.9.0)\n",
      "Requirement already satisfied: murmurhash<1.1.0,>=0.28.0 in /home/romulo/anaconda3/lib/python3.8/site-packages (from spacy<3.3.0,>=3.2.0->pt-core-news-sm==3.2.0) (1.0.6)\n",
      "Requirement already satisfied: numpy>=1.15.0 in /home/romulo/anaconda3/lib/python3.8/site-packages (from spacy<3.3.0,>=3.2.0->pt-core-news-sm==3.2.0) (1.19.5)\n",
      "Requirement already satisfied: spacy-loggers<2.0.0,>=1.0.0 in /home/romulo/anaconda3/lib/python3.8/site-packages (from spacy<3.3.0,>=3.2.0->pt-core-news-sm==3.2.0) (1.0.1)\n",
      "Requirement already satisfied: preshed<3.1.0,>=3.0.2 in /home/romulo/anaconda3/lib/python3.8/site-packages (from spacy<3.3.0,>=3.2.0->pt-core-news-sm==3.2.0) (3.0.6)\n",
      "Requirement already satisfied: typer<0.5.0,>=0.3.0 in /home/romulo/anaconda3/lib/python3.8/site-packages (from spacy<3.3.0,>=3.2.0->pt-core-news-sm==3.2.0) (0.4.0)\n",
      "Requirement already satisfied: srsly<3.0.0,>=2.4.1 in /home/romulo/anaconda3/lib/python3.8/site-packages (from spacy<3.3.0,>=3.2.0->pt-core-news-sm==3.2.0) (2.4.2)\n",
      "Requirement already satisfied: cymem<2.1.0,>=2.0.2 in /home/romulo/anaconda3/lib/python3.8/site-packages (from spacy<3.3.0,>=3.2.0->pt-core-news-sm==3.2.0) (2.0.6)\n",
      "Requirement already satisfied: pydantic!=1.8,!=1.8.1,<1.9.0,>=1.7.4 in /home/romulo/anaconda3/lib/python3.8/site-packages (from spacy<3.3.0,>=3.2.0->pt-core-news-sm==3.2.0) (1.8.2)\n",
      "Requirement already satisfied: pathy>=0.3.5 in /home/romulo/anaconda3/lib/python3.8/site-packages (from spacy<3.3.0,>=3.2.0->pt-core-news-sm==3.2.0) (0.6.1)\n",
      "Requirement already satisfied: setuptools in /home/romulo/anaconda3/lib/python3.8/site-packages (from spacy<3.3.0,>=3.2.0->pt-core-news-sm==3.2.0) (57.4.0)\n",
      "Requirement already satisfied: packaging>=20.0 in /home/romulo/anaconda3/lib/python3.8/site-packages (from spacy<3.3.0,>=3.2.0->pt-core-news-sm==3.2.0) (21.0)\n",
      "Requirement already satisfied: thinc<8.1.0,>=8.0.12 in /home/romulo/anaconda3/lib/python3.8/site-packages (from spacy<3.3.0,>=3.2.0->pt-core-news-sm==3.2.0) (8.0.13)\n",
      "Requirement already satisfied: pyparsing>=2.0.2 in /home/romulo/.local/lib/python3.8/site-packages (from packaging>=20.0->spacy<3.3.0,>=3.2.0->pt-core-news-sm==3.2.0) (2.4.7)\n",
      "Requirement already satisfied: smart-open<6.0.0,>=5.0.0 in /home/romulo/anaconda3/lib/python3.8/site-packages (from pathy>=0.3.5->spacy<3.3.0,>=3.2.0->pt-core-news-sm==3.2.0) (5.2.1)\n",
      "Requirement already satisfied: typing-extensions>=3.7.4.3 in /home/romulo/anaconda3/lib/python3.8/site-packages (from pydantic!=1.8,!=1.8.1,<1.9.0,>=1.7.4->spacy<3.3.0,>=3.2.0->pt-core-news-sm==3.2.0) (3.10.0.0)\n",
      "Requirement already satisfied: idna<4,>=2.5 in /home/romulo/anaconda3/lib/python3.8/site-packages (from requests<3.0.0,>=2.13.0->spacy<3.3.0,>=3.2.0->pt-core-news-sm==3.2.0) (2.10)\n",
      "Requirement already satisfied: urllib3<1.27,>=1.21.1 in /home/romulo/anaconda3/lib/python3.8/site-packages (from requests<3.0.0,>=2.13.0->spacy<3.3.0,>=3.2.0->pt-core-news-sm==3.2.0) (1.26.6)\n",
      "Requirement already satisfied: charset-normalizer~=2.0.0 in /home/romulo/anaconda3/lib/python3.8/site-packages (from requests<3.0.0,>=2.13.0->spacy<3.3.0,>=3.2.0->pt-core-news-sm==3.2.0) (2.0.4)\n",
      "Requirement already satisfied: certifi>=2017.4.17 in /home/romulo/anaconda3/lib/python3.8/site-packages (from requests<3.0.0,>=2.13.0->spacy<3.3.0,>=3.2.0->pt-core-news-sm==3.2.0) (2021.5.30)\n",
      "Requirement already satisfied: click<9.0.0,>=7.1.1 in /home/romulo/anaconda3/lib/python3.8/site-packages (from typer<0.5.0,>=0.3.0->spacy<3.3.0,>=3.2.0->pt-core-news-sm==3.2.0) (7.1.2)\n",
      "Requirement already satisfied: MarkupSafe>=2.0 in /home/romulo/.local/lib/python3.8/site-packages (from jinja2->spacy<3.3.0,>=3.2.0->pt-core-news-sm==3.2.0) (2.0.1)\n",
      "Installing collected packages: pt-core-news-sm\n",
      "Successfully installed pt-core-news-sm-3.2.0\n",
      "\u001b[33mWARNING: You are using pip version 21.2.2; however, version 21.3.1 is available.\n",
      "You should consider upgrading via the '/home/romulo/anaconda3/bin/python -m pip install --upgrade pip' command.\u001b[0m\n",
      "\u001b[38;5;2m✔ Download and installation successful\u001b[0m\n",
      "You can now load the package via spacy.load('pt_core_news_sm')\n"
     ]
    }
   ],
   "source": []
  },
  {
   "cell_type": "code",
   "execution_count": 76,
   "id": "cb4382cb",
   "metadata": {
    "ExecuteTime": {
     "end_time": "2022-01-18T12:43:56.625977Z",
     "start_time": "2022-01-18T12:43:56.488188Z"
    }
   },
   "outputs": [
    {
     "data": {
      "text/html": [
       "<div>\n",
       "<style scoped>\n",
       "    .dataframe tbody tr th:only-of-type {\n",
       "        vertical-align: middle;\n",
       "    }\n",
       "\n",
       "    .dataframe tbody tr th {\n",
       "        vertical-align: top;\n",
       "    }\n",
       "\n",
       "    .dataframe thead th {\n",
       "        text-align: right;\n",
       "    }\n",
       "</style>\n",
       "<table border=\"1\" class=\"dataframe\">\n",
       "  <thead>\n",
       "    <tr style=\"text-align: right;\">\n",
       "      <th></th>\n",
       "      <th>airbnb_listing_id</th>\n",
       "      <th>suburb</th>\n",
       "      <th>number_of_bedrooms</th>\n",
       "      <th>number_of_bathrooms</th>\n",
       "      <th>number_of_reviews</th>\n",
       "      <th>star_rating</th>\n",
       "      <th>is_superhost</th>\n",
       "      <th>price_string</th>\n",
       "    </tr>\n",
       "  </thead>\n",
       "  <tbody>\n",
       "    <tr>\n",
       "      <th>0</th>\n",
       "      <td>108658</td>\n",
       "      <td>Canasvieiras</td>\n",
       "      <td>2.0</td>\n",
       "      <td>2.0</td>\n",
       "      <td>0.0</td>\n",
       "      <td>0.0</td>\n",
       "      <td>0</td>\n",
       "      <td>24600.0</td>\n",
       "    </tr>\n",
       "    <tr>\n",
       "      <th>1</th>\n",
       "      <td>128631</td>\n",
       "      <td>Ingleses</td>\n",
       "      <td>4.0</td>\n",
       "      <td>2.0</td>\n",
       "      <td>2.0</td>\n",
       "      <td>0.0</td>\n",
       "      <td>0</td>\n",
       "      <td>28000.0</td>\n",
       "    </tr>\n",
       "    <tr>\n",
       "      <th>2</th>\n",
       "      <td>279586</td>\n",
       "      <td>Canasvieiras</td>\n",
       "      <td>3.0</td>\n",
       "      <td>2.0</td>\n",
       "      <td>52.0</td>\n",
       "      <td>4.5</td>\n",
       "      <td>0</td>\n",
       "      <td>6850.0</td>\n",
       "    </tr>\n",
       "    <tr>\n",
       "      <th>3</th>\n",
       "      <td>317970</td>\n",
       "      <td>Ingleses</td>\n",
       "      <td>3.0</td>\n",
       "      <td>2.0</td>\n",
       "      <td>15.0</td>\n",
       "      <td>4.5</td>\n",
       "      <td>0</td>\n",
       "      <td>3112.0</td>\n",
       "    </tr>\n",
       "    <tr>\n",
       "      <th>4</th>\n",
       "      <td>333619</td>\n",
       "      <td>Canasvieiras</td>\n",
       "      <td>1.0</td>\n",
       "      <td>1.0</td>\n",
       "      <td>26.0</td>\n",
       "      <td>5.0</td>\n",
       "      <td>1</td>\n",
       "      <td>12076.0</td>\n",
       "    </tr>\n",
       "    <tr>\n",
       "      <th>...</th>\n",
       "      <td>...</td>\n",
       "      <td>...</td>\n",
       "      <td>...</td>\n",
       "      <td>...</td>\n",
       "      <td>...</td>\n",
       "      <td>...</td>\n",
       "      <td>...</td>\n",
       "      <td>...</td>\n",
       "    </tr>\n",
       "    <tr>\n",
       "      <th>3626</th>\n",
       "      <td>45561358</td>\n",
       "      <td>Ingleses</td>\n",
       "      <td>1.0</td>\n",
       "      <td>1.0</td>\n",
       "      <td>16.0</td>\n",
       "      <td>5.0</td>\n",
       "      <td>2</td>\n",
       "      <td>3180.0</td>\n",
       "    </tr>\n",
       "    <tr>\n",
       "      <th>3627</th>\n",
       "      <td>45563187</td>\n",
       "      <td>Jurerê</td>\n",
       "      <td>1.0</td>\n",
       "      <td>1.0</td>\n",
       "      <td>9.0</td>\n",
       "      <td>4.5</td>\n",
       "      <td>1</td>\n",
       "      <td>23390.0</td>\n",
       "    </tr>\n",
       "    <tr>\n",
       "      <th>3628</th>\n",
       "      <td>45567371</td>\n",
       "      <td>Ingleses</td>\n",
       "      <td>2.0</td>\n",
       "      <td>2.0</td>\n",
       "      <td>0.0</td>\n",
       "      <td>0.0</td>\n",
       "      <td>0</td>\n",
       "      <td>600.0</td>\n",
       "    </tr>\n",
       "    <tr>\n",
       "      <th>3629</th>\n",
       "      <td>45575044</td>\n",
       "      <td>Lagoa da Conceição</td>\n",
       "      <td>2.0</td>\n",
       "      <td>2.0</td>\n",
       "      <td>14.0</td>\n",
       "      <td>5.0</td>\n",
       "      <td>1</td>\n",
       "      <td>28940.0</td>\n",
       "    </tr>\n",
       "    <tr>\n",
       "      <th>3630</th>\n",
       "      <td>45575044</td>\n",
       "      <td>Lagoa da Conceição</td>\n",
       "      <td>2.0</td>\n",
       "      <td>2.0</td>\n",
       "      <td>14.0</td>\n",
       "      <td>5.0</td>\n",
       "      <td>2</td>\n",
       "      <td>2160.0</td>\n",
       "    </tr>\n",
       "  </tbody>\n",
       "</table>\n",
       "<p>3631 rows × 8 columns</p>\n",
       "</div>"
      ],
      "text/plain": [
       "      airbnb_listing_id              suburb  number_of_bedrooms  \\\n",
       "0                108658        Canasvieiras                 2.0   \n",
       "1                128631            Ingleses                 4.0   \n",
       "2                279586        Canasvieiras                 3.0   \n",
       "3                317970            Ingleses                 3.0   \n",
       "4                333619        Canasvieiras                 1.0   \n",
       "...                 ...                 ...                 ...   \n",
       "3626           45561358            Ingleses                 1.0   \n",
       "3627           45563187              Jurerê                 1.0   \n",
       "3628           45567371            Ingleses                 2.0   \n",
       "3629           45575044  Lagoa da Conceição                 2.0   \n",
       "3630           45575044  Lagoa da Conceição                 2.0   \n",
       "\n",
       "      number_of_bathrooms  number_of_reviews  star_rating  is_superhost  \\\n",
       "0                     2.0                0.0          0.0             0   \n",
       "1                     2.0                2.0          0.0             0   \n",
       "2                     2.0               52.0          4.5             0   \n",
       "3                     2.0               15.0          4.5             0   \n",
       "4                     1.0               26.0          5.0             1   \n",
       "...                   ...                ...          ...           ...   \n",
       "3626                  1.0               16.0          5.0             2   \n",
       "3627                  1.0                9.0          4.5             1   \n",
       "3628                  2.0                0.0          0.0             0   \n",
       "3629                  2.0               14.0          5.0             1   \n",
       "3630                  2.0               14.0          5.0             2   \n",
       "\n",
       "      price_string  \n",
       "0          24600.0  \n",
       "1          28000.0  \n",
       "2           6850.0  \n",
       "3           3112.0  \n",
       "4          12076.0  \n",
       "...            ...  \n",
       "3626        3180.0  \n",
       "3627       23390.0  \n",
       "3628         600.0  \n",
       "3629       28940.0  \n",
       "3630        2160.0  \n",
       "\n",
       "[3631 rows x 8 columns]"
      ]
     },
     "execution_count": 76,
     "metadata": {},
     "output_type": "execute_result"
    }
   ],
   "source": [
    "faturamento_e_caracteristica = relacoes_numericas[[\"airbnb_listing_id\", \"suburb\", \"number_of_bedrooms\", \"number_of_bathrooms\", \"number_of_reviews\", \"star_rating\", \"is_superhost\", \"price_string\"]].groupby([\"airbnb_listing_id\", \"suburb\", \"number_of_bedrooms\", \"number_of_bathrooms\", \"number_of_reviews\", \"star_rating\", \"is_superhost\"]).sum().reset_index()\n",
    "faturamento_e_caracteristica"
   ]
  },
  {
   "cell_type": "code",
   "execution_count": 77,
   "id": "0261fce7",
   "metadata": {
    "ExecuteTime": {
     "end_time": "2022-01-18T12:44:00.040589Z",
     "start_time": "2022-01-18T12:44:00.024876Z"
    }
   },
   "outputs": [
    {
     "data": {
      "text/plain": [
       "airbnb_listing_id        int64\n",
       "suburb                  object\n",
       "number_of_bedrooms     float64\n",
       "number_of_bathrooms    float64\n",
       "number_of_reviews      float64\n",
       "star_rating            float64\n",
       "is_superhost             int64\n",
       "price_string           float64\n",
       "suburb_encoded           int64\n",
       "dtype: object"
      ]
     },
     "execution_count": 77,
     "metadata": {},
     "output_type": "execute_result"
    }
   ],
   "source": [
    "le = preprocessing.LabelEncoder()\n",
    "faturamento_e_caracteristica[\"suburb_encoded\"] = le.fit_transform(faturamento_e_caracteristica[\"suburb\"])\n",
    "faturamento_e_caracteristica.dtypes"
   ]
  },
  {
   "cell_type": "code",
   "execution_count": 83,
   "id": "2e745168",
   "metadata": {
    "ExecuteTime": {
     "end_time": "2022-01-18T12:49:57.140475Z",
     "start_time": "2022-01-18T12:49:56.809608Z"
    }
   },
   "outputs": [
    {
     "data": {
      "text/plain": [
       "0                     lindo apartamento em jurerê\n",
       "1                     lindo apartamento em jurerê\n",
       "2                     lindo apartamento em jurerê\n",
       "3                     lindo apartamento em jurerê\n",
       "4                     lindo apartamento em jurerê\n",
       "                           ...                   \n",
       "354429    2 dormitório a 100 metros do mar (202b)\n",
       "354430    2 dormitório a 100 metros do mar (202b)\n",
       "354431    2 dormitório a 100 metros do mar (202b)\n",
       "354432    2 dormitório a 100 metros do mar (202b)\n",
       "354433    2 dormitório a 100 metros do mar (202b)\n",
       "Name: ad_name, Length: 289919, dtype: object"
      ]
     },
     "execution_count": 83,
     "metadata": {},
     "output_type": "execute_result"
    }
   ],
   "source": [
    "desafio_df[\"ad_name\"].str.lower()"
   ]
  },
  {
   "cell_type": "code",
   "execution_count": 79,
   "id": "69509e31",
   "metadata": {
    "ExecuteTime": {
     "end_time": "2022-01-18T12:44:28.165978Z",
     "start_time": "2022-01-18T12:44:13.344459Z"
    }
   },
   "outputs": [
    {
     "data": {
      "image/png": "[encoded data removed]",
      "text/plain": [
       "<Figure size 1440x1440 with 72 Axes>"
      ]
     },
     "metadata": {
      "needs_background": "light"
     },
     "output_type": "display_data"
    }
   ],
   "source": [
    "sns.pairplot(faturamento_e_caracteristica);"
   ]
  },
  {
   "cell_type": "code",
   "execution_count": 78,
   "id": "03d3ed59",
   "metadata": {
    "ExecuteTime": {
     "end_time": "2022-01-18T12:44:05.193842Z",
     "start_time": "2022-01-18T12:44:04.833169Z"
    }
   },
   "outputs": [
    {
     "data": {
      "image/png": "[encoded data removed]",
      "text/plain": [
       "<Figure size 360x360 with 2 Axes>"
      ]
     },
     "metadata": {
      "needs_background": "light"
     },
     "output_type": "display_data"
    }
   ],
   "source": [
    "plt.figure(figsize=(5,5))\n",
    "corr = faturamento_e_caracteristica.corr()\n",
    "x = corr[[\"price_string\"]]\n",
    "sns.heatmap(x, annot=True);"
   ]
  },
  {
   "cell_type": "code",
   "execution_count": 24,
   "id": "5e04f754",
   "metadata": {
    "ExecuteTime": {
     "end_time": "2022-01-17T21:03:42.046652Z",
     "start_time": "2022-01-17T21:03:42.024111Z"
    }
   },
   "outputs": [
    {
     "data": {
      "text/html": [
       "<div>\n",
       "<style scoped>\n",
       "    .dataframe tbody tr th:only-of-type {\n",
       "        vertical-align: middle;\n",
       "    }\n",
       "\n",
       "    .dataframe tbody tr th {\n",
       "        vertical-align: top;\n",
       "    }\n",
       "\n",
       "    .dataframe thead th {\n",
       "        text-align: right;\n",
       "    }\n",
       "</style>\n",
       "<table border=\"1\" class=\"dataframe\">\n",
       "  <thead>\n",
       "    <tr style=\"text-align: right;\">\n",
       "      <th></th>\n",
       "      <th>number_of_bathrooms</th>\n",
       "      <th>price_string</th>\n",
       "    </tr>\n",
       "  </thead>\n",
       "  <tbody>\n",
       "    <tr>\n",
       "      <th>0</th>\n",
       "      <td>0.0</td>\n",
       "      <td>17025.00</td>\n",
       "    </tr>\n",
       "    <tr>\n",
       "      <th>1</th>\n",
       "      <td>1.0</td>\n",
       "      <td>10113.68</td>\n",
       "    </tr>\n",
       "    <tr>\n",
       "      <th>2</th>\n",
       "      <td>2.0</td>\n",
       "      <td>14767.45</td>\n",
       "    </tr>\n",
       "    <tr>\n",
       "      <th>3</th>\n",
       "      <td>3.0</td>\n",
       "      <td>20579.04</td>\n",
       "    </tr>\n",
       "    <tr>\n",
       "      <th>4</th>\n",
       "      <td>4.0</td>\n",
       "      <td>18737.96</td>\n",
       "    </tr>\n",
       "    <tr>\n",
       "      <th>5</th>\n",
       "      <td>5.0</td>\n",
       "      <td>27376.00</td>\n",
       "    </tr>\n",
       "    <tr>\n",
       "      <th>6</th>\n",
       "      <td>6.0</td>\n",
       "      <td>30300.00</td>\n",
       "    </tr>\n",
       "  </tbody>\n",
       "</table>\n",
       "</div>"
      ],
      "text/plain": [
       "   number_of_bathrooms  price_string\n",
       "0                  0.0      17025.00\n",
       "1                  1.0      10113.68\n",
       "2                  2.0      14767.45\n",
       "3                  3.0      20579.04\n",
       "4                  4.0      18737.96\n",
       "5                  5.0      27376.00\n",
       "6                  6.0      30300.00"
      ]
     },
     "execution_count": 24,
     "metadata": {},
     "output_type": "execute_result"
    }
   ],
   "source": [
    "faturamento_medio_banheiro = faturamento_e_caracteristica[[\"number_of_bathrooms\", \"price_string\"]].groupby(\"number_of_bathrooms\").mean().reset_index()\n",
    "faturamento_medio_banheiro[\"price_string\"] = faturamento_medio_banheiro[\"price_string\"].round(2)\n",
    "faturamento_medio_banheiro"
   ]
  },
  {
   "cell_type": "code",
   "execution_count": 25,
   "id": "dd1ad224",
   "metadata": {
    "ExecuteTime": {
     "end_time": "2022-01-17T21:03:42.289683Z",
     "start_time": "2022-01-17T21:03:42.048535Z"
    }
   },
   "outputs": [
    {
     "data": {
      "image/png": "[encoded data removed]",
      "text/plain": [
       "<Figure size 432x288 with 1 Axes>"
      ]
     },
     "metadata": {
      "needs_background": "light"
     },
     "output_type": "display_data"
    }
   ],
   "source": [
    "faturamento_banheiro_grafico = sns.barplot(x=faturamento_medio_banheiro[\"number_of_bathrooms\"], y=faturamento_medio_banheiro[\"price_string\"]);\n",
    "faturamento_banheiro_grafico.set(xlabel=\"Número de banheiros\", ylabel=\"Faturamento médio\")\n",
    "plt.show()"
   ]
  },
  {
   "cell_type": "code",
   "execution_count": 26,
   "id": "f4f80440",
   "metadata": {
    "ExecuteTime": {
     "end_time": "2022-01-17T21:03:42.315900Z",
     "start_time": "2022-01-17T21:03:42.292649Z"
    }
   },
   "outputs": [
    {
     "data": {
      "text/html": [
       "<div>\n",
       "<style scoped>\n",
       "    .dataframe tbody tr th:only-of-type {\n",
       "        vertical-align: middle;\n",
       "    }\n",
       "\n",
       "    .dataframe tbody tr th {\n",
       "        vertical-align: top;\n",
       "    }\n",
       "\n",
       "    .dataframe thead th {\n",
       "        text-align: right;\n",
       "    }\n",
       "</style>\n",
       "<table border=\"1\" class=\"dataframe\">\n",
       "  <thead>\n",
       "    <tr style=\"text-align: right;\">\n",
       "      <th></th>\n",
       "      <th>number_of_bathrooms</th>\n",
       "      <th>airbnb_listing_id</th>\n",
       "    </tr>\n",
       "  </thead>\n",
       "  <tbody>\n",
       "    <tr>\n",
       "      <th>0</th>\n",
       "      <td>0.0</td>\n",
       "      <td>2</td>\n",
       "    </tr>\n",
       "    <tr>\n",
       "      <th>1</th>\n",
       "      <td>1.0</td>\n",
       "      <td>2052</td>\n",
       "    </tr>\n",
       "    <tr>\n",
       "      <th>2</th>\n",
       "      <td>2.0</td>\n",
       "      <td>1400</td>\n",
       "    </tr>\n",
       "    <tr>\n",
       "      <th>3</th>\n",
       "      <td>3.0</td>\n",
       "      <td>149</td>\n",
       "    </tr>\n",
       "    <tr>\n",
       "      <th>4</th>\n",
       "      <td>4.0</td>\n",
       "      <td>23</td>\n",
       "    </tr>\n",
       "    <tr>\n",
       "      <th>5</th>\n",
       "      <td>5.0</td>\n",
       "      <td>4</td>\n",
       "    </tr>\n",
       "    <tr>\n",
       "      <th>6</th>\n",
       "      <td>6.0</td>\n",
       "      <td>1</td>\n",
       "    </tr>\n",
       "  </tbody>\n",
       "</table>\n",
       "</div>"
      ],
      "text/plain": [
       "   number_of_bathrooms  airbnb_listing_id\n",
       "0                  0.0                  2\n",
       "1                  1.0               2052\n",
       "2                  2.0               1400\n",
       "3                  3.0                149\n",
       "4                  4.0                 23\n",
       "5                  5.0                  4\n",
       "6                  6.0                  1"
      ]
     },
     "execution_count": 26,
     "metadata": {},
     "output_type": "execute_result"
    }
   ],
   "source": [
    "listing_por_banheiro = faturamento_e_caracteristica[[\"airbnb_listing_id\", \"number_of_bathrooms\"]].groupby(\"number_of_bathrooms\").count().reset_index()\n",
    "listing_por_banheiro"
   ]
  },
  {
   "cell_type": "code",
   "execution_count": 27,
   "id": "108fbdef",
   "metadata": {
    "ExecuteTime": {
     "end_time": "2022-01-17T21:03:42.630709Z",
     "start_time": "2022-01-17T21:03:42.319349Z"
    }
   },
   "outputs": [
    {
     "data": {
      "image/png": "[encoded data removed]",
      "text/plain": [
       "<Figure size 432x288 with 1 Axes>"
      ]
     },
     "metadata": {
      "needs_background": "light"
     },
     "output_type": "display_data"
    }
   ],
   "source": [
    "listing_por_banheiro_grafico = sns.barplot(x=listing_por_banheiro[\"number_of_bathrooms\"], y=listing_por_banheiro[\"airbnb_listing_id\"]);\n",
    "listing_por_banheiro_grafico.set(xlabel=\"Número de banheiros\", ylabel=\"Contagem de listings\")\n",
    "plt.show()"
   ]
  },
  {
   "cell_type": "code",
   "execution_count": 28,
   "id": "263c7db0",
   "metadata": {
    "ExecuteTime": {
     "end_time": "2022-01-17T21:03:42.660460Z",
     "start_time": "2022-01-17T21:03:42.632970Z"
    }
   },
   "outputs": [
    {
     "data": {
      "text/html": [
       "<div>\n",
       "<style scoped>\n",
       "    .dataframe tbody tr th:only-of-type {\n",
       "        vertical-align: middle;\n",
       "    }\n",
       "\n",
       "    .dataframe tbody tr th {\n",
       "        vertical-align: top;\n",
       "    }\n",
       "\n",
       "    .dataframe thead th {\n",
       "        text-align: right;\n",
       "    }\n",
       "</style>\n",
       "<table border=\"1\" class=\"dataframe\">\n",
       "  <thead>\n",
       "    <tr style=\"text-align: right;\">\n",
       "      <th></th>\n",
       "      <th>number_of_bedrooms</th>\n",
       "      <th>price_string</th>\n",
       "    </tr>\n",
       "  </thead>\n",
       "  <tbody>\n",
       "    <tr>\n",
       "      <th>0</th>\n",
       "      <td>0.0</td>\n",
       "      <td>9238.42</td>\n",
       "    </tr>\n",
       "    <tr>\n",
       "      <th>1</th>\n",
       "      <td>1.0</td>\n",
       "      <td>10000.27</td>\n",
       "    </tr>\n",
       "    <tr>\n",
       "      <th>2</th>\n",
       "      <td>2.0</td>\n",
       "      <td>12950.32</td>\n",
       "    </tr>\n",
       "    <tr>\n",
       "      <th>3</th>\n",
       "      <td>3.0</td>\n",
       "      <td>18107.75</td>\n",
       "    </tr>\n",
       "    <tr>\n",
       "      <th>4</th>\n",
       "      <td>4.0</td>\n",
       "      <td>21354.76</td>\n",
       "    </tr>\n",
       "    <tr>\n",
       "      <th>5</th>\n",
       "      <td>5.0</td>\n",
       "      <td>20646.00</td>\n",
       "    </tr>\n",
       "  </tbody>\n",
       "</table>\n",
       "</div>"
      ],
      "text/plain": [
       "   number_of_bedrooms  price_string\n",
       "0                 0.0       9238.42\n",
       "1                 1.0      10000.27\n",
       "2                 2.0      12950.32\n",
       "3                 3.0      18107.75\n",
       "4                 4.0      21354.76\n",
       "5                 5.0      20646.00"
      ]
     },
     "execution_count": 28,
     "metadata": {},
     "output_type": "execute_result"
    }
   ],
   "source": [
    "faturamento_quarto = faturamento_e_caracteristica[[\"number_of_bedrooms\", \"price_string\"]].groupby(\"number_of_bedrooms\").mean().reset_index()\n",
    "faturamento_quarto[\"price_string\"] = faturamento_quarto[\"price_string\"].round(2)\n",
    "faturamento_quarto"
   ]
  },
  {
   "cell_type": "code",
   "execution_count": 29,
   "id": "c2e86ce1",
   "metadata": {
    "ExecuteTime": {
     "end_time": "2022-01-17T21:03:42.913739Z",
     "start_time": "2022-01-17T21:03:42.665136Z"
    }
   },
   "outputs": [
    {
     "data": {
      "image/png": "[encoded data removed]",
      "text/plain": [
       "<Figure size 432x288 with 1 Axes>"
      ]
     },
     "metadata": {
      "needs_background": "light"
     },
     "output_type": "display_data"
    }
   ],
   "source": [
    "faturamento_quarto_grafico = sns.barplot(x=faturamento_quarto[\"number_of_bedrooms\"], y=faturamento_quarto[\"price_string\"]);\n",
    "faturamento_quarto_grafico.set(xlabel=\"Número de quartos\", ylabel=\"Faturamento médio\")\n",
    "plt.show()"
   ]
  },
  {
   "cell_type": "code",
   "execution_count": 30,
   "id": "48f12699",
   "metadata": {
    "ExecuteTime": {
     "end_time": "2022-01-17T21:03:42.939340Z",
     "start_time": "2022-01-17T21:03:42.920757Z"
    }
   },
   "outputs": [
    {
     "data": {
      "text/html": [
       "<div>\n",
       "<style scoped>\n",
       "    .dataframe tbody tr th:only-of-type {\n",
       "        vertical-align: middle;\n",
       "    }\n",
       "\n",
       "    .dataframe tbody tr th {\n",
       "        vertical-align: top;\n",
       "    }\n",
       "\n",
       "    .dataframe thead th {\n",
       "        text-align: right;\n",
       "    }\n",
       "</style>\n",
       "<table border=\"1\" class=\"dataframe\">\n",
       "  <thead>\n",
       "    <tr style=\"text-align: right;\">\n",
       "      <th></th>\n",
       "      <th>number_of_bedrooms</th>\n",
       "      <th>airbnb_listing_id</th>\n",
       "    </tr>\n",
       "  </thead>\n",
       "  <tbody>\n",
       "    <tr>\n",
       "      <th>0</th>\n",
       "      <td>0.0</td>\n",
       "      <td>144</td>\n",
       "    </tr>\n",
       "    <tr>\n",
       "      <th>1</th>\n",
       "      <td>1.0</td>\n",
       "      <td>1393</td>\n",
       "    </tr>\n",
       "    <tr>\n",
       "      <th>2</th>\n",
       "      <td>2.0</td>\n",
       "      <td>1598</td>\n",
       "    </tr>\n",
       "    <tr>\n",
       "      <th>3</th>\n",
       "      <td>3.0</td>\n",
       "      <td>445</td>\n",
       "    </tr>\n",
       "    <tr>\n",
       "      <th>4</th>\n",
       "      <td>4.0</td>\n",
       "      <td>46</td>\n",
       "    </tr>\n",
       "    <tr>\n",
       "      <th>5</th>\n",
       "      <td>5.0</td>\n",
       "      <td>5</td>\n",
       "    </tr>\n",
       "  </tbody>\n",
       "</table>\n",
       "</div>"
      ],
      "text/plain": [
       "   number_of_bedrooms  airbnb_listing_id\n",
       "0                 0.0                144\n",
       "1                 1.0               1393\n",
       "2                 2.0               1598\n",
       "3                 3.0                445\n",
       "4                 4.0                 46\n",
       "5                 5.0                  5"
      ]
     },
     "execution_count": 30,
     "metadata": {},
     "output_type": "execute_result"
    }
   ],
   "source": [
    "listing_por_quarto = faturamento_e_caracteristica[[\"number_of_bedrooms\", \"airbnb_listing_id\"]].groupby(\"number_of_bedrooms\").count().reset_index()\n",
    "listing_por_quarto"
   ]
  },
  {
   "cell_type": "code",
   "execution_count": 31,
   "id": "222499e0",
   "metadata": {
    "ExecuteTime": {
     "end_time": "2022-01-17T21:03:43.232764Z",
     "start_time": "2022-01-17T21:03:42.946677Z"
    }
   },
   "outputs": [
    {
     "data": {
      "image/png": "[encoded data removed]",
      "text/plain": [
       "<Figure size 432x288 with 1 Axes>"
      ]
     },
     "metadata": {
      "needs_background": "light"
     },
     "output_type": "display_data"
    }
   ],
   "source": [
    "listing_por_quarto_grafico = sns.barplot(x=listing_por_quarto[\"number_of_bedrooms\"], y=listing_por_quarto[\"airbnb_listing_id\"]);\n",
    "listing_por_quarto_grafico.set(xlabel=\"Número de quartos\", ylabel=\"Contagem de listings\")\n",
    "plt.show()"
   ]
  },
  {
   "cell_type": "code",
   "execution_count": 32,
   "id": "f8354fc3",
   "metadata": {
    "ExecuteTime": {
     "end_time": "2022-01-17T21:03:43.258664Z",
     "start_time": "2022-01-17T21:03:43.235660Z"
    }
   },
   "outputs": [
    {
     "data": {
      "text/html": [
       "<div>\n",
       "<style scoped>\n",
       "    .dataframe tbody tr th:only-of-type {\n",
       "        vertical-align: middle;\n",
       "    }\n",
       "\n",
       "    .dataframe tbody tr th {\n",
       "        vertical-align: top;\n",
       "    }\n",
       "\n",
       "    .dataframe thead th {\n",
       "        text-align: right;\n",
       "    }\n",
       "</style>\n",
       "<table border=\"1\" class=\"dataframe\">\n",
       "  <thead>\n",
       "    <tr style=\"text-align: right;\">\n",
       "      <th></th>\n",
       "      <th>star_rating</th>\n",
       "      <th>price_string</th>\n",
       "    </tr>\n",
       "  </thead>\n",
       "  <tbody>\n",
       "    <tr>\n",
       "      <th>0</th>\n",
       "      <td>0.0</td>\n",
       "      <td>13266.63</td>\n",
       "    </tr>\n",
       "    <tr>\n",
       "      <th>1</th>\n",
       "      <td>3.0</td>\n",
       "      <td>18682.00</td>\n",
       "    </tr>\n",
       "    <tr>\n",
       "      <th>2</th>\n",
       "      <td>3.5</td>\n",
       "      <td>6220.00</td>\n",
       "    </tr>\n",
       "    <tr>\n",
       "      <th>3</th>\n",
       "      <td>4.0</td>\n",
       "      <td>9789.07</td>\n",
       "    </tr>\n",
       "    <tr>\n",
       "      <th>4</th>\n",
       "      <td>4.5</td>\n",
       "      <td>12266.74</td>\n",
       "    </tr>\n",
       "    <tr>\n",
       "      <th>5</th>\n",
       "      <td>5.0</td>\n",
       "      <td>11863.41</td>\n",
       "    </tr>\n",
       "  </tbody>\n",
       "</table>\n",
       "</div>"
      ],
      "text/plain": [
       "   star_rating  price_string\n",
       "0          0.0      13266.63\n",
       "1          3.0      18682.00\n",
       "2          3.5       6220.00\n",
       "3          4.0       9789.07\n",
       "4          4.5      12266.74\n",
       "5          5.0      11863.41"
      ]
     },
     "execution_count": 32,
     "metadata": {},
     "output_type": "execute_result"
    }
   ],
   "source": [
    "faturamento_rating = faturamento_e_caracteristica[[\"star_rating\", \"price_string\"]].groupby(\"star_rating\").mean().reset_index()\n",
    "faturamento_rating[\"price_string\"] = faturamento_rating[\"price_string\"].round(2)\n",
    "faturamento_rating"
   ]
  },
  {
   "cell_type": "code",
   "execution_count": 33,
   "id": "1bb4b925",
   "metadata": {
    "ExecuteTime": {
     "end_time": "2022-01-17T21:03:43.496901Z",
     "start_time": "2022-01-17T21:03:43.260446Z"
    }
   },
   "outputs": [
    {
     "data": {
      "image/png": "[encoded data removed]",
      "text/plain": [
       "<Figure size 432x288 with 1 Axes>"
      ]
     },
     "metadata": {
      "needs_background": "light"
     },
     "output_type": "display_data"
    }
   ],
   "source": [
    "faturamento_rating_grafico = sns.barplot(x=faturamento_rating[\"star_rating\"], y=faturamento_rating[\"price_string\"]);\n",
    "faturamento_rating_grafico.set(xlabel=\"Rating\", ylabel=\"Faturamento médio\")\n",
    "plt.show()"
   ]
  },
  {
   "cell_type": "code",
   "execution_count": 34,
   "id": "8551dcd3",
   "metadata": {
    "ExecuteTime": {
     "end_time": "2022-01-17T21:03:43.516362Z",
     "start_time": "2022-01-17T21:03:43.498878Z"
    }
   },
   "outputs": [
    {
     "data": {
      "text/html": [
       "<div>\n",
       "<style scoped>\n",
       "    .dataframe tbody tr th:only-of-type {\n",
       "        vertical-align: middle;\n",
       "    }\n",
       "\n",
       "    .dataframe tbody tr th {\n",
       "        vertical-align: top;\n",
       "    }\n",
       "\n",
       "    .dataframe thead th {\n",
       "        text-align: right;\n",
       "    }\n",
       "</style>\n",
       "<table border=\"1\" class=\"dataframe\">\n",
       "  <thead>\n",
       "    <tr style=\"text-align: right;\">\n",
       "      <th></th>\n",
       "      <th>star_rating</th>\n",
       "      <th>airbnb_listing_id</th>\n",
       "    </tr>\n",
       "  </thead>\n",
       "  <tbody>\n",
       "    <tr>\n",
       "      <th>0</th>\n",
       "      <td>0.0</td>\n",
       "      <td>1417</td>\n",
       "    </tr>\n",
       "    <tr>\n",
       "      <th>1</th>\n",
       "      <td>3.0</td>\n",
       "      <td>2</td>\n",
       "    </tr>\n",
       "    <tr>\n",
       "      <th>2</th>\n",
       "      <td>3.5</td>\n",
       "      <td>10</td>\n",
       "    </tr>\n",
       "    <tr>\n",
       "      <th>3</th>\n",
       "      <td>4.0</td>\n",
       "      <td>46</td>\n",
       "    </tr>\n",
       "    <tr>\n",
       "      <th>4</th>\n",
       "      <td>4.5</td>\n",
       "      <td>428</td>\n",
       "    </tr>\n",
       "    <tr>\n",
       "      <th>5</th>\n",
       "      <td>5.0</td>\n",
       "      <td>1728</td>\n",
       "    </tr>\n",
       "  </tbody>\n",
       "</table>\n",
       "</div>"
      ],
      "text/plain": [
       "   star_rating  airbnb_listing_id\n",
       "0          0.0               1417\n",
       "1          3.0                  2\n",
       "2          3.5                 10\n",
       "3          4.0                 46\n",
       "4          4.5                428\n",
       "5          5.0               1728"
      ]
     },
     "execution_count": 34,
     "metadata": {},
     "output_type": "execute_result"
    }
   ],
   "source": [
    "listing_por_rating = faturamento_e_caracteristica[[\"star_rating\", \"airbnb_listing_id\"]].groupby(\"star_rating\").count().reset_index()\n",
    "listing_por_rating"
   ]
  },
  {
   "cell_type": "code",
   "execution_count": 35,
   "id": "ac991549",
   "metadata": {
    "ExecuteTime": {
     "end_time": "2022-01-17T21:03:43.779803Z",
     "start_time": "2022-01-17T21:03:43.518277Z"
    }
   },
   "outputs": [
    {
     "data": {
      "image/png": "[encoded data removed]",
      "text/plain": [
       "<Figure size 432x288 with 1 Axes>"
      ]
     },
     "metadata": {
      "needs_background": "light"
     },
     "output_type": "display_data"
    }
   ],
   "source": [
    "listing_por_rating_grafico = sns.barplot(x=listing_por_rating[\"star_rating\"], y=listing_por_rating[\"airbnb_listing_id\"]);\n",
    "listing_por_rating_grafico.set(xlabel=\"Rating\", ylabel=\"Contagem de listings\")\n",
    "plt.show()"
   ]
  },
  {
   "cell_type": "code",
   "execution_count": 36,
   "id": "c495e636",
   "metadata": {
    "ExecuteTime": {
     "end_time": "2022-01-17T21:03:43.838448Z",
     "start_time": "2022-01-17T21:03:43.782974Z"
    }
   },
   "outputs": [
    {
     "data": {
      "text/html": [
       "<div>\n",
       "<style scoped>\n",
       "    .dataframe tbody tr th:only-of-type {\n",
       "        vertical-align: middle;\n",
       "    }\n",
       "\n",
       "    .dataframe tbody tr th {\n",
       "        vertical-align: top;\n",
       "    }\n",
       "\n",
       "    .dataframe thead th {\n",
       "        text-align: right;\n",
       "    }\n",
       "</style>\n",
       "<table border=\"1\" class=\"dataframe\">\n",
       "  <thead>\n",
       "    <tr style=\"text-align: right;\">\n",
       "      <th></th>\n",
       "      <th>number_of_reviews</th>\n",
       "      <th>price_string</th>\n",
       "      <th>range_of_reviews</th>\n",
       "    </tr>\n",
       "  </thead>\n",
       "  <tbody>\n",
       "    <tr>\n",
       "      <th>0</th>\n",
       "      <td>0.0</td>\n",
       "      <td>10217339.0</td>\n",
       "      <td>NaN</td>\n",
       "    </tr>\n",
       "    <tr>\n",
       "      <th>1</th>\n",
       "      <td>1.0</td>\n",
       "      <td>5792119.0</td>\n",
       "      <td>(0.0, 50.0]</td>\n",
       "    </tr>\n",
       "    <tr>\n",
       "      <th>2</th>\n",
       "      <td>2.0</td>\n",
       "      <td>2699185.0</td>\n",
       "      <td>(0.0, 50.0]</td>\n",
       "    </tr>\n",
       "    <tr>\n",
       "      <th>3</th>\n",
       "      <td>3.0</td>\n",
       "      <td>2619524.0</td>\n",
       "      <td>(0.0, 50.0]</td>\n",
       "    </tr>\n",
       "    <tr>\n",
       "      <th>4</th>\n",
       "      <td>4.0</td>\n",
       "      <td>1677722.0</td>\n",
       "      <td>(0.0, 50.0]</td>\n",
       "    </tr>\n",
       "    <tr>\n",
       "      <th>...</th>\n",
       "      <td>...</td>\n",
       "      <td>...</td>\n",
       "      <td>...</td>\n",
       "    </tr>\n",
       "    <tr>\n",
       "      <th>112</th>\n",
       "      <td>163.0</td>\n",
       "      <td>35760.0</td>\n",
       "      <td>(150.0, 200.0]</td>\n",
       "    </tr>\n",
       "    <tr>\n",
       "      <th>113</th>\n",
       "      <td>188.0</td>\n",
       "      <td>4768.0</td>\n",
       "      <td>(150.0, 200.0]</td>\n",
       "    </tr>\n",
       "    <tr>\n",
       "      <th>114</th>\n",
       "      <td>205.0</td>\n",
       "      <td>3040.0</td>\n",
       "      <td>(200.0, 250.0]</td>\n",
       "    </tr>\n",
       "    <tr>\n",
       "      <th>115</th>\n",
       "      <td>215.0</td>\n",
       "      <td>34244.0</td>\n",
       "      <td>(200.0, 250.0]</td>\n",
       "    </tr>\n",
       "    <tr>\n",
       "      <th>116</th>\n",
       "      <td>232.0</td>\n",
       "      <td>8150.0</td>\n",
       "      <td>(200.0, 250.0]</td>\n",
       "    </tr>\n",
       "  </tbody>\n",
       "</table>\n",
       "<p>117 rows × 3 columns</p>\n",
       "</div>"
      ],
      "text/plain": [
       "     number_of_reviews  price_string range_of_reviews\n",
       "0                  0.0    10217339.0              NaN\n",
       "1                  1.0     5792119.0      (0.0, 50.0]\n",
       "2                  2.0     2699185.0      (0.0, 50.0]\n",
       "3                  3.0     2619524.0      (0.0, 50.0]\n",
       "4                  4.0     1677722.0      (0.0, 50.0]\n",
       "..                 ...           ...              ...\n",
       "112              163.0       35760.0   (150.0, 200.0]\n",
       "113              188.0        4768.0   (150.0, 200.0]\n",
       "114              205.0        3040.0   (200.0, 250.0]\n",
       "115              215.0       34244.0   (200.0, 250.0]\n",
       "116              232.0        8150.0   (200.0, 250.0]\n",
       "\n",
       "[117 rows x 3 columns]"
      ]
     },
     "execution_count": 36,
     "metadata": {},
     "output_type": "execute_result"
    }
   ],
   "source": [
    "faturamento_reviews = faturamento_e_caracteristica[[\"number_of_reviews\", \"price_string\"]].groupby(\"number_of_reviews\").sum().reset_index()\n",
    "faturamento_reviews[\"range_of_reviews\"] = pd.cut(faturamento_reviews[\"number_of_reviews\"], np.arange(0, 300, 50))\n",
    "faturamento_reviews[\"price_string\"] = faturamento_reviews[\"price_string\"].round(2)\n",
    "faturamento_reviews"
   ]
  },
  {
   "cell_type": "code",
   "execution_count": 37,
   "id": "3cc00626",
   "metadata": {
    "ExecuteTime": {
     "end_time": "2022-01-17T21:03:43.855878Z",
     "start_time": "2022-01-17T21:03:43.841229Z"
    }
   },
   "outputs": [
    {
     "data": {
      "text/html": [
       "<div>\n",
       "<style scoped>\n",
       "    .dataframe tbody tr th:only-of-type {\n",
       "        vertical-align: middle;\n",
       "    }\n",
       "\n",
       "    .dataframe tbody tr th {\n",
       "        vertical-align: top;\n",
       "    }\n",
       "\n",
       "    .dataframe thead th {\n",
       "        text-align: right;\n",
       "    }\n",
       "</style>\n",
       "<table border=\"1\" class=\"dataframe\">\n",
       "  <thead>\n",
       "    <tr style=\"text-align: right;\">\n",
       "      <th></th>\n",
       "      <th>range_of_reviews</th>\n",
       "      <th>price_string</th>\n",
       "    </tr>\n",
       "  </thead>\n",
       "  <tbody>\n",
       "    <tr>\n",
       "      <th>0</th>\n",
       "      <td>(0, 50]</td>\n",
       "      <td>651468.420000</td>\n",
       "    </tr>\n",
       "    <tr>\n",
       "      <th>1</th>\n",
       "      <td>(50, 100]</td>\n",
       "      <td>40320.955556</td>\n",
       "    </tr>\n",
       "    <tr>\n",
       "      <th>2</th>\n",
       "      <td>(100, 150]</td>\n",
       "      <td>28385.857143</td>\n",
       "    </tr>\n",
       "    <tr>\n",
       "      <th>3</th>\n",
       "      <td>(150, 200]</td>\n",
       "      <td>12692.500000</td>\n",
       "    </tr>\n",
       "    <tr>\n",
       "      <th>4</th>\n",
       "      <td>(200, 250]</td>\n",
       "      <td>15144.666667</td>\n",
       "    </tr>\n",
       "  </tbody>\n",
       "</table>\n",
       "</div>"
      ],
      "text/plain": [
       "  range_of_reviews   price_string\n",
       "0          (0, 50]  651468.420000\n",
       "1        (50, 100]   40320.955556\n",
       "2       (100, 150]   28385.857143\n",
       "3       (150, 200]   12692.500000\n",
       "4       (200, 250]   15144.666667"
      ]
     },
     "execution_count": 37,
     "metadata": {},
     "output_type": "execute_result"
    }
   ],
   "source": [
    "faturamento_medio_reviews = faturamento_reviews[[\"range_of_reviews\", \"price_string\"]].groupby(\"range_of_reviews\").mean().reset_index()\n",
    "faturamento_medio_reviews"
   ]
  },
  {
   "cell_type": "code",
   "execution_count": 38,
   "id": "5d6b3846",
   "metadata": {
    "ExecuteTime": {
     "end_time": "2022-01-17T21:03:44.163807Z",
     "start_time": "2022-01-17T21:03:43.857749Z"
    }
   },
   "outputs": [
    {
     "data": {
      "image/png": "[encoded data removed]",
      "text/plain": [
       "<Figure size 432x288 with 1 Axes>"
      ]
     },
     "metadata": {
      "needs_background": "light"
     },
     "output_type": "display_data"
    }
   ],
   "source": [
    "faturamento_rating_reviews = sns.barplot(x=faturamento_medio_reviews[\"range_of_reviews\"], y=faturamento_medio_reviews[\"price_string\"]);\n",
    "faturamento_rating_reviews.set(xlabel=\"Alcance de Reviews\", ylabel=\"Faturamento médio\")\n",
    "plt.show()"
   ]
  },
  {
   "cell_type": "code",
   "execution_count": 39,
   "id": "2a9c9757",
   "metadata": {
    "ExecuteTime": {
     "end_time": "2022-01-17T21:03:44.211650Z",
     "start_time": "2022-01-17T21:03:44.166923Z"
    }
   },
   "outputs": [
    {
     "data": {
      "text/html": [
       "<div>\n",
       "<style scoped>\n",
       "    .dataframe tbody tr th:only-of-type {\n",
       "        vertical-align: middle;\n",
       "    }\n",
       "\n",
       "    .dataframe tbody tr th {\n",
       "        vertical-align: top;\n",
       "    }\n",
       "\n",
       "    .dataframe thead th {\n",
       "        text-align: right;\n",
       "    }\n",
       "</style>\n",
       "<table border=\"1\" class=\"dataframe\">\n",
       "  <thead>\n",
       "    <tr style=\"text-align: right;\">\n",
       "      <th></th>\n",
       "      <th>number_of_reviews</th>\n",
       "      <th>airbnb_listing_id</th>\n",
       "      <th>range_of_reviews</th>\n",
       "    </tr>\n",
       "  </thead>\n",
       "  <tbody>\n",
       "    <tr>\n",
       "      <th>0</th>\n",
       "      <td>0.0</td>\n",
       "      <td>761</td>\n",
       "      <td>NaN</td>\n",
       "    </tr>\n",
       "    <tr>\n",
       "      <th>1</th>\n",
       "      <td>1.0</td>\n",
       "      <td>426</td>\n",
       "      <td>(0.0, 50.0]</td>\n",
       "    </tr>\n",
       "    <tr>\n",
       "      <th>2</th>\n",
       "      <td>2.0</td>\n",
       "      <td>227</td>\n",
       "      <td>(0.0, 50.0]</td>\n",
       "    </tr>\n",
       "    <tr>\n",
       "      <th>3</th>\n",
       "      <td>3.0</td>\n",
       "      <td>201</td>\n",
       "      <td>(0.0, 50.0]</td>\n",
       "    </tr>\n",
       "    <tr>\n",
       "      <th>4</th>\n",
       "      <td>4.0</td>\n",
       "      <td>149</td>\n",
       "      <td>(0.0, 50.0]</td>\n",
       "    </tr>\n",
       "    <tr>\n",
       "      <th>...</th>\n",
       "      <td>...</td>\n",
       "      <td>...</td>\n",
       "      <td>...</td>\n",
       "    </tr>\n",
       "    <tr>\n",
       "      <th>112</th>\n",
       "      <td>163.0</td>\n",
       "      <td>2</td>\n",
       "      <td>(150.0, 200.0]</td>\n",
       "    </tr>\n",
       "    <tr>\n",
       "      <th>113</th>\n",
       "      <td>188.0</td>\n",
       "      <td>1</td>\n",
       "      <td>(150.0, 200.0]</td>\n",
       "    </tr>\n",
       "    <tr>\n",
       "      <th>114</th>\n",
       "      <td>205.0</td>\n",
       "      <td>1</td>\n",
       "      <td>(200.0, 250.0]</td>\n",
       "    </tr>\n",
       "    <tr>\n",
       "      <th>115</th>\n",
       "      <td>215.0</td>\n",
       "      <td>1</td>\n",
       "      <td>(200.0, 250.0]</td>\n",
       "    </tr>\n",
       "    <tr>\n",
       "      <th>116</th>\n",
       "      <td>232.0</td>\n",
       "      <td>1</td>\n",
       "      <td>(200.0, 250.0]</td>\n",
       "    </tr>\n",
       "  </tbody>\n",
       "</table>\n",
       "<p>117 rows × 3 columns</p>\n",
       "</div>"
      ],
      "text/plain": [
       "     number_of_reviews  airbnb_listing_id range_of_reviews\n",
       "0                  0.0                761              NaN\n",
       "1                  1.0                426      (0.0, 50.0]\n",
       "2                  2.0                227      (0.0, 50.0]\n",
       "3                  3.0                201      (0.0, 50.0]\n",
       "4                  4.0                149      (0.0, 50.0]\n",
       "..                 ...                ...              ...\n",
       "112              163.0                  2   (150.0, 200.0]\n",
       "113              188.0                  1   (150.0, 200.0]\n",
       "114              205.0                  1   (200.0, 250.0]\n",
       "115              215.0                  1   (200.0, 250.0]\n",
       "116              232.0                  1   (200.0, 250.0]\n",
       "\n",
       "[117 rows x 3 columns]"
      ]
     },
     "execution_count": 39,
     "metadata": {},
     "output_type": "execute_result"
    }
   ],
   "source": [
    "listing_por_reviews = faturamento_e_caracteristica[[\"number_of_reviews\", \"airbnb_listing_id\"]].groupby(\"number_of_reviews\").count().reset_index()\n",
    "listing_por_reviews[\"range_of_reviews\"] = pd.cut(listing_por_reviews[\"number_of_reviews\"], np.arange(0, 300, 50))\n",
    "listing_por_reviews"
   ]
  },
  {
   "cell_type": "code",
   "execution_count": 40,
   "id": "d5782e9f",
   "metadata": {
    "ExecuteTime": {
     "end_time": "2022-01-17T21:03:44.239992Z",
     "start_time": "2022-01-17T21:03:44.215109Z"
    }
   },
   "outputs": [
    {
     "data": {
      "text/html": [
       "<div>\n",
       "<style scoped>\n",
       "    .dataframe tbody tr th:only-of-type {\n",
       "        vertical-align: middle;\n",
       "    }\n",
       "\n",
       "    .dataframe tbody tr th {\n",
       "        vertical-align: top;\n",
       "    }\n",
       "\n",
       "    .dataframe thead th {\n",
       "        text-align: right;\n",
       "    }\n",
       "</style>\n",
       "<table border=\"1\" class=\"dataframe\">\n",
       "  <thead>\n",
       "    <tr style=\"text-align: right;\">\n",
       "      <th></th>\n",
       "      <th>range_of_reviews</th>\n",
       "      <th>airbnb_listing_id</th>\n",
       "    </tr>\n",
       "  </thead>\n",
       "  <tbody>\n",
       "    <tr>\n",
       "      <th>0</th>\n",
       "      <td>(0, 50]</td>\n",
       "      <td>50</td>\n",
       "    </tr>\n",
       "    <tr>\n",
       "      <th>1</th>\n",
       "      <td>(50, 100]</td>\n",
       "      <td>45</td>\n",
       "    </tr>\n",
       "    <tr>\n",
       "      <th>2</th>\n",
       "      <td>(100, 150]</td>\n",
       "      <td>14</td>\n",
       "    </tr>\n",
       "    <tr>\n",
       "      <th>3</th>\n",
       "      <td>(150, 200]</td>\n",
       "      <td>4</td>\n",
       "    </tr>\n",
       "    <tr>\n",
       "      <th>4</th>\n",
       "      <td>(200, 250]</td>\n",
       "      <td>3</td>\n",
       "    </tr>\n",
       "  </tbody>\n",
       "</table>\n",
       "</div>"
      ],
      "text/plain": [
       "  range_of_reviews  airbnb_listing_id\n",
       "0          (0, 50]                 50\n",
       "1        (50, 100]                 45\n",
       "2       (100, 150]                 14\n",
       "3       (150, 200]                  4\n",
       "4       (200, 250]                  3"
      ]
     },
     "execution_count": 40,
     "metadata": {},
     "output_type": "execute_result"
    }
   ],
   "source": [
    "listing_alcance_reviews = listing_por_reviews[[\"range_of_reviews\", \"airbnb_listing_id\"]].groupby(\"range_of_reviews\").count().reset_index()\n",
    "listing_alcance_reviews"
   ]
  },
  {
   "cell_type": "code",
   "execution_count": 41,
   "id": "c55f483a",
   "metadata": {
    "ExecuteTime": {
     "end_time": "2022-01-17T21:03:44.499831Z",
     "start_time": "2022-01-17T21:03:44.242718Z"
    }
   },
   "outputs": [
    {
     "data": {
      "image/png": "[encoded data removed]",
      "text/plain": [
       "<Figure size 432x288 with 1 Axes>"
      ]
     },
     "metadata": {
      "needs_background": "light"
     },
     "output_type": "display_data"
    }
   ],
   "source": [
    "listing_por_reviews_grafico = sns.barplot(x=listing_alcance_reviews[\"range_of_reviews\"], y=listing_alcance_reviews[\"airbnb_listing_id\"]);\n",
    "listing_por_reviews_grafico.set(xlabel=\"Alcance de reviews\", ylabel=\"Contagem de listings\")\n",
    "plt.show()"
   ]
  },
  {
   "cell_type": "code",
   "execution_count": 42,
   "id": "6ffb1014",
   "metadata": {
    "ExecuteTime": {
     "end_time": "2022-01-17T21:03:45.010190Z",
     "start_time": "2022-01-17T21:03:44.504055Z"
    }
   },
   "outputs": [],
   "source": [
    "faturamento_superhost = 0\n",
    "faturamento_nao_superhost = 0\n",
    "contador_superhost = 0\n",
    "contador_nao_superhost = 0\n",
    "for i in range(len(faturamento_e_caracteristica[\"is_superhost\"])):\n",
    "    if faturamento_e_caracteristica.iloc[i, 5] != 0:\n",
    "        faturamento_superhost += faturamento_e_caracteristica.iloc[i, 6]\n",
    "        contador_superhost += 1\n",
    "    else:\n",
    "        faturamento_nao_superhost += faturamento_e_caracteristica.iloc[i, 6]\n",
    "        contador_nao_superhost += 1\n",
    "\n",
    "faturamento_superhost_medio = faturamento_superhost / contador_superhost\n",
    "faturamento_nao_superhost_medio = faturamento_nao_superhost / contador_nao_superhost"
   ]
  },
  {
   "cell_type": "code",
   "execution_count": 43,
   "id": "d322d35e",
   "metadata": {
    "ExecuteTime": {
     "end_time": "2022-01-17T21:03:45.017325Z",
     "start_time": "2022-01-17T21:03:45.011672Z"
    }
   },
   "outputs": [
    {
     "name": "stdout",
     "output_type": "stream",
     "text": [
      "Não Superhost\n",
      "Faturamento médio: 13883.80\n",
      "Faturamento total: 33085098.00\n",
      "Número total: 2383\n"
     ]
    }
   ],
   "source": [
    "print(\"Não Superhost\")\n",
    "print(f\"Faturamento médio: {faturamento_nao_superhost_medio:.2f}\\nFaturamento total: {faturamento_nao_superhost:.2f}\\nNúmero total: {contador_nao_superhost}\")"
   ]
  },
  {
   "cell_type": "code",
   "execution_count": 44,
   "id": "82e8af9a",
   "metadata": {
    "ExecuteTime": {
     "end_time": "2022-01-17T21:03:45.028663Z",
     "start_time": "2022-01-17T21:03:45.021853Z"
    }
   },
   "outputs": [
    {
     "name": "stdout",
     "output_type": "stream",
     "text": [
      "Superhost\n",
      "Faturamento médio: 9626.37\n",
      "Faturamento total: 12013711.00\n",
      "Número total: 1248\n"
     ]
    }
   ],
   "source": [
    "print(\"Superhost\")\n",
    "print(f\"Faturamento médio: {faturamento_superhost_medio:.2f}\\nFaturamento total: {faturamento_superhost:.2f}\\nNúmero total: {contador_superhost}\")"
   ]
  },
  {
   "cell_type": "markdown",
   "id": "00a32344",
   "metadata": {},
   "source": [
    "# Questão 4"
   ]
  },
  {
   "cell_type": "code",
   "execution_count": 45,
   "id": "0b328c6f",
   "metadata": {
    "ExecuteTime": {
     "end_time": "2022-01-17T21:03:45.137537Z",
     "start_time": "2022-01-17T21:03:45.032793Z"
    }
   },
   "outputs": [
    {
     "data": {
      "text/plain": [
       "Timedelta('30 days 11:23:11.511035653')"
      ]
     },
     "execution_count": 45,
     "metadata": {},
     "output_type": "execute_result"
    }
   ],
   "source": [
    "datas = relacoes_numericas[[\"airbnb_listing_id\", \"booked_on\", \"date\"]].groupby([\"airbnb_listing_id\", \"booked_on\"], sort=False)[\"date\"].min().sort_values().reset_index()\n",
    "datas[\"weekday_rent\"] = datas[\"date\"].dt.dayofweek\n",
    "datas[\"diferenca\"] = (datas.date - datas.booked_on)\n",
    "datas = datas[datas.diferenca != \"0 days\"]\n",
    "datas[\"diferenca\"].mean()"
   ]
  },
  {
   "cell_type": "code",
   "execution_count": 46,
   "id": "329b6f0d",
   "metadata": {
    "ExecuteTime": {
     "end_time": "2022-01-17T21:03:45.167543Z",
     "start_time": "2022-01-17T21:03:45.143662Z"
    }
   },
   "outputs": [
    {
     "data": {
      "text/plain": [
       "Timedelta('32 days 15:15:34.468085106')"
      ]
     },
     "execution_count": 46,
     "metadata": {},
     "output_type": "execute_result"
    }
   ],
   "source": [
    "datas_final_de_semana = datas[datas.weekday_rent > 4]\n",
    "datas_final_de_semana = datas_final_de_semana[datas_final_de_semana.diferenca != \"0 days\"]\n",
    "datas_final_de_semana[\"diferenca\"].mean()"
   ]
  },
  {
   "cell_type": "code",
   "execution_count": 48,
   "id": "6220eea4",
   "metadata": {
    "ExecuteTime": {
     "end_time": "2022-01-17T21:04:04.290765Z",
     "start_time": "2022-01-17T21:04:04.259837Z"
    }
   },
   "outputs": [
    {
     "data": {
      "text/html": [
       "<div>\n",
       "<style scoped>\n",
       "    .dataframe tbody tr th:only-of-type {\n",
       "        vertical-align: middle;\n",
       "    }\n",
       "\n",
       "    .dataframe tbody tr th {\n",
       "        vertical-align: top;\n",
       "    }\n",
       "\n",
       "    .dataframe thead th {\n",
       "        text-align: right;\n",
       "    }\n",
       "</style>\n",
       "<table border=\"1\" class=\"dataframe\">\n",
       "  <thead>\n",
       "    <tr style=\"text-align: right;\">\n",
       "      <th></th>\n",
       "      <th>airbnb_listing_id</th>\n",
       "      <th>booked_on</th>\n",
       "      <th>date</th>\n",
       "      <th>weekday_rent</th>\n",
       "      <th>diferenca</th>\n",
       "      <th>int_diff</th>\n",
       "      <th>int_diff_var</th>\n",
       "    </tr>\n",
       "  </thead>\n",
       "  <tbody>\n",
       "    <tr>\n",
       "      <th>1</th>\n",
       "      <td>1562295</td>\n",
       "      <td>2020-10-19</td>\n",
       "      <td>2020-11-02</td>\n",
       "      <td>0</td>\n",
       "      <td>14 days</td>\n",
       "      <td>1209600000000000</td>\n",
       "      <td>0 days</td>\n",
       "    </tr>\n",
       "    <tr>\n",
       "      <th>2</th>\n",
       "      <td>38025601</td>\n",
       "      <td>2020-04-01</td>\n",
       "      <td>2020-11-02</td>\n",
       "      <td>0</td>\n",
       "      <td>215 days</td>\n",
       "      <td>18576000000000000</td>\n",
       "      <td>0 days</td>\n",
       "    </tr>\n",
       "    <tr>\n",
       "      <th>5</th>\n",
       "      <td>37323841</td>\n",
       "      <td>2020-10-28</td>\n",
       "      <td>2020-11-02</td>\n",
       "      <td>0</td>\n",
       "      <td>5 days</td>\n",
       "      <td>432000000000000</td>\n",
       "      <td>0 days</td>\n",
       "    </tr>\n",
       "    <tr>\n",
       "      <th>8</th>\n",
       "      <td>38741901</td>\n",
       "      <td>2020-10-30</td>\n",
       "      <td>2020-11-02</td>\n",
       "      <td>0</td>\n",
       "      <td>3 days</td>\n",
       "      <td>259200000000000</td>\n",
       "      <td>0 days</td>\n",
       "    </tr>\n",
       "    <tr>\n",
       "      <th>10</th>\n",
       "      <td>22267761</td>\n",
       "      <td>2020-09-22</td>\n",
       "      <td>2020-11-02</td>\n",
       "      <td>0</td>\n",
       "      <td>41 days</td>\n",
       "      <td>3542400000000000</td>\n",
       "      <td>0 days</td>\n",
       "    </tr>\n",
       "    <tr>\n",
       "      <th>...</th>\n",
       "      <td>...</td>\n",
       "      <td>...</td>\n",
       "      <td>...</td>\n",
       "      <td>...</td>\n",
       "      <td>...</td>\n",
       "      <td>...</td>\n",
       "      <td>...</td>\n",
       "    </tr>\n",
       "    <tr>\n",
       "      <th>60398</th>\n",
       "      <td>40404985</td>\n",
       "      <td>2021-03-28</td>\n",
       "      <td>2021-03-30</td>\n",
       "      <td>1</td>\n",
       "      <td>2 days</td>\n",
       "      <td>172800000000000</td>\n",
       "      <td>0 days</td>\n",
       "    </tr>\n",
       "    <tr>\n",
       "      <th>60399</th>\n",
       "      <td>7592486</td>\n",
       "      <td>2021-03-29</td>\n",
       "      <td>2021-03-30</td>\n",
       "      <td>1</td>\n",
       "      <td>1 days</td>\n",
       "      <td>86400000000000</td>\n",
       "      <td>0 days</td>\n",
       "    </tr>\n",
       "    <tr>\n",
       "      <th>60405</th>\n",
       "      <td>29365104</td>\n",
       "      <td>2021-03-29</td>\n",
       "      <td>2021-03-30</td>\n",
       "      <td>1</td>\n",
       "      <td>1 days</td>\n",
       "      <td>86400000000000</td>\n",
       "      <td>0 days</td>\n",
       "    </tr>\n",
       "    <tr>\n",
       "      <th>60408</th>\n",
       "      <td>31352490</td>\n",
       "      <td>2020-04-03</td>\n",
       "      <td>2021-03-30</td>\n",
       "      <td>1</td>\n",
       "      <td>361 days</td>\n",
       "      <td>31190400000000000</td>\n",
       "      <td>0 days</td>\n",
       "    </tr>\n",
       "    <tr>\n",
       "      <th>60409</th>\n",
       "      <td>37940040</td>\n",
       "      <td>2021-03-29</td>\n",
       "      <td>2021-03-30</td>\n",
       "      <td>1</td>\n",
       "      <td>1 days</td>\n",
       "      <td>86400000000000</td>\n",
       "      <td>0 days</td>\n",
       "    </tr>\n",
       "  </tbody>\n",
       "</table>\n",
       "<p>21204 rows × 7 columns</p>\n",
       "</div>"
      ],
      "text/plain": [
       "       airbnb_listing_id  booked_on       date  weekday_rent diferenca  \\\n",
       "1                1562295 2020-10-19 2020-11-02             0   14 days   \n",
       "2               38025601 2020-04-01 2020-11-02             0  215 days   \n",
       "5               37323841 2020-10-28 2020-11-02             0    5 days   \n",
       "8               38741901 2020-10-30 2020-11-02             0    3 days   \n",
       "10              22267761 2020-09-22 2020-11-02             0   41 days   \n",
       "...                  ...        ...        ...           ...       ...   \n",
       "60398           40404985 2021-03-28 2021-03-30             1    2 days   \n",
       "60399            7592486 2021-03-29 2021-03-30             1    1 days   \n",
       "60405           29365104 2021-03-29 2021-03-30             1    1 days   \n",
       "60408           31352490 2020-04-03 2021-03-30             1  361 days   \n",
       "60409           37940040 2021-03-29 2021-03-30             1    1 days   \n",
       "\n",
       "                int_diff int_diff_var  \n",
       "1       1209600000000000       0 days  \n",
       "2      18576000000000000       0 days  \n",
       "5        432000000000000       0 days  \n",
       "8        259200000000000       0 days  \n",
       "10      3542400000000000       0 days  \n",
       "...                  ...          ...  \n",
       "60398    172800000000000       0 days  \n",
       "60399     86400000000000       0 days  \n",
       "60405     86400000000000       0 days  \n",
       "60408  31190400000000000       0 days  \n",
       "60409     86400000000000       0 days  \n",
       "\n",
       "[21204 rows x 7 columns]"
      ]
     },
     "execution_count": 48,
     "metadata": {},
     "output_type": "execute_result"
    }
   ],
   "source": [
    "datas[\"int_diff\"] = datas[\"diferenca\"].values.astype(np.int64)\n",
    "datas[\"int_diff_var\"] = datas[\"int_diff\"].var()\n",
    "datas[\"int_diff_var\"] = pd.to_timedelta(datas[\"int_diff_var\"])\n",
    "datas"
   ]
  },
  {
   "cell_type": "code",
   "execution_count": null,
   "id": "d1409f8e",
   "metadata": {},
   "outputs": [],
   "source": []
  }
 ],
 "metadata": {
  "kernelspec": {
   "display_name": "Python 3 (ipykernel)",
   "language": "python",
   "name": "python3"
  },
  "language_info": {
   "codemirror_mode": {
    "name": "ipython",
    "version": 3
   },
   "file_extension": ".py",
   "mimetype": "text/x-python",
   "name": "python",
   "nbconvert_exporter": "python",
   "pygments_lexer": "ipython3",
   "version": "3.8.5"
  }
 },
 "nbformat": 4,
 "nbformat_minor": 5
}
