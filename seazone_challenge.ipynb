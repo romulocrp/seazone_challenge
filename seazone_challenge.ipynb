{
 "cells": [
  {
   "cell_type": "code",
   "execution_count": 1,
   "id": "f9284268",
   "metadata": {
    "ExecuteTime": {
     "end_time": "2022-01-16T21:18:24.447585Z",
     "start_time": "2022-01-16T21:18:19.021703Z"
    }
   },
   "outputs": [],
   "source": [
    "import pandas as pd\n",
    "import numpy as np\n",
    "import seaborn as sns\n",
    "import matplotlib.pyplot as plt"
   ]
  },
  {
   "cell_type": "code",
   "execution_count": 2,
   "id": "4471fadf",
   "metadata": {
    "ExecuteTime": {
     "end_time": "2022-01-16T21:18:24.635439Z",
     "start_time": "2022-01-16T21:18:24.450511Z"
    }
   },
   "outputs": [
    {
     "data": {
      "text/html": [
       "<div>\n",
       "<style scoped>\n",
       "    .dataframe tbody tr th:only-of-type {\n",
       "        vertical-align: middle;\n",
       "    }\n",
       "\n",
       "    .dataframe tbody tr th {\n",
       "        vertical-align: top;\n",
       "    }\n",
       "\n",
       "    .dataframe thead th {\n",
       "        text-align: right;\n",
       "    }\n",
       "</style>\n",
       "<table border=\"1\" class=\"dataframe\">\n",
       "  <thead>\n",
       "    <tr style=\"text-align: right;\">\n",
       "      <th></th>\n",
       "      <th>Unnamed: 0</th>\n",
       "      <th>airbnb_listing_id</th>\n",
       "      <th>suburb</th>\n",
       "      <th>ad_name</th>\n",
       "      <th>number_of_bedrooms</th>\n",
       "      <th>number_of_bathrooms</th>\n",
       "      <th>star_rating</th>\n",
       "      <th>is_superhost</th>\n",
       "      <th>number_of_reviews</th>\n",
       "    </tr>\n",
       "  </thead>\n",
       "  <tbody>\n",
       "    <tr>\n",
       "      <th>0</th>\n",
       "      <td>0</td>\n",
       "      <td>31389869</td>\n",
       "      <td>Jurerê</td>\n",
       "      <td>Lindo Apartamento em Jurerê</td>\n",
       "      <td>2.0</td>\n",
       "      <td>2.0</td>\n",
       "      <td>5.0</td>\n",
       "      <td>False</td>\n",
       "      <td>15.0</td>\n",
       "    </tr>\n",
       "    <tr>\n",
       "      <th>1</th>\n",
       "      <td>1</td>\n",
       "      <td>40010667</td>\n",
       "      <td>Canasvieiras</td>\n",
       "      <td>Residencial Arruda, 1 quarto</td>\n",
       "      <td>1.0</td>\n",
       "      <td>1.0</td>\n",
       "      <td>NaN</td>\n",
       "      <td>False</td>\n",
       "      <td>0.0</td>\n",
       "    </tr>\n",
       "    <tr>\n",
       "      <th>2</th>\n",
       "      <td>2</td>\n",
       "      <td>38905997</td>\n",
       "      <td>Ingleses</td>\n",
       "      <td>Apartamento NOVO Completo - Moderno e Sofisticado</td>\n",
       "      <td>1.0</td>\n",
       "      <td>1.0</td>\n",
       "      <td>4.5</td>\n",
       "      <td>True</td>\n",
       "      <td>13.0</td>\n",
       "    </tr>\n",
       "    <tr>\n",
       "      <th>3</th>\n",
       "      <td>3</td>\n",
       "      <td>22343656</td>\n",
       "      <td>Ingleses</td>\n",
       "      <td>06- Apartamento 02 habitaciones</td>\n",
       "      <td>2.0</td>\n",
       "      <td>1.0</td>\n",
       "      <td>5.0</td>\n",
       "      <td>True</td>\n",
       "      <td>28.0</td>\n",
       "    </tr>\n",
       "    <tr>\n",
       "      <th>4</th>\n",
       "      <td>4</td>\n",
       "      <td>18328184</td>\n",
       "      <td>Canasvieiras</td>\n",
       "      <td>Apto 2 quartos em Canasvieiras, Florianopolis!</td>\n",
       "      <td>2.0</td>\n",
       "      <td>1.0</td>\n",
       "      <td>5.0</td>\n",
       "      <td>True</td>\n",
       "      <td>35.0</td>\n",
       "    </tr>\n",
       "    <tr>\n",
       "      <th>...</th>\n",
       "      <td>...</td>\n",
       "      <td>...</td>\n",
       "      <td>...</td>\n",
       "      <td>...</td>\n",
       "      <td>...</td>\n",
       "      <td>...</td>\n",
       "      <td>...</td>\n",
       "      <td>...</td>\n",
       "      <td>...</td>\n",
       "    </tr>\n",
       "    <tr>\n",
       "      <th>4686</th>\n",
       "      <td>4686</td>\n",
       "      <td>34392248</td>\n",
       "      <td>Ingleses</td>\n",
       "      <td>Lindo e acogedor apto en zona norte de la Isla</td>\n",
       "      <td>2.0</td>\n",
       "      <td>2.0</td>\n",
       "      <td>NaN</td>\n",
       "      <td>False</td>\n",
       "      <td>0.0</td>\n",
       "    </tr>\n",
       "    <tr>\n",
       "      <th>4687</th>\n",
       "      <td>4687</td>\n",
       "      <td>44538969</td>\n",
       "      <td>Canasvieiras</td>\n",
       "      <td>Ótimo apto no centro de Canas, a 450m do mar</td>\n",
       "      <td>1.0</td>\n",
       "      <td>1.0</td>\n",
       "      <td>NaN</td>\n",
       "      <td>False</td>\n",
       "      <td>0.0</td>\n",
       "    </tr>\n",
       "    <tr>\n",
       "      <th>4688</th>\n",
       "      <td>4688</td>\n",
       "      <td>16609826</td>\n",
       "      <td>Jurerê</td>\n",
       "      <td>Agradável Apartamento em Jurerê Internacional</td>\n",
       "      <td>3.0</td>\n",
       "      <td>2.0</td>\n",
       "      <td>5.0</td>\n",
       "      <td>True</td>\n",
       "      <td>30.0</td>\n",
       "    </tr>\n",
       "    <tr>\n",
       "      <th>4689</th>\n",
       "      <td>4689</td>\n",
       "      <td>31239515</td>\n",
       "      <td>Canasvieiras</td>\n",
       "      <td>Cobertura no centro 3 dormitorios com AR.</td>\n",
       "      <td>3.0</td>\n",
       "      <td>2.0</td>\n",
       "      <td>NaN</td>\n",
       "      <td>True</td>\n",
       "      <td>2.0</td>\n",
       "    </tr>\n",
       "    <tr>\n",
       "      <th>4690</th>\n",
       "      <td>4690</td>\n",
       "      <td>5078051</td>\n",
       "      <td>Ingleses</td>\n",
       "      <td>APARTAMENTO A 400 M DA PRAIA</td>\n",
       "      <td>2.0</td>\n",
       "      <td>2.0</td>\n",
       "      <td>5.0</td>\n",
       "      <td>False</td>\n",
       "      <td>18.0</td>\n",
       "    </tr>\n",
       "  </tbody>\n",
       "</table>\n",
       "<p>4691 rows × 9 columns</p>\n",
       "</div>"
      ],
      "text/plain": [
       "      Unnamed: 0  airbnb_listing_id        suburb  \\\n",
       "0              0           31389869        Jurerê   \n",
       "1              1           40010667  Canasvieiras   \n",
       "2              2           38905997      Ingleses   \n",
       "3              3           22343656      Ingleses   \n",
       "4              4           18328184  Canasvieiras   \n",
       "...          ...                ...           ...   \n",
       "4686        4686           34392248      Ingleses   \n",
       "4687        4687           44538969  Canasvieiras   \n",
       "4688        4688           16609826        Jurerê   \n",
       "4689        4689           31239515  Canasvieiras   \n",
       "4690        4690            5078051      Ingleses   \n",
       "\n",
       "                                                ad_name  number_of_bedrooms  \\\n",
       "0                           Lindo Apartamento em Jurerê                 2.0   \n",
       "1                          Residencial Arruda, 1 quarto                 1.0   \n",
       "2     Apartamento NOVO Completo - Moderno e Sofisticado                 1.0   \n",
       "3                       06- Apartamento 02 habitaciones                 2.0   \n",
       "4        Apto 2 quartos em Canasvieiras, Florianopolis!                 2.0   \n",
       "...                                                 ...                 ...   \n",
       "4686     Lindo e acogedor apto en zona norte de la Isla                 2.0   \n",
       "4687       Ótimo apto no centro de Canas, a 450m do mar                 1.0   \n",
       "4688      Agradável Apartamento em Jurerê Internacional                 3.0   \n",
       "4689          Cobertura no centro 3 dormitorios com AR.                 3.0   \n",
       "4690                       APARTAMENTO A 400 M DA PRAIA                 2.0   \n",
       "\n",
       "      number_of_bathrooms  star_rating  is_superhost  number_of_reviews  \n",
       "0                     2.0          5.0         False               15.0  \n",
       "1                     1.0          NaN         False                0.0  \n",
       "2                     1.0          4.5          True               13.0  \n",
       "3                     1.0          5.0          True               28.0  \n",
       "4                     1.0          5.0          True               35.0  \n",
       "...                   ...          ...           ...                ...  \n",
       "4686                  2.0          NaN         False                0.0  \n",
       "4687                  1.0          NaN         False                0.0  \n",
       "4688                  2.0          5.0          True               30.0  \n",
       "4689                  2.0          NaN          True                2.0  \n",
       "4690                  2.0          5.0         False               18.0  \n",
       "\n",
       "[4691 rows x 9 columns]"
      ]
     },
     "execution_count": 2,
     "metadata": {},
     "output_type": "execute_result"
    }
   ],
   "source": [
    "desafio_details_df = pd.read_csv(\"desafio_details.csv\")\n",
    "desafio_details_df"
   ]
  },
  {
   "cell_type": "code",
   "execution_count": 3,
   "id": "ac35e973",
   "metadata": {
    "ExecuteTime": {
     "end_time": "2022-01-16T21:18:25.131358Z",
     "start_time": "2022-01-16T21:18:24.637716Z"
    }
   },
   "outputs": [
    {
     "data": {
      "text/html": [
       "<div>\n",
       "<style scoped>\n",
       "    .dataframe tbody tr th:only-of-type {\n",
       "        vertical-align: middle;\n",
       "    }\n",
       "\n",
       "    .dataframe tbody tr th {\n",
       "        vertical-align: top;\n",
       "    }\n",
       "\n",
       "    .dataframe thead th {\n",
       "        text-align: right;\n",
       "    }\n",
       "</style>\n",
       "<table border=\"1\" class=\"dataframe\">\n",
       "  <thead>\n",
       "    <tr style=\"text-align: right;\">\n",
       "      <th></th>\n",
       "      <th>Unnamed: 0</th>\n",
       "      <th>Unnamed: 0.1</th>\n",
       "      <th>airbnb_listing_id</th>\n",
       "      <th>booked_on</th>\n",
       "      <th>date</th>\n",
       "      <th>price_string</th>\n",
       "      <th>occupied</th>\n",
       "    </tr>\n",
       "  </thead>\n",
       "  <tbody>\n",
       "    <tr>\n",
       "      <th>0</th>\n",
       "      <td>0</td>\n",
       "      <td>2148</td>\n",
       "      <td>40201349</td>\n",
       "      <td>blank</td>\n",
       "      <td>2020-11-15</td>\n",
       "      <td>250.0</td>\n",
       "      <td>0</td>\n",
       "    </tr>\n",
       "    <tr>\n",
       "      <th>1</th>\n",
       "      <td>1</td>\n",
       "      <td>2159</td>\n",
       "      <td>40201349</td>\n",
       "      <td>blank</td>\n",
       "      <td>2020-11-26</td>\n",
       "      <td>250.0</td>\n",
       "      <td>0</td>\n",
       "    </tr>\n",
       "    <tr>\n",
       "      <th>2</th>\n",
       "      <td>2</td>\n",
       "      <td>2160</td>\n",
       "      <td>40201349</td>\n",
       "      <td>blank</td>\n",
       "      <td>2020-11-27</td>\n",
       "      <td>250.0</td>\n",
       "      <td>0</td>\n",
       "    </tr>\n",
       "    <tr>\n",
       "      <th>3</th>\n",
       "      <td>3</td>\n",
       "      <td>2173</td>\n",
       "      <td>40201349</td>\n",
       "      <td>blank</td>\n",
       "      <td>2020-12-10</td>\n",
       "      <td>250.0</td>\n",
       "      <td>0</td>\n",
       "    </tr>\n",
       "    <tr>\n",
       "      <th>4</th>\n",
       "      <td>4</td>\n",
       "      <td>2226</td>\n",
       "      <td>40201349</td>\n",
       "      <td>blank</td>\n",
       "      <td>2021-02-01</td>\n",
       "      <td>250.0</td>\n",
       "      <td>0</td>\n",
       "    </tr>\n",
       "    <tr>\n",
       "      <th>...</th>\n",
       "      <td>...</td>\n",
       "      <td>...</td>\n",
       "      <td>...</td>\n",
       "      <td>...</td>\n",
       "      <td>...</td>\n",
       "      <td>...</td>\n",
       "      <td>...</td>\n",
       "    </tr>\n",
       "    <tr>\n",
       "      <th>354515</th>\n",
       "      <td>64596</td>\n",
       "      <td>4298115</td>\n",
       "      <td>40199361</td>\n",
       "      <td>blank</td>\n",
       "      <td>2021-03-26</td>\n",
       "      <td>200.0</td>\n",
       "      <td>0</td>\n",
       "    </tr>\n",
       "    <tr>\n",
       "      <th>354516</th>\n",
       "      <td>64597</td>\n",
       "      <td>4298116</td>\n",
       "      <td>40199361</td>\n",
       "      <td>blank</td>\n",
       "      <td>2021-03-27</td>\n",
       "      <td>200.0</td>\n",
       "      <td>0</td>\n",
       "    </tr>\n",
       "    <tr>\n",
       "      <th>354517</th>\n",
       "      <td>64598</td>\n",
       "      <td>4298117</td>\n",
       "      <td>40199361</td>\n",
       "      <td>2020-09-14 00:00:00</td>\n",
       "      <td>2021-03-28</td>\n",
       "      <td>250.0</td>\n",
       "      <td>1</td>\n",
       "    </tr>\n",
       "    <tr>\n",
       "      <th>354518</th>\n",
       "      <td>64599</td>\n",
       "      <td>4298118</td>\n",
       "      <td>40199361</td>\n",
       "      <td>2020-09-14 00:00:00</td>\n",
       "      <td>2021-03-29</td>\n",
       "      <td>250.0</td>\n",
       "      <td>1</td>\n",
       "    </tr>\n",
       "    <tr>\n",
       "      <th>354519</th>\n",
       "      <td>64600</td>\n",
       "      <td>4298119</td>\n",
       "      <td>40199361</td>\n",
       "      <td>2020-12-03 00:00:00</td>\n",
       "      <td>2021-03-30</td>\n",
       "      <td>200.0</td>\n",
       "      <td>1</td>\n",
       "    </tr>\n",
       "  </tbody>\n",
       "</table>\n",
       "<p>354520 rows × 7 columns</p>\n",
       "</div>"
      ],
      "text/plain": [
       "        Unnamed: 0  Unnamed: 0.1  airbnb_listing_id            booked_on  \\\n",
       "0                0          2148           40201349                blank   \n",
       "1                1          2159           40201349                blank   \n",
       "2                2          2160           40201349                blank   \n",
       "3                3          2173           40201349                blank   \n",
       "4                4          2226           40201349                blank   \n",
       "...            ...           ...                ...                  ...   \n",
       "354515       64596       4298115           40199361                blank   \n",
       "354516       64597       4298116           40199361                blank   \n",
       "354517       64598       4298117           40199361  2020-09-14 00:00:00   \n",
       "354518       64599       4298118           40199361  2020-09-14 00:00:00   \n",
       "354519       64600       4298119           40199361  2020-12-03 00:00:00   \n",
       "\n",
       "              date  price_string  occupied  \n",
       "0       2020-11-15         250.0         0  \n",
       "1       2020-11-26         250.0         0  \n",
       "2       2020-11-27         250.0         0  \n",
       "3       2020-12-10         250.0         0  \n",
       "4       2021-02-01         250.0         0  \n",
       "...            ...           ...       ...  \n",
       "354515  2021-03-26         200.0         0  \n",
       "354516  2021-03-27         200.0         0  \n",
       "354517  2021-03-28         250.0         1  \n",
       "354518  2021-03-29         250.0         1  \n",
       "354519  2021-03-30         200.0         1  \n",
       "\n",
       "[354520 rows x 7 columns]"
      ]
     },
     "execution_count": 3,
     "metadata": {},
     "output_type": "execute_result"
    }
   ],
   "source": [
    "desafio_priceav_df = pd.read_csv(\"desafio_priceav.csv\")\n",
    "desafio_priceav_df"
   ]
  },
  {
   "cell_type": "code",
   "execution_count": 4,
   "id": "cdeb259c",
   "metadata": {
    "ExecuteTime": {
     "end_time": "2022-01-16T21:18:25.177405Z",
     "start_time": "2022-01-16T21:18:25.135027Z"
    }
   },
   "outputs": [
    {
     "name": "stdout",
     "output_type": "stream",
     "text": [
      "<class 'pandas.core.frame.DataFrame'>\n",
      "RangeIndex: 4691 entries, 0 to 4690\n",
      "Data columns (total 9 columns):\n",
      " #   Column               Non-Null Count  Dtype  \n",
      "---  ------               --------------  -----  \n",
      " 0   Unnamed: 0           4691 non-null   int64  \n",
      " 1   airbnb_listing_id    4691 non-null   int64  \n",
      " 2   suburb               4691 non-null   object \n",
      " 3   ad_name              4691 non-null   object \n",
      " 4   number_of_bedrooms   4508 non-null   float64\n",
      " 5   number_of_bathrooms  4690 non-null   float64\n",
      " 6   star_rating          2570 non-null   float64\n",
      " 7   is_superhost         4691 non-null   bool   \n",
      " 8   number_of_reviews    4684 non-null   float64\n",
      "dtypes: bool(1), float64(4), int64(2), object(2)\n",
      "memory usage: 297.9+ KB\n"
     ]
    }
   ],
   "source": [
    "desafio_details_df.info()"
   ]
  },
  {
   "cell_type": "code",
   "execution_count": 5,
   "id": "a6d83562",
   "metadata": {
    "ExecuteTime": {
     "end_time": "2022-01-16T21:18:25.271555Z",
     "start_time": "2022-01-16T21:18:25.184354Z"
    }
   },
   "outputs": [
    {
     "name": "stdout",
     "output_type": "stream",
     "text": [
      "<class 'pandas.core.frame.DataFrame'>\n",
      "RangeIndex: 354520 entries, 0 to 354519\n",
      "Data columns (total 7 columns):\n",
      " #   Column             Non-Null Count   Dtype  \n",
      "---  ------             --------------   -----  \n",
      " 0   Unnamed: 0         354520 non-null  int64  \n",
      " 1   Unnamed: 0.1       354520 non-null  int64  \n",
      " 2   airbnb_listing_id  354520 non-null  int64  \n",
      " 3   booked_on          354520 non-null  object \n",
      " 4   date               354520 non-null  object \n",
      " 5   price_string       354520 non-null  float64\n",
      " 6   occupied           354520 non-null  int64  \n",
      "dtypes: float64(1), int64(4), object(2)\n",
      "memory usage: 18.9+ MB\n"
     ]
    }
   ],
   "source": [
    "desafio_priceav_df.info()"
   ]
  },
  {
   "cell_type": "code",
   "execution_count": 6,
   "id": "2464f441",
   "metadata": {
    "ExecuteTime": {
     "end_time": "2022-01-16T21:18:25.292119Z",
     "start_time": "2022-01-16T21:18:25.273987Z"
    }
   },
   "outputs": [
    {
     "data": {
      "text/html": [
       "<div>\n",
       "<style scoped>\n",
       "    .dataframe tbody tr th:only-of-type {\n",
       "        vertical-align: middle;\n",
       "    }\n",
       "\n",
       "    .dataframe tbody tr th {\n",
       "        vertical-align: top;\n",
       "    }\n",
       "\n",
       "    .dataframe thead th {\n",
       "        text-align: right;\n",
       "    }\n",
       "</style>\n",
       "<table border=\"1\" class=\"dataframe\">\n",
       "  <thead>\n",
       "    <tr style=\"text-align: right;\">\n",
       "      <th></th>\n",
       "      <th>suburb</th>\n",
       "      <th>airbnb_listing_id</th>\n",
       "    </tr>\n",
       "  </thead>\n",
       "  <tbody>\n",
       "    <tr>\n",
       "      <th>0</th>\n",
       "      <td>Centro</td>\n",
       "      <td>278</td>\n",
       "    </tr>\n",
       "    <tr>\n",
       "      <th>1</th>\n",
       "      <td>Lagoa da Conceição</td>\n",
       "      <td>309</td>\n",
       "    </tr>\n",
       "    <tr>\n",
       "      <th>2</th>\n",
       "      <td>Jurerê</td>\n",
       "      <td>539</td>\n",
       "    </tr>\n",
       "    <tr>\n",
       "      <th>3</th>\n",
       "      <td>Canasvieiras</td>\n",
       "      <td>1177</td>\n",
       "    </tr>\n",
       "    <tr>\n",
       "      <th>4</th>\n",
       "      <td>Ingleses</td>\n",
       "      <td>2388</td>\n",
       "    </tr>\n",
       "  </tbody>\n",
       "</table>\n",
       "</div>"
      ],
      "text/plain": [
       "               suburb  airbnb_listing_id\n",
       "0              Centro                278\n",
       "1  Lagoa da Conceição                309\n",
       "2              Jurerê                539\n",
       "3        Canasvieiras               1177\n",
       "4            Ingleses               2388"
      ]
     },
     "execution_count": 6,
     "metadata": {},
     "output_type": "execute_result"
    }
   ],
   "source": [
    "contagem_listing = desafio_details_df[[\"airbnb_listing_id\", \"suburb\"]].groupby(\"suburb\").count().sort_values(by=\"airbnb_listing_id\").reset_index()\n",
    "contagem_listing"
   ]
  },
  {
   "cell_type": "code",
   "execution_count": 7,
   "id": "98697795",
   "metadata": {
    "ExecuteTime": {
     "end_time": "2022-01-16T21:18:25.710979Z",
     "start_time": "2022-01-16T21:18:25.294325Z"
    }
   },
   "outputs": [
    {
     "data": {
      "image/png": "[encoded data removed]",
      "text/plain": [
       "<Figure size 432x288 with 1 Axes>"
      ]
     },
     "metadata": {
      "needs_background": "light"
     },
     "output_type": "display_data"
    }
   ],
   "source": [
    "contagem_listing_grafico = sns.barplot(x=contagem_listing[\"suburb\"], y=contagem_listing[\"airbnb_listing_id\"]);\n",
    "contagem_listing_grafico.set(xlabel=\"Bairros\", ylabel=\"Contagem\")\n",
    "plt.xticks(rotation=45)\n",
    "plt.show()"
   ]
  },
  {
   "cell_type": "code",
   "execution_count": 8,
   "id": "c11c92c0",
   "metadata": {
    "ExecuteTime": {
     "end_time": "2022-01-16T21:18:26.004709Z",
     "start_time": "2022-01-16T21:18:25.713107Z"
    }
   },
   "outputs": [
    {
     "data": {
      "text/html": [
       "<div>\n",
       "<style scoped>\n",
       "    .dataframe tbody tr th:only-of-type {\n",
       "        vertical-align: middle;\n",
       "    }\n",
       "\n",
       "    .dataframe tbody tr th {\n",
       "        vertical-align: top;\n",
       "    }\n",
       "\n",
       "    .dataframe thead th {\n",
       "        text-align: right;\n",
       "    }\n",
       "</style>\n",
       "<table border=\"1\" class=\"dataframe\">\n",
       "  <thead>\n",
       "    <tr style=\"text-align: right;\">\n",
       "      <th></th>\n",
       "      <th>Unnamed: 0_x</th>\n",
       "      <th>airbnb_listing_id</th>\n",
       "      <th>suburb</th>\n",
       "      <th>ad_name</th>\n",
       "      <th>number_of_bedrooms</th>\n",
       "      <th>number_of_bathrooms</th>\n",
       "      <th>star_rating</th>\n",
       "      <th>is_superhost</th>\n",
       "      <th>number_of_reviews</th>\n",
       "      <th>Unnamed: 0_y</th>\n",
       "      <th>Unnamed: 0.1</th>\n",
       "      <th>booked_on</th>\n",
       "      <th>date</th>\n",
       "      <th>price_string</th>\n",
       "      <th>occupied</th>\n",
       "    </tr>\n",
       "  </thead>\n",
       "  <tbody>\n",
       "    <tr>\n",
       "      <th>0</th>\n",
       "      <td>0</td>\n",
       "      <td>31389869</td>\n",
       "      <td>Jurerê</td>\n",
       "      <td>Lindo Apartamento em Jurerê</td>\n",
       "      <td>2.0</td>\n",
       "      <td>2.0</td>\n",
       "      <td>5.0</td>\n",
       "      <td>False</td>\n",
       "      <td>15.0</td>\n",
       "      <td>54466</td>\n",
       "      <td>3628239</td>\n",
       "      <td>2020-12-04 00:00:00</td>\n",
       "      <td>2020-12-04</td>\n",
       "      <td>270.0</td>\n",
       "      <td>1</td>\n",
       "    </tr>\n",
       "    <tr>\n",
       "      <th>1</th>\n",
       "      <td>0</td>\n",
       "      <td>31389869</td>\n",
       "      <td>Jurerê</td>\n",
       "      <td>Lindo Apartamento em Jurerê</td>\n",
       "      <td>2.0</td>\n",
       "      <td>2.0</td>\n",
       "      <td>5.0</td>\n",
       "      <td>False</td>\n",
       "      <td>15.0</td>\n",
       "      <td>54467</td>\n",
       "      <td>3628240</td>\n",
       "      <td>2020-12-04 00:00:00</td>\n",
       "      <td>2020-12-05</td>\n",
       "      <td>270.0</td>\n",
       "      <td>1</td>\n",
       "    </tr>\n",
       "    <tr>\n",
       "      <th>2</th>\n",
       "      <td>0</td>\n",
       "      <td>31389869</td>\n",
       "      <td>Jurerê</td>\n",
       "      <td>Lindo Apartamento em Jurerê</td>\n",
       "      <td>2.0</td>\n",
       "      <td>2.0</td>\n",
       "      <td>5.0</td>\n",
       "      <td>False</td>\n",
       "      <td>15.0</td>\n",
       "      <td>54468</td>\n",
       "      <td>3628241</td>\n",
       "      <td>2020-12-04 00:00:00</td>\n",
       "      <td>2020-12-06</td>\n",
       "      <td>270.0</td>\n",
       "      <td>1</td>\n",
       "    </tr>\n",
       "    <tr>\n",
       "      <th>3</th>\n",
       "      <td>0</td>\n",
       "      <td>31389869</td>\n",
       "      <td>Jurerê</td>\n",
       "      <td>Lindo Apartamento em Jurerê</td>\n",
       "      <td>2.0</td>\n",
       "      <td>2.0</td>\n",
       "      <td>5.0</td>\n",
       "      <td>False</td>\n",
       "      <td>15.0</td>\n",
       "      <td>54469</td>\n",
       "      <td>3628242</td>\n",
       "      <td>2020-12-04 00:00:00</td>\n",
       "      <td>2020-12-07</td>\n",
       "      <td>270.0</td>\n",
       "      <td>1</td>\n",
       "    </tr>\n",
       "    <tr>\n",
       "      <th>4</th>\n",
       "      <td>0</td>\n",
       "      <td>31389869</td>\n",
       "      <td>Jurerê</td>\n",
       "      <td>Lindo Apartamento em Jurerê</td>\n",
       "      <td>2.0</td>\n",
       "      <td>2.0</td>\n",
       "      <td>5.0</td>\n",
       "      <td>False</td>\n",
       "      <td>15.0</td>\n",
       "      <td>54470</td>\n",
       "      <td>3628243</td>\n",
       "      <td>2020-12-04 00:00:00</td>\n",
       "      <td>2020-12-08</td>\n",
       "      <td>270.0</td>\n",
       "      <td>1</td>\n",
       "    </tr>\n",
       "    <tr>\n",
       "      <th>...</th>\n",
       "      <td>...</td>\n",
       "      <td>...</td>\n",
       "      <td>...</td>\n",
       "      <td>...</td>\n",
       "      <td>...</td>\n",
       "      <td>...</td>\n",
       "      <td>...</td>\n",
       "      <td>...</td>\n",
       "      <td>...</td>\n",
       "      <td>...</td>\n",
       "      <td>...</td>\n",
       "      <td>...</td>\n",
       "      <td>...</td>\n",
       "      <td>...</td>\n",
       "      <td>...</td>\n",
       "    </tr>\n",
       "    <tr>\n",
       "      <th>354515</th>\n",
       "      <td>3845</td>\n",
       "      <td>40277915</td>\n",
       "      <td>Ingleses</td>\n",
       "      <td>2 dormitório a 100 metros do mar (202B)</td>\n",
       "      <td>2.0</td>\n",
       "      <td>2.0</td>\n",
       "      <td>NaN</td>\n",
       "      <td>False</td>\n",
       "      <td>0.0</td>\n",
       "      <td>38574</td>\n",
       "      <td>2275517</td>\n",
       "      <td>2021-02-28 00:00:00</td>\n",
       "      <td>2021-03-26</td>\n",
       "      <td>150.0</td>\n",
       "      <td>1</td>\n",
       "    </tr>\n",
       "    <tr>\n",
       "      <th>354516</th>\n",
       "      <td>3845</td>\n",
       "      <td>40277915</td>\n",
       "      <td>Ingleses</td>\n",
       "      <td>2 dormitório a 100 metros do mar (202B)</td>\n",
       "      <td>2.0</td>\n",
       "      <td>2.0</td>\n",
       "      <td>NaN</td>\n",
       "      <td>False</td>\n",
       "      <td>0.0</td>\n",
       "      <td>38575</td>\n",
       "      <td>2275518</td>\n",
       "      <td>2021-02-28 00:00:00</td>\n",
       "      <td>2021-03-27</td>\n",
       "      <td>150.0</td>\n",
       "      <td>1</td>\n",
       "    </tr>\n",
       "    <tr>\n",
       "      <th>354517</th>\n",
       "      <td>3845</td>\n",
       "      <td>40277915</td>\n",
       "      <td>Ingleses</td>\n",
       "      <td>2 dormitório a 100 metros do mar (202B)</td>\n",
       "      <td>2.0</td>\n",
       "      <td>2.0</td>\n",
       "      <td>NaN</td>\n",
       "      <td>False</td>\n",
       "      <td>0.0</td>\n",
       "      <td>38576</td>\n",
       "      <td>2275519</td>\n",
       "      <td>2021-02-28 00:00:00</td>\n",
       "      <td>2021-03-28</td>\n",
       "      <td>150.0</td>\n",
       "      <td>1</td>\n",
       "    </tr>\n",
       "    <tr>\n",
       "      <th>354518</th>\n",
       "      <td>3845</td>\n",
       "      <td>40277915</td>\n",
       "      <td>Ingleses</td>\n",
       "      <td>2 dormitório a 100 metros do mar (202B)</td>\n",
       "      <td>2.0</td>\n",
       "      <td>2.0</td>\n",
       "      <td>NaN</td>\n",
       "      <td>False</td>\n",
       "      <td>0.0</td>\n",
       "      <td>38577</td>\n",
       "      <td>2275520</td>\n",
       "      <td>2021-02-28 00:00:00</td>\n",
       "      <td>2021-03-29</td>\n",
       "      <td>150.0</td>\n",
       "      <td>1</td>\n",
       "    </tr>\n",
       "    <tr>\n",
       "      <th>354519</th>\n",
       "      <td>3845</td>\n",
       "      <td>40277915</td>\n",
       "      <td>Ingleses</td>\n",
       "      <td>2 dormitório a 100 metros do mar (202B)</td>\n",
       "      <td>2.0</td>\n",
       "      <td>2.0</td>\n",
       "      <td>NaN</td>\n",
       "      <td>False</td>\n",
       "      <td>0.0</td>\n",
       "      <td>38578</td>\n",
       "      <td>2275521</td>\n",
       "      <td>2021-02-28 00:00:00</td>\n",
       "      <td>2021-03-30</td>\n",
       "      <td>150.0</td>\n",
       "      <td>1</td>\n",
       "    </tr>\n",
       "  </tbody>\n",
       "</table>\n",
       "<p>354520 rows × 15 columns</p>\n",
       "</div>"
      ],
      "text/plain": [
       "        Unnamed: 0_x  airbnb_listing_id    suburb  \\\n",
       "0                  0           31389869    Jurerê   \n",
       "1                  0           31389869    Jurerê   \n",
       "2                  0           31389869    Jurerê   \n",
       "3                  0           31389869    Jurerê   \n",
       "4                  0           31389869    Jurerê   \n",
       "...              ...                ...       ...   \n",
       "354515          3845           40277915  Ingleses   \n",
       "354516          3845           40277915  Ingleses   \n",
       "354517          3845           40277915  Ingleses   \n",
       "354518          3845           40277915  Ingleses   \n",
       "354519          3845           40277915  Ingleses   \n",
       "\n",
       "                                        ad_name  number_of_bedrooms  \\\n",
       "0                   Lindo Apartamento em Jurerê                 2.0   \n",
       "1                   Lindo Apartamento em Jurerê                 2.0   \n",
       "2                   Lindo Apartamento em Jurerê                 2.0   \n",
       "3                   Lindo Apartamento em Jurerê                 2.0   \n",
       "4                   Lindo Apartamento em Jurerê                 2.0   \n",
       "...                                         ...                 ...   \n",
       "354515  2 dormitório a 100 metros do mar (202B)                 2.0   \n",
       "354516  2 dormitório a 100 metros do mar (202B)                 2.0   \n",
       "354517  2 dormitório a 100 metros do mar (202B)                 2.0   \n",
       "354518  2 dormitório a 100 metros do mar (202B)                 2.0   \n",
       "354519  2 dormitório a 100 metros do mar (202B)                 2.0   \n",
       "\n",
       "        number_of_bathrooms  star_rating  is_superhost  number_of_reviews  \\\n",
       "0                       2.0          5.0         False               15.0   \n",
       "1                       2.0          5.0         False               15.0   \n",
       "2                       2.0          5.0         False               15.0   \n",
       "3                       2.0          5.0         False               15.0   \n",
       "4                       2.0          5.0         False               15.0   \n",
       "...                     ...          ...           ...                ...   \n",
       "354515                  2.0          NaN         False                0.0   \n",
       "354516                  2.0          NaN         False                0.0   \n",
       "354517                  2.0          NaN         False                0.0   \n",
       "354518                  2.0          NaN         False                0.0   \n",
       "354519                  2.0          NaN         False                0.0   \n",
       "\n",
       "        Unnamed: 0_y  Unnamed: 0.1            booked_on        date  \\\n",
       "0              54466       3628239  2020-12-04 00:00:00  2020-12-04   \n",
       "1              54467       3628240  2020-12-04 00:00:00  2020-12-05   \n",
       "2              54468       3628241  2020-12-04 00:00:00  2020-12-06   \n",
       "3              54469       3628242  2020-12-04 00:00:00  2020-12-07   \n",
       "4              54470       3628243  2020-12-04 00:00:00  2020-12-08   \n",
       "...              ...           ...                  ...         ...   \n",
       "354515         38574       2275517  2021-02-28 00:00:00  2021-03-26   \n",
       "354516         38575       2275518  2021-02-28 00:00:00  2021-03-27   \n",
       "354517         38576       2275519  2021-02-28 00:00:00  2021-03-28   \n",
       "354518         38577       2275520  2021-02-28 00:00:00  2021-03-29   \n",
       "354519         38578       2275521  2021-02-28 00:00:00  2021-03-30   \n",
       "\n",
       "        price_string  occupied  \n",
       "0              270.0         1  \n",
       "1              270.0         1  \n",
       "2              270.0         1  \n",
       "3              270.0         1  \n",
       "4              270.0         1  \n",
       "...              ...       ...  \n",
       "354515         150.0         1  \n",
       "354516         150.0         1  \n",
       "354517         150.0         1  \n",
       "354518         150.0         1  \n",
       "354519         150.0         1  \n",
       "\n",
       "[354520 rows x 15 columns]"
      ]
     },
     "execution_count": 8,
     "metadata": {},
     "output_type": "execute_result"
    }
   ],
   "source": [
    "desafio_df = pd.merge(desafio_details_df, desafio_priceav_df, on=\"airbnb_listing_id\")\n",
    "desafio_df"
   ]
  },
  {
   "cell_type": "code",
   "execution_count": 9,
   "id": "9691553d",
   "metadata": {
    "ExecuteTime": {
     "end_time": "2022-01-16T21:18:26.549076Z",
     "start_time": "2022-01-16T21:18:26.006871Z"
    }
   },
   "outputs": [],
   "source": [
    "desafio_df = desafio_df.drop_duplicates()"
   ]
  },
  {
   "cell_type": "code",
   "execution_count": 10,
   "id": "96f4192e",
   "metadata": {
    "ExecuteTime": {
     "end_time": "2022-01-16T21:18:26.654689Z",
     "start_time": "2022-01-16T21:18:26.552772Z"
    }
   },
   "outputs": [
    {
     "name": "stdout",
     "output_type": "stream",
     "text": [
      "<class 'pandas.core.frame.DataFrame'>\n",
      "Int64Index: 289919 entries, 0 to 354433\n",
      "Data columns (total 15 columns):\n",
      " #   Column               Non-Null Count   Dtype  \n",
      "---  ------               --------------   -----  \n",
      " 0   Unnamed: 0_x         289919 non-null  int64  \n",
      " 1   airbnb_listing_id    289919 non-null  int64  \n",
      " 2   suburb               289919 non-null  object \n",
      " 3   ad_name              289919 non-null  object \n",
      " 4   number_of_bedrooms   277998 non-null  float64\n",
      " 5   number_of_bathrooms  289845 non-null  float64\n",
      " 6   star_rating          178052 non-null  float64\n",
      " 7   is_superhost         289919 non-null  bool   \n",
      " 8   number_of_reviews    289597 non-null  float64\n",
      " 9   Unnamed: 0_y         289919 non-null  int64  \n",
      " 10  Unnamed: 0.1         289919 non-null  int64  \n",
      " 11  booked_on            289919 non-null  object \n",
      " 12  date                 289919 non-null  object \n",
      " 13  price_string         289919 non-null  float64\n",
      " 14  occupied             289919 non-null  int64  \n",
      "dtypes: bool(1), float64(5), int64(5), object(4)\n",
      "memory usage: 33.5+ MB\n"
     ]
    }
   ],
   "source": [
    "desafio_df.info()"
   ]
  },
  {
   "cell_type": "code",
   "execution_count": 11,
   "id": "31ed3484",
   "metadata": {
    "ExecuteTime": {
     "end_time": "2022-01-16T21:18:26.781537Z",
     "start_time": "2022-01-16T21:18:26.657291Z"
    }
   },
   "outputs": [],
   "source": [
    "desafio_df = desafio_df.fillna(value=0)"
   ]
  },
  {
   "cell_type": "code",
   "execution_count": 12,
   "id": "3a84cb32",
   "metadata": {
    "ExecuteTime": {
     "end_time": "2022-01-16T21:18:26.888177Z",
     "start_time": "2022-01-16T21:18:26.783924Z"
    }
   },
   "outputs": [
    {
     "name": "stdout",
     "output_type": "stream",
     "text": [
      "<class 'pandas.core.frame.DataFrame'>\n",
      "Int64Index: 289919 entries, 0 to 354433\n",
      "Data columns (total 15 columns):\n",
      " #   Column               Non-Null Count   Dtype  \n",
      "---  ------               --------------   -----  \n",
      " 0   Unnamed: 0_x         289919 non-null  int64  \n",
      " 1   airbnb_listing_id    289919 non-null  int64  \n",
      " 2   suburb               289919 non-null  object \n",
      " 3   ad_name              289919 non-null  object \n",
      " 4   number_of_bedrooms   289919 non-null  float64\n",
      " 5   number_of_bathrooms  289919 non-null  float64\n",
      " 6   star_rating          289919 non-null  float64\n",
      " 7   is_superhost         289919 non-null  bool   \n",
      " 8   number_of_reviews    289919 non-null  float64\n",
      " 9   Unnamed: 0_y         289919 non-null  int64  \n",
      " 10  Unnamed: 0.1         289919 non-null  int64  \n",
      " 11  booked_on            289919 non-null  object \n",
      " 12  date                 289919 non-null  object \n",
      " 13  price_string         289919 non-null  float64\n",
      " 14  occupied             289919 non-null  int64  \n",
      "dtypes: bool(1), float64(5), int64(5), object(4)\n",
      "memory usage: 33.5+ MB\n"
     ]
    }
   ],
   "source": [
    "desafio_df.info()"
   ]
  },
  {
   "cell_type": "code",
   "execution_count": 13,
   "id": "1c1fa6c7",
   "metadata": {
    "ExecuteTime": {
     "end_time": "2022-01-16T21:18:27.151513Z",
     "start_time": "2022-01-16T21:18:26.890938Z"
    }
   },
   "outputs": [],
   "source": [
    "desafio_df[\"booked_on\"] = desafio_df[\"booked_on\"].str.replace(\"blank\", \"\")"
   ]
  },
  {
   "cell_type": "code",
   "execution_count": 14,
   "id": "03395854",
   "metadata": {
    "ExecuteTime": {
     "end_time": "2022-01-16T21:18:27.523112Z",
     "start_time": "2022-01-16T21:18:27.153397Z"
    }
   },
   "outputs": [
    {
     "data": {
      "text/html": [
       "<div>\n",
       "<style scoped>\n",
       "    .dataframe tbody tr th:only-of-type {\n",
       "        vertical-align: middle;\n",
       "    }\n",
       "\n",
       "    .dataframe tbody tr th {\n",
       "        vertical-align: top;\n",
       "    }\n",
       "\n",
       "    .dataframe thead th {\n",
       "        text-align: right;\n",
       "    }\n",
       "</style>\n",
       "<table border=\"1\" class=\"dataframe\">\n",
       "  <thead>\n",
       "    <tr style=\"text-align: right;\">\n",
       "      <th></th>\n",
       "      <th>airbnb_listing_id</th>\n",
       "      <th>booked_on</th>\n",
       "      <th>date</th>\n",
       "      <th>suburb</th>\n",
       "      <th>price_string</th>\n",
       "    </tr>\n",
       "  </thead>\n",
       "  <tbody>\n",
       "    <tr>\n",
       "      <th>19</th>\n",
       "      <td>30964548</td>\n",
       "      <td>2021-01-04 00:00:00</td>\n",
       "      <td>2021-02-21</td>\n",
       "      <td>Canasvieiras</td>\n",
       "      <td>50.0</td>\n",
       "    </tr>\n",
       "    <tr>\n",
       "      <th>20</th>\n",
       "      <td>32843473</td>\n",
       "      <td>2020-03-31 00:00:00</td>\n",
       "      <td>2021-02-20</td>\n",
       "      <td>Ingleses</td>\n",
       "      <td>50.0</td>\n",
       "    </tr>\n",
       "    <tr>\n",
       "      <th>21</th>\n",
       "      <td>32843473</td>\n",
       "      <td>2020-03-31 00:00:00</td>\n",
       "      <td>2021-02-21</td>\n",
       "      <td>Ingleses</td>\n",
       "      <td>50.0</td>\n",
       "    </tr>\n",
       "    <tr>\n",
       "      <th>22</th>\n",
       "      <td>32843473</td>\n",
       "      <td>2020-03-31 00:00:00</td>\n",
       "      <td>2021-02-22</td>\n",
       "      <td>Ingleses</td>\n",
       "      <td>50.0</td>\n",
       "    </tr>\n",
       "    <tr>\n",
       "      <th>23</th>\n",
       "      <td>32843473</td>\n",
       "      <td>2020-03-31 00:00:00</td>\n",
       "      <td>2021-02-23</td>\n",
       "      <td>Ingleses</td>\n",
       "      <td>50.0</td>\n",
       "    </tr>\n",
       "    <tr>\n",
       "      <th>...</th>\n",
       "      <td>...</td>\n",
       "      <td>...</td>\n",
       "      <td>...</td>\n",
       "      <td>...</td>\n",
       "      <td>...</td>\n",
       "    </tr>\n",
       "    <tr>\n",
       "      <th>284061</th>\n",
       "      <td>40894598</td>\n",
       "      <td>2020-03-29 00:00:00</td>\n",
       "      <td>2021-02-20</td>\n",
       "      <td>Ingleses</td>\n",
       "      <td>2000.0</td>\n",
       "    </tr>\n",
       "    <tr>\n",
       "      <th>284063</th>\n",
       "      <td>40892444</td>\n",
       "      <td>2020-04-01 00:00:00</td>\n",
       "      <td>2021-03-17</td>\n",
       "      <td>Ingleses</td>\n",
       "      <td>2000.0</td>\n",
       "    </tr>\n",
       "    <tr>\n",
       "      <th>284065</th>\n",
       "      <td>40892444</td>\n",
       "      <td>2020-04-01 00:00:00</td>\n",
       "      <td>2021-03-18</td>\n",
       "      <td>Ingleses</td>\n",
       "      <td>2000.0</td>\n",
       "    </tr>\n",
       "    <tr>\n",
       "      <th>284068</th>\n",
       "      <td>40892444</td>\n",
       "      <td>2020-04-01 00:00:00</td>\n",
       "      <td>2021-03-19</td>\n",
       "      <td>Ingleses</td>\n",
       "      <td>2000.0</td>\n",
       "    </tr>\n",
       "    <tr>\n",
       "      <th>284069</th>\n",
       "      <td>40894598</td>\n",
       "      <td>2020-03-29 00:00:00</td>\n",
       "      <td>2021-02-05</td>\n",
       "      <td>Ingleses</td>\n",
       "      <td>2000.0</td>\n",
       "    </tr>\n",
       "  </tbody>\n",
       "</table>\n",
       "<p>132023 rows × 5 columns</p>\n",
       "</div>"
      ],
      "text/plain": [
       "        airbnb_listing_id            booked_on        date        suburb  \\\n",
       "19               30964548  2021-01-04 00:00:00  2021-02-21  Canasvieiras   \n",
       "20               32843473  2020-03-31 00:00:00  2021-02-20      Ingleses   \n",
       "21               32843473  2020-03-31 00:00:00  2021-02-21      Ingleses   \n",
       "22               32843473  2020-03-31 00:00:00  2021-02-22      Ingleses   \n",
       "23               32843473  2020-03-31 00:00:00  2021-02-23      Ingleses   \n",
       "...                   ...                  ...         ...           ...   \n",
       "284061           40894598  2020-03-29 00:00:00  2021-02-20      Ingleses   \n",
       "284063           40892444  2020-04-01 00:00:00  2021-03-17      Ingleses   \n",
       "284065           40892444  2020-04-01 00:00:00  2021-03-18      Ingleses   \n",
       "284068           40892444  2020-04-01 00:00:00  2021-03-19      Ingleses   \n",
       "284069           40894598  2020-03-29 00:00:00  2021-02-05      Ingleses   \n",
       "\n",
       "        price_string  \n",
       "19              50.0  \n",
       "20              50.0  \n",
       "21              50.0  \n",
       "22              50.0  \n",
       "23              50.0  \n",
       "...              ...  \n",
       "284061        2000.0  \n",
       "284063        2000.0  \n",
       "284065        2000.0  \n",
       "284068        2000.0  \n",
       "284069        2000.0  \n",
       "\n",
       "[132023 rows x 5 columns]"
      ]
     },
     "execution_count": 14,
     "metadata": {},
     "output_type": "execute_result"
    }
   ],
   "source": [
    "faturamento_por_agendamento = desafio_df[[\"airbnb_listing_id\", \"booked_on\", \"date\", \"suburb\", \"price_string\"]].groupby([\"airbnb_listing_id\", \"booked_on\", \"date\", \"suburb\"]).sum().sort_values(by = \"price_string\").reset_index()\n",
    "faturamento_por_agendamento = faturamento_por_agendamento[faturamento_por_agendamento.booked_on != \"\"]\n",
    "faturamento_por_agendamento"
   ]
  },
  {
   "cell_type": "code",
   "execution_count": 15,
   "id": "d1ca92a5",
   "metadata": {
    "ExecuteTime": {
     "end_time": "2022-01-16T21:18:27.593758Z",
     "start_time": "2022-01-16T21:18:27.526223Z"
    }
   },
   "outputs": [
    {
     "data": {
      "text/html": [
       "<div>\n",
       "<style scoped>\n",
       "    .dataframe tbody tr th:only-of-type {\n",
       "        vertical-align: middle;\n",
       "    }\n",
       "\n",
       "    .dataframe tbody tr th {\n",
       "        vertical-align: top;\n",
       "    }\n",
       "\n",
       "    .dataframe thead th {\n",
       "        text-align: right;\n",
       "    }\n",
       "</style>\n",
       "<table border=\"1\" class=\"dataframe\">\n",
       "  <thead>\n",
       "    <tr style=\"text-align: right;\">\n",
       "      <th></th>\n",
       "      <th>airbnb_listing_id</th>\n",
       "      <th>suburb</th>\n",
       "      <th>price_string</th>\n",
       "    </tr>\n",
       "  </thead>\n",
       "  <tbody>\n",
       "    <tr>\n",
       "      <th>0</th>\n",
       "      <td>42112099</td>\n",
       "      <td>Ingleses</td>\n",
       "      <td>98.0</td>\n",
       "    </tr>\n",
       "    <tr>\n",
       "      <th>1</th>\n",
       "      <td>13097427</td>\n",
       "      <td>Ingleses</td>\n",
       "      <td>150.0</td>\n",
       "    </tr>\n",
       "    <tr>\n",
       "      <th>2</th>\n",
       "      <td>41232719</td>\n",
       "      <td>Centro</td>\n",
       "      <td>160.0</td>\n",
       "    </tr>\n",
       "    <tr>\n",
       "      <th>3</th>\n",
       "      <td>2693585</td>\n",
       "      <td>Centro</td>\n",
       "      <td>190.0</td>\n",
       "    </tr>\n",
       "    <tr>\n",
       "      <th>4</th>\n",
       "      <td>39647983</td>\n",
       "      <td>Canasvieiras</td>\n",
       "      <td>195.0</td>\n",
       "    </tr>\n",
       "    <tr>\n",
       "      <th>...</th>\n",
       "      <td>...</td>\n",
       "      <td>...</td>\n",
       "      <td>...</td>\n",
       "    </tr>\n",
       "    <tr>\n",
       "      <th>3183</th>\n",
       "      <td>28908271</td>\n",
       "      <td>Ingleses</td>\n",
       "      <td>77230.0</td>\n",
       "    </tr>\n",
       "    <tr>\n",
       "      <th>3184</th>\n",
       "      <td>32374298</td>\n",
       "      <td>Ingleses</td>\n",
       "      <td>78330.0</td>\n",
       "    </tr>\n",
       "    <tr>\n",
       "      <th>3185</th>\n",
       "      <td>16567628</td>\n",
       "      <td>Ingleses</td>\n",
       "      <td>79650.0</td>\n",
       "    </tr>\n",
       "    <tr>\n",
       "      <th>3186</th>\n",
       "      <td>5199040</td>\n",
       "      <td>Ingleses</td>\n",
       "      <td>87540.0</td>\n",
       "    </tr>\n",
       "    <tr>\n",
       "      <th>3187</th>\n",
       "      <td>7725877</td>\n",
       "      <td>Ingleses</td>\n",
       "      <td>89100.0</td>\n",
       "    </tr>\n",
       "  </tbody>\n",
       "</table>\n",
       "<p>3188 rows × 3 columns</p>\n",
       "</div>"
      ],
      "text/plain": [
       "      airbnb_listing_id        suburb  price_string\n",
       "0              42112099      Ingleses          98.0\n",
       "1              13097427      Ingleses         150.0\n",
       "2              41232719        Centro         160.0\n",
       "3               2693585        Centro         190.0\n",
       "4              39647983  Canasvieiras         195.0\n",
       "...                 ...           ...           ...\n",
       "3183           28908271      Ingleses       77230.0\n",
       "3184           32374298      Ingleses       78330.0\n",
       "3185           16567628      Ingleses       79650.0\n",
       "3186            5199040      Ingleses       87540.0\n",
       "3187            7725877      Ingleses       89100.0\n",
       "\n",
       "[3188 rows x 3 columns]"
      ]
     },
     "execution_count": 15,
     "metadata": {},
     "output_type": "execute_result"
    }
   ],
   "source": [
    "faturamento_por_id = faturamento_por_agendamento[[\"airbnb_listing_id\", \"suburb\", \"price_string\"]].groupby([\"airbnb_listing_id\", \"suburb\"]).sum().sort_values(by=\"price_string\").reset_index()\n",
    "faturamento_por_id"
   ]
  },
  {
   "cell_type": "code",
   "execution_count": 16,
   "id": "1f09db82",
   "metadata": {
    "ExecuteTime": {
     "end_time": "2022-01-16T21:18:27.643400Z",
     "start_time": "2022-01-16T21:18:27.596774Z"
    }
   },
   "outputs": [
    {
     "data": {
      "text/html": [
       "<div>\n",
       "<style scoped>\n",
       "    .dataframe tbody tr th:only-of-type {\n",
       "        vertical-align: middle;\n",
       "    }\n",
       "\n",
       "    .dataframe tbody tr th {\n",
       "        vertical-align: top;\n",
       "    }\n",
       "\n",
       "    .dataframe thead th {\n",
       "        text-align: right;\n",
       "    }\n",
       "</style>\n",
       "<table border=\"1\" class=\"dataframe\">\n",
       "  <thead>\n",
       "    <tr style=\"text-align: right;\">\n",
       "      <th></th>\n",
       "      <th>suburb</th>\n",
       "      <th>price_string</th>\n",
       "    </tr>\n",
       "  </thead>\n",
       "  <tbody>\n",
       "    <tr>\n",
       "      <th>0</th>\n",
       "      <td>Centro</td>\n",
       "      <td>8666.49</td>\n",
       "    </tr>\n",
       "    <tr>\n",
       "      <th>1</th>\n",
       "      <td>Lagoa da Conceição</td>\n",
       "      <td>10447.67</td>\n",
       "    </tr>\n",
       "    <tr>\n",
       "      <th>2</th>\n",
       "      <td>Canasvieiras</td>\n",
       "      <td>13327.55</td>\n",
       "    </tr>\n",
       "    <tr>\n",
       "      <th>3</th>\n",
       "      <td>Ingleses</td>\n",
       "      <td>14743.46</td>\n",
       "    </tr>\n",
       "    <tr>\n",
       "      <th>4</th>\n",
       "      <td>Jurerê</td>\n",
       "      <td>17924.31</td>\n",
       "    </tr>\n",
       "  </tbody>\n",
       "</table>\n",
       "</div>"
      ],
      "text/plain": [
       "               suburb  price_string\n",
       "0              Centro       8666.49\n",
       "1  Lagoa da Conceição      10447.67\n",
       "2        Canasvieiras      13327.55\n",
       "3            Ingleses      14743.46\n",
       "4              Jurerê      17924.31"
      ]
     },
     "execution_count": 16,
     "metadata": {},
     "output_type": "execute_result"
    }
   ],
   "source": [
    "faturamento_medio = faturamento_por_id[[\"suburb\", \"price_string\"]].groupby(\"suburb\").mean().sort_values(by=\"price_string\").reset_index()\n",
    "faturamento_medio[\"price_string\"] = faturamento_medio[\"price_string\"].round(decimals=2)\n",
    "faturamento_medio"
   ]
  },
  {
   "cell_type": "code",
   "execution_count": 17,
   "id": "5af8ec1e",
   "metadata": {
    "ExecuteTime": {
     "end_time": "2022-01-16T21:18:28.042777Z",
     "start_time": "2022-01-16T21:18:27.650516Z"
    }
   },
   "outputs": [
    {
     "data": {
      "image/png": "[encoded data removed]",
      "text/plain": [
       "<Figure size 432x288 with 1 Axes>"
      ]
     },
     "metadata": {
      "needs_background": "light"
     },
     "output_type": "display_data"
    }
   ],
   "source": [
    "faturamento_medio_grafico = sns.barplot(x=faturamento_medio[\"suburb\"], y=faturamento_medio[\"price_string\"]);\n",
    "faturamento_medio_grafico.set(xlabel=\"Bairros\", ylabel=\"Faturamento médio\")\n",
    "plt.xticks(rotation=45)\n",
    "plt.show()"
   ]
  },
  {
   "cell_type": "code",
   "execution_count": 18,
   "id": "0d89c56c",
   "metadata": {
    "ExecuteTime": {
     "end_time": "2022-01-16T21:18:28.712030Z",
     "start_time": "2022-01-16T21:18:28.045870Z"
    },
    "scrolled": true
   },
   "outputs": [
    {
     "data": {
      "text/html": [
       "<div>\n",
       "<style scoped>\n",
       "    .dataframe tbody tr th:only-of-type {\n",
       "        vertical-align: middle;\n",
       "    }\n",
       "\n",
       "    .dataframe tbody tr th {\n",
       "        vertical-align: top;\n",
       "    }\n",
       "\n",
       "    .dataframe thead th {\n",
       "        text-align: right;\n",
       "    }\n",
       "</style>\n",
       "<table border=\"1\" class=\"dataframe\">\n",
       "  <thead>\n",
       "    <tr style=\"text-align: right;\">\n",
       "      <th></th>\n",
       "      <th>airbnb_listing_id</th>\n",
       "      <th>booked_on</th>\n",
       "      <th>date</th>\n",
       "      <th>number_of_bedrooms</th>\n",
       "      <th>number_of_bathrooms</th>\n",
       "      <th>number_of_reviews</th>\n",
       "      <th>star_rating</th>\n",
       "      <th>is_superhost</th>\n",
       "      <th>price_string</th>\n",
       "    </tr>\n",
       "  </thead>\n",
       "  <tbody>\n",
       "    <tr>\n",
       "      <th>19</th>\n",
       "      <td>30964548</td>\n",
       "      <td>2021-01-04</td>\n",
       "      <td>2021-02-21</td>\n",
       "      <td>1.0</td>\n",
       "      <td>1.0</td>\n",
       "      <td>17.0</td>\n",
       "      <td>4.5</td>\n",
       "      <td>0</td>\n",
       "      <td>50.0</td>\n",
       "    </tr>\n",
       "    <tr>\n",
       "      <th>20</th>\n",
       "      <td>32843473</td>\n",
       "      <td>2020-03-31</td>\n",
       "      <td>2021-02-20</td>\n",
       "      <td>1.0</td>\n",
       "      <td>1.0</td>\n",
       "      <td>12.0</td>\n",
       "      <td>4.5</td>\n",
       "      <td>0</td>\n",
       "      <td>50.0</td>\n",
       "    </tr>\n",
       "    <tr>\n",
       "      <th>21</th>\n",
       "      <td>32843473</td>\n",
       "      <td>2020-03-31</td>\n",
       "      <td>2021-02-21</td>\n",
       "      <td>1.0</td>\n",
       "      <td>1.0</td>\n",
       "      <td>12.0</td>\n",
       "      <td>4.5</td>\n",
       "      <td>0</td>\n",
       "      <td>50.0</td>\n",
       "    </tr>\n",
       "    <tr>\n",
       "      <th>22</th>\n",
       "      <td>32843473</td>\n",
       "      <td>2020-03-31</td>\n",
       "      <td>2021-02-22</td>\n",
       "      <td>1.0</td>\n",
       "      <td>1.0</td>\n",
       "      <td>12.0</td>\n",
       "      <td>4.5</td>\n",
       "      <td>0</td>\n",
       "      <td>50.0</td>\n",
       "    </tr>\n",
       "    <tr>\n",
       "      <th>23</th>\n",
       "      <td>32843473</td>\n",
       "      <td>2020-03-31</td>\n",
       "      <td>2021-02-23</td>\n",
       "      <td>1.0</td>\n",
       "      <td>1.0</td>\n",
       "      <td>12.0</td>\n",
       "      <td>4.5</td>\n",
       "      <td>0</td>\n",
       "      <td>50.0</td>\n",
       "    </tr>\n",
       "    <tr>\n",
       "      <th>...</th>\n",
       "      <td>...</td>\n",
       "      <td>...</td>\n",
       "      <td>...</td>\n",
       "      <td>...</td>\n",
       "      <td>...</td>\n",
       "      <td>...</td>\n",
       "      <td>...</td>\n",
       "      <td>...</td>\n",
       "      <td>...</td>\n",
       "    </tr>\n",
       "    <tr>\n",
       "      <th>284061</th>\n",
       "      <td>40894598</td>\n",
       "      <td>2020-03-29</td>\n",
       "      <td>2021-02-20</td>\n",
       "      <td>1.0</td>\n",
       "      <td>2.0</td>\n",
       "      <td>0.0</td>\n",
       "      <td>0.0</td>\n",
       "      <td>0</td>\n",
       "      <td>2000.0</td>\n",
       "    </tr>\n",
       "    <tr>\n",
       "      <th>284063</th>\n",
       "      <td>40892444</td>\n",
       "      <td>2020-04-01</td>\n",
       "      <td>2021-03-17</td>\n",
       "      <td>2.0</td>\n",
       "      <td>3.0</td>\n",
       "      <td>0.0</td>\n",
       "      <td>0.0</td>\n",
       "      <td>0</td>\n",
       "      <td>2000.0</td>\n",
       "    </tr>\n",
       "    <tr>\n",
       "      <th>284065</th>\n",
       "      <td>40892444</td>\n",
       "      <td>2020-04-01</td>\n",
       "      <td>2021-03-18</td>\n",
       "      <td>2.0</td>\n",
       "      <td>3.0</td>\n",
       "      <td>0.0</td>\n",
       "      <td>0.0</td>\n",
       "      <td>0</td>\n",
       "      <td>2000.0</td>\n",
       "    </tr>\n",
       "    <tr>\n",
       "      <th>284068</th>\n",
       "      <td>40892444</td>\n",
       "      <td>2020-04-01</td>\n",
       "      <td>2021-03-19</td>\n",
       "      <td>2.0</td>\n",
       "      <td>3.0</td>\n",
       "      <td>0.0</td>\n",
       "      <td>0.0</td>\n",
       "      <td>0</td>\n",
       "      <td>2000.0</td>\n",
       "    </tr>\n",
       "    <tr>\n",
       "      <th>284069</th>\n",
       "      <td>40894598</td>\n",
       "      <td>2020-03-29</td>\n",
       "      <td>2021-02-05</td>\n",
       "      <td>1.0</td>\n",
       "      <td>2.0</td>\n",
       "      <td>0.0</td>\n",
       "      <td>0.0</td>\n",
       "      <td>0</td>\n",
       "      <td>2000.0</td>\n",
       "    </tr>\n",
       "  </tbody>\n",
       "</table>\n",
       "<p>132023 rows × 9 columns</p>\n",
       "</div>"
      ],
      "text/plain": [
       "        airbnb_listing_id  booked_on       date  number_of_bedrooms  \\\n",
       "19               30964548 2021-01-04 2021-02-21                 1.0   \n",
       "20               32843473 2020-03-31 2021-02-20                 1.0   \n",
       "21               32843473 2020-03-31 2021-02-21                 1.0   \n",
       "22               32843473 2020-03-31 2021-02-22                 1.0   \n",
       "23               32843473 2020-03-31 2021-02-23                 1.0   \n",
       "...                   ...        ...        ...                 ...   \n",
       "284061           40894598 2020-03-29 2021-02-20                 1.0   \n",
       "284063           40892444 2020-04-01 2021-03-17                 2.0   \n",
       "284065           40892444 2020-04-01 2021-03-18                 2.0   \n",
       "284068           40892444 2020-04-01 2021-03-19                 2.0   \n",
       "284069           40894598 2020-03-29 2021-02-05                 1.0   \n",
       "\n",
       "        number_of_bathrooms  number_of_reviews  star_rating  is_superhost  \\\n",
       "19                      1.0               17.0          4.5             0   \n",
       "20                      1.0               12.0          4.5             0   \n",
       "21                      1.0               12.0          4.5             0   \n",
       "22                      1.0               12.0          4.5             0   \n",
       "23                      1.0               12.0          4.5             0   \n",
       "...                     ...                ...          ...           ...   \n",
       "284061                  2.0                0.0          0.0             0   \n",
       "284063                  3.0                0.0          0.0             0   \n",
       "284065                  3.0                0.0          0.0             0   \n",
       "284068                  3.0                0.0          0.0             0   \n",
       "284069                  2.0                0.0          0.0             0   \n",
       "\n",
       "        price_string  \n",
       "19              50.0  \n",
       "20              50.0  \n",
       "21              50.0  \n",
       "22              50.0  \n",
       "23              50.0  \n",
       "...              ...  \n",
       "284061        2000.0  \n",
       "284063        2000.0  \n",
       "284065        2000.0  \n",
       "284068        2000.0  \n",
       "284069        2000.0  \n",
       "\n",
       "[132023 rows x 9 columns]"
      ]
     },
     "execution_count": 18,
     "metadata": {},
     "output_type": "execute_result"
    }
   ],
   "source": [
    "relacoes_numericas = desafio_df[[\"airbnb_listing_id\", \"booked_on\", \"date\", \"number_of_bedrooms\", \"number_of_bathrooms\", \"number_of_reviews\", \"star_rating\", \"is_superhost\", \"price_string\"]].groupby([\"airbnb_listing_id\", \"booked_on\", \"date\", \"number_of_bedrooms\", \"number_of_bathrooms\", \"number_of_reviews\", \"star_rating\",]).sum().sort_values(by=\"price_string\").reset_index()\n",
    "relacoes_numericas = relacoes_numericas[relacoes_numericas.booked_on != \"\"]\n",
    "relacoes_numericas[\"booked_on\"] = pd.to_datetime(relacoes_numericas[\"booked_on\"], format = \"%Y-%m-%d %H:%M:%S\")\n",
    "relacoes_numericas[\"date\"] = pd.to_datetime(relacoes_numericas[\"date\"], format = \"%Y-%m-%d\")\n",
    "relacoes_numericas"
   ]
  },
  {
   "cell_type": "code",
   "execution_count": 19,
   "id": "52fa2d87",
   "metadata": {
    "ExecuteTime": {
     "end_time": "2022-01-16T21:18:28.809147Z",
     "start_time": "2022-01-16T21:18:28.714979Z"
    }
   },
   "outputs": [
    {
     "data": {
      "text/html": [
       "<div>\n",
       "<style scoped>\n",
       "    .dataframe tbody tr th:only-of-type {\n",
       "        vertical-align: middle;\n",
       "    }\n",
       "\n",
       "    .dataframe tbody tr th {\n",
       "        vertical-align: top;\n",
       "    }\n",
       "\n",
       "    .dataframe thead th {\n",
       "        text-align: right;\n",
       "    }\n",
       "</style>\n",
       "<table border=\"1\" class=\"dataframe\">\n",
       "  <thead>\n",
       "    <tr style=\"text-align: right;\">\n",
       "      <th></th>\n",
       "      <th>airbnb_listing_id</th>\n",
       "      <th>number_of_bedrooms</th>\n",
       "      <th>number_of_bathrooms</th>\n",
       "      <th>number_of_reviews</th>\n",
       "      <th>star_rating</th>\n",
       "      <th>is_superhost</th>\n",
       "      <th>price_string</th>\n",
       "    </tr>\n",
       "  </thead>\n",
       "  <tbody>\n",
       "    <tr>\n",
       "      <th>0</th>\n",
       "      <td>42112099</td>\n",
       "      <td>1.0</td>\n",
       "      <td>1.0</td>\n",
       "      <td>0.0</td>\n",
       "      <td>0.0</td>\n",
       "      <td>0</td>\n",
       "      <td>98.0</td>\n",
       "    </tr>\n",
       "    <tr>\n",
       "      <th>1</th>\n",
       "      <td>22124840</td>\n",
       "      <td>1.0</td>\n",
       "      <td>1.0</td>\n",
       "      <td>7.0</td>\n",
       "      <td>5.0</td>\n",
       "      <td>2</td>\n",
       "      <td>130.0</td>\n",
       "    </tr>\n",
       "    <tr>\n",
       "      <th>2</th>\n",
       "      <td>13097427</td>\n",
       "      <td>1.0</td>\n",
       "      <td>1.0</td>\n",
       "      <td>22.0</td>\n",
       "      <td>5.0</td>\n",
       "      <td>1</td>\n",
       "      <td>150.0</td>\n",
       "    </tr>\n",
       "    <tr>\n",
       "      <th>3</th>\n",
       "      <td>41232719</td>\n",
       "      <td>1.0</td>\n",
       "      <td>1.0</td>\n",
       "      <td>3.0</td>\n",
       "      <td>5.0</td>\n",
       "      <td>0</td>\n",
       "      <td>160.0</td>\n",
       "    </tr>\n",
       "    <tr>\n",
       "      <th>4</th>\n",
       "      <td>31682321</td>\n",
       "      <td>1.0</td>\n",
       "      <td>1.0</td>\n",
       "      <td>38.0</td>\n",
       "      <td>5.0</td>\n",
       "      <td>2</td>\n",
       "      <td>160.0</td>\n",
       "    </tr>\n",
       "    <tr>\n",
       "      <th>...</th>\n",
       "      <td>...</td>\n",
       "      <td>...</td>\n",
       "      <td>...</td>\n",
       "      <td>...</td>\n",
       "      <td>...</td>\n",
       "      <td>...</td>\n",
       "      <td>...</td>\n",
       "    </tr>\n",
       "    <tr>\n",
       "      <th>3626</th>\n",
       "      <td>28908271</td>\n",
       "      <td>3.0</td>\n",
       "      <td>2.0</td>\n",
       "      <td>0.0</td>\n",
       "      <td>0.0</td>\n",
       "      <td>0</td>\n",
       "      <td>77230.0</td>\n",
       "    </tr>\n",
       "    <tr>\n",
       "      <th>3627</th>\n",
       "      <td>32374298</td>\n",
       "      <td>1.0</td>\n",
       "      <td>1.0</td>\n",
       "      <td>1.0</td>\n",
       "      <td>0.0</td>\n",
       "      <td>0</td>\n",
       "      <td>78330.0</td>\n",
       "    </tr>\n",
       "    <tr>\n",
       "      <th>3628</th>\n",
       "      <td>16567628</td>\n",
       "      <td>2.0</td>\n",
       "      <td>2.0</td>\n",
       "      <td>3.0</td>\n",
       "      <td>5.0</td>\n",
       "      <td>0</td>\n",
       "      <td>79650.0</td>\n",
       "    </tr>\n",
       "    <tr>\n",
       "      <th>3629</th>\n",
       "      <td>5199040</td>\n",
       "      <td>2.0</td>\n",
       "      <td>2.0</td>\n",
       "      <td>1.0</td>\n",
       "      <td>0.0</td>\n",
       "      <td>0</td>\n",
       "      <td>87540.0</td>\n",
       "    </tr>\n",
       "    <tr>\n",
       "      <th>3630</th>\n",
       "      <td>7725877</td>\n",
       "      <td>3.0</td>\n",
       "      <td>2.0</td>\n",
       "      <td>4.0</td>\n",
       "      <td>5.0</td>\n",
       "      <td>0</td>\n",
       "      <td>89100.0</td>\n",
       "    </tr>\n",
       "  </tbody>\n",
       "</table>\n",
       "<p>3631 rows × 7 columns</p>\n",
       "</div>"
      ],
      "text/plain": [
       "      airbnb_listing_id  number_of_bedrooms  number_of_bathrooms  \\\n",
       "0              42112099                 1.0                  1.0   \n",
       "1              22124840                 1.0                  1.0   \n",
       "2              13097427                 1.0                  1.0   \n",
       "3              41232719                 1.0                  1.0   \n",
       "4              31682321                 1.0                  1.0   \n",
       "...                 ...                 ...                  ...   \n",
       "3626           28908271                 3.0                  2.0   \n",
       "3627           32374298                 1.0                  1.0   \n",
       "3628           16567628                 2.0                  2.0   \n",
       "3629            5199040                 2.0                  2.0   \n",
       "3630            7725877                 3.0                  2.0   \n",
       "\n",
       "      number_of_reviews  star_rating  is_superhost  price_string  \n",
       "0                   0.0          0.0             0          98.0  \n",
       "1                   7.0          5.0             2         130.0  \n",
       "2                  22.0          5.0             1         150.0  \n",
       "3                   3.0          5.0             0         160.0  \n",
       "4                  38.0          5.0             2         160.0  \n",
       "...                 ...          ...           ...           ...  \n",
       "3626                0.0          0.0             0       77230.0  \n",
       "3627                1.0          0.0             0       78330.0  \n",
       "3628                3.0          5.0             0       79650.0  \n",
       "3629                1.0          0.0             0       87540.0  \n",
       "3630                4.0          5.0             0       89100.0  \n",
       "\n",
       "[3631 rows x 7 columns]"
      ]
     },
     "execution_count": 19,
     "metadata": {},
     "output_type": "execute_result"
    }
   ],
   "source": [
    "faturamento_e_caracteristica = relacoes_numericas[[\"airbnb_listing_id\", \"number_of_bedrooms\", \"number_of_bathrooms\", \"number_of_reviews\", \"star_rating\", \"is_superhost\", \"price_string\"]].groupby([\"airbnb_listing_id\", \"number_of_bedrooms\", \"number_of_bathrooms\", \"number_of_reviews\", \"star_rating\", \"is_superhost\"]).sum().sort_values(by=\"price_string\").reset_index()\n",
    "faturamento_e_caracteristica"
   ]
  },
  {
   "cell_type": "code",
   "execution_count": 20,
   "id": "69509e31",
   "metadata": {
    "ExecuteTime": {
     "end_time": "2022-01-16T21:18:41.241268Z",
     "start_time": "2022-01-16T21:18:28.812366Z"
    }
   },
   "outputs": [
    {
     "data": {
      "image/png": "[encoded data removed]",
      "text/plain": [
       "<Figure size 1260x1260 with 56 Axes>"
      ]
     },
     "metadata": {
      "needs_background": "light"
     },
     "output_type": "display_data"
    }
   ],
   "source": [
    "sns.pairplot(faturamento_e_caracteristica);"
   ]
  },
  {
   "cell_type": "code",
   "execution_count": 21,
   "id": "03d3ed59",
   "metadata": {
    "ExecuteTime": {
     "end_time": "2022-01-16T21:18:42.286079Z",
     "start_time": "2022-01-16T21:18:41.246149Z"
    }
   },
   "outputs": [
    {
     "data": {
      "image/png": "[encoded data removed]",
      "text/plain": [
       "<Figure size 1440x1440 with 2 Axes>"
      ]
     },
     "metadata": {
      "needs_background": "light"
     },
     "output_type": "display_data"
    }
   ],
   "source": [
    "plt.figure(figsize=(20,20))\n",
    "sns.heatmap(faturamento_e_caracteristica.corr(), annot=True);"
   ]
  },
  {
   "cell_type": "code",
   "execution_count": 22,
   "id": "5e04f754",
   "metadata": {
    "ExecuteTime": {
     "end_time": "2022-01-16T21:18:42.321756Z",
     "start_time": "2022-01-16T21:18:42.289462Z"
    }
   },
   "outputs": [
    {
     "data": {
      "text/html": [
       "<div>\n",
       "<style scoped>\n",
       "    .dataframe tbody tr th:only-of-type {\n",
       "        vertical-align: middle;\n",
       "    }\n",
       "\n",
       "    .dataframe tbody tr th {\n",
       "        vertical-align: top;\n",
       "    }\n",
       "\n",
       "    .dataframe thead th {\n",
       "        text-align: right;\n",
       "    }\n",
       "</style>\n",
       "<table border=\"1\" class=\"dataframe\">\n",
       "  <thead>\n",
       "    <tr style=\"text-align: right;\">\n",
       "      <th></th>\n",
       "      <th>number_of_bathrooms</th>\n",
       "      <th>price_string</th>\n",
       "    </tr>\n",
       "  </thead>\n",
       "  <tbody>\n",
       "    <tr>\n",
       "      <th>0</th>\n",
       "      <td>0.0</td>\n",
       "      <td>17025.00</td>\n",
       "    </tr>\n",
       "    <tr>\n",
       "      <th>1</th>\n",
       "      <td>1.0</td>\n",
       "      <td>10113.68</td>\n",
       "    </tr>\n",
       "    <tr>\n",
       "      <th>2</th>\n",
       "      <td>2.0</td>\n",
       "      <td>14767.45</td>\n",
       "    </tr>\n",
       "    <tr>\n",
       "      <th>3</th>\n",
       "      <td>3.0</td>\n",
       "      <td>20579.04</td>\n",
       "    </tr>\n",
       "    <tr>\n",
       "      <th>4</th>\n",
       "      <td>4.0</td>\n",
       "      <td>18737.96</td>\n",
       "    </tr>\n",
       "    <tr>\n",
       "      <th>5</th>\n",
       "      <td>5.0</td>\n",
       "      <td>27376.00</td>\n",
       "    </tr>\n",
       "    <tr>\n",
       "      <th>6</th>\n",
       "      <td>6.0</td>\n",
       "      <td>30300.00</td>\n",
       "    </tr>\n",
       "  </tbody>\n",
       "</table>\n",
       "</div>"
      ],
      "text/plain": [
       "   number_of_bathrooms  price_string\n",
       "0                  0.0      17025.00\n",
       "1                  1.0      10113.68\n",
       "2                  2.0      14767.45\n",
       "3                  3.0      20579.04\n",
       "4                  4.0      18737.96\n",
       "5                  5.0      27376.00\n",
       "6                  6.0      30300.00"
      ]
     },
     "execution_count": 22,
     "metadata": {},
     "output_type": "execute_result"
    }
   ],
   "source": [
    "faturamento_medio_banheiro = faturamento_e_caracteristica[[\"number_of_bathrooms\", \"price_string\"]].groupby(\"number_of_bathrooms\").mean().reset_index()\n",
    "faturamento_medio_banheiro[\"price_string\"] = faturamento_medio_banheiro[\"price_string\"].round(2)\n",
    "faturamento_medio_banheiro"
   ]
  },
  {
   "cell_type": "code",
   "execution_count": 23,
   "id": "dd1ad224",
   "metadata": {
    "ExecuteTime": {
     "end_time": "2022-01-16T21:18:42.732686Z",
     "start_time": "2022-01-16T21:18:42.326994Z"
    }
   },
   "outputs": [
    {
     "data": {
      "image/png": "[encoded data removed]",
      "text/plain": [
       "<Figure size 432x288 with 1 Axes>"
      ]
     },
     "metadata": {
      "needs_background": "light"
     },
     "output_type": "display_data"
    }
   ],
   "source": [
    "faturamento_banheiro_grafico = sns.barplot(x=faturamento_medio_banheiro[\"number_of_bathrooms\"], y=faturamento_medio_banheiro[\"price_string\"]);\n",
    "faturamento_banheiro_grafico.set(xlabel=\"Número de banheiros\", ylabel=\"Faturamento médio\")\n",
    "plt.show()"
   ]
  },
  {
   "cell_type": "code",
   "execution_count": 24,
   "id": "f4f80440",
   "metadata": {
    "ExecuteTime": {
     "end_time": "2022-01-16T21:18:42.781439Z",
     "start_time": "2022-01-16T21:18:42.739053Z"
    }
   },
   "outputs": [
    {
     "data": {
      "text/html": [
       "<div>\n",
       "<style scoped>\n",
       "    .dataframe tbody tr th:only-of-type {\n",
       "        vertical-align: middle;\n",
       "    }\n",
       "\n",
       "    .dataframe tbody tr th {\n",
       "        vertical-align: top;\n",
       "    }\n",
       "\n",
       "    .dataframe thead th {\n",
       "        text-align: right;\n",
       "    }\n",
       "</style>\n",
       "<table border=\"1\" class=\"dataframe\">\n",
       "  <thead>\n",
       "    <tr style=\"text-align: right;\">\n",
       "      <th></th>\n",
       "      <th>number_of_bathrooms</th>\n",
       "      <th>airbnb_listing_id</th>\n",
       "    </tr>\n",
       "  </thead>\n",
       "  <tbody>\n",
       "    <tr>\n",
       "      <th>0</th>\n",
       "      <td>0.0</td>\n",
       "      <td>2</td>\n",
       "    </tr>\n",
       "    <tr>\n",
       "      <th>1</th>\n",
       "      <td>1.0</td>\n",
       "      <td>2052</td>\n",
       "    </tr>\n",
       "    <tr>\n",
       "      <th>2</th>\n",
       "      <td>2.0</td>\n",
       "      <td>1400</td>\n",
       "    </tr>\n",
       "    <tr>\n",
       "      <th>3</th>\n",
       "      <td>3.0</td>\n",
       "      <td>149</td>\n",
       "    </tr>\n",
       "    <tr>\n",
       "      <th>4</th>\n",
       "      <td>4.0</td>\n",
       "      <td>23</td>\n",
       "    </tr>\n",
       "    <tr>\n",
       "      <th>5</th>\n",
       "      <td>5.0</td>\n",
       "      <td>4</td>\n",
       "    </tr>\n",
       "    <tr>\n",
       "      <th>6</th>\n",
       "      <td>6.0</td>\n",
       "      <td>1</td>\n",
       "    </tr>\n",
       "  </tbody>\n",
       "</table>\n",
       "</div>"
      ],
      "text/plain": [
       "   number_of_bathrooms  airbnb_listing_id\n",
       "0                  0.0                  2\n",
       "1                  1.0               2052\n",
       "2                  2.0               1400\n",
       "3                  3.0                149\n",
       "4                  4.0                 23\n",
       "5                  5.0                  4\n",
       "6                  6.0                  1"
      ]
     },
     "execution_count": 24,
     "metadata": {},
     "output_type": "execute_result"
    }
   ],
   "source": [
    "listing_por_banheiro = faturamento_e_caracteristica[[\"airbnb_listing_id\", \"number_of_bathrooms\"]].groupby(\"number_of_bathrooms\").count().reset_index()\n",
    "listing_por_banheiro"
   ]
  },
  {
   "cell_type": "code",
   "execution_count": 25,
   "id": "108fbdef",
   "metadata": {
    "ExecuteTime": {
     "end_time": "2022-01-16T21:18:43.114933Z",
     "start_time": "2022-01-16T21:18:42.784379Z"
    }
   },
   "outputs": [
    {
     "data": {
      "image/png": "[encoded data removed]",
      "text/plain": [
       "<Figure size 432x288 with 1 Axes>"
      ]
     },
     "metadata": {
      "needs_background": "light"
     },
     "output_type": "display_data"
    }
   ],
   "source": [
    "listing_por_banheiro_grafico = sns.barplot(x=listing_por_banheiro[\"number_of_bathrooms\"], y=listing_por_banheiro[\"airbnb_listing_id\"]);\n",
    "listing_por_banheiro_grafico.set(xlabel=\"Número de banheiros\", ylabel=\"Contagem de listings\")\n",
    "plt.show()"
   ]
  },
  {
   "cell_type": "code",
   "execution_count": 26,
   "id": "263c7db0",
   "metadata": {
    "ExecuteTime": {
     "end_time": "2022-01-16T21:18:43.150603Z",
     "start_time": "2022-01-16T21:18:43.117278Z"
    }
   },
   "outputs": [
    {
     "data": {
      "text/html": [
       "<div>\n",
       "<style scoped>\n",
       "    .dataframe tbody tr th:only-of-type {\n",
       "        vertical-align: middle;\n",
       "    }\n",
       "\n",
       "    .dataframe tbody tr th {\n",
       "        vertical-align: top;\n",
       "    }\n",
       "\n",
       "    .dataframe thead th {\n",
       "        text-align: right;\n",
       "    }\n",
       "</style>\n",
       "<table border=\"1\" class=\"dataframe\">\n",
       "  <thead>\n",
       "    <tr style=\"text-align: right;\">\n",
       "      <th></th>\n",
       "      <th>number_of_bedrooms</th>\n",
       "      <th>price_string</th>\n",
       "    </tr>\n",
       "  </thead>\n",
       "  <tbody>\n",
       "    <tr>\n",
       "      <th>0</th>\n",
       "      <td>0.0</td>\n",
       "      <td>9238.42</td>\n",
       "    </tr>\n",
       "    <tr>\n",
       "      <th>1</th>\n",
       "      <td>1.0</td>\n",
       "      <td>10000.27</td>\n",
       "    </tr>\n",
       "    <tr>\n",
       "      <th>2</th>\n",
       "      <td>2.0</td>\n",
       "      <td>12950.32</td>\n",
       "    </tr>\n",
       "    <tr>\n",
       "      <th>3</th>\n",
       "      <td>3.0</td>\n",
       "      <td>18107.75</td>\n",
       "    </tr>\n",
       "    <tr>\n",
       "      <th>4</th>\n",
       "      <td>4.0</td>\n",
       "      <td>21354.76</td>\n",
       "    </tr>\n",
       "    <tr>\n",
       "      <th>5</th>\n",
       "      <td>5.0</td>\n",
       "      <td>20646.00</td>\n",
       "    </tr>\n",
       "  </tbody>\n",
       "</table>\n",
       "</div>"
      ],
      "text/plain": [
       "   number_of_bedrooms  price_string\n",
       "0                 0.0       9238.42\n",
       "1                 1.0      10000.27\n",
       "2                 2.0      12950.32\n",
       "3                 3.0      18107.75\n",
       "4                 4.0      21354.76\n",
       "5                 5.0      20646.00"
      ]
     },
     "execution_count": 26,
     "metadata": {},
     "output_type": "execute_result"
    }
   ],
   "source": [
    "faturamento_quarto = faturamento_e_caracteristica[[\"number_of_bedrooms\", \"price_string\"]].groupby(\"number_of_bedrooms\").mean().reset_index()\n",
    "faturamento_quarto[\"price_string\"] = faturamento_quarto[\"price_string\"].round(2)\n",
    "faturamento_quarto"
   ]
  },
  {
   "cell_type": "code",
   "execution_count": 27,
   "id": "c2e86ce1",
   "metadata": {
    "ExecuteTime": {
     "end_time": "2022-01-16T21:18:43.492455Z",
     "start_time": "2022-01-16T21:18:43.158222Z"
    }
   },
   "outputs": [
    {
     "data": {
      "image/png": "[encoded data removed]",
      "text/plain": [
       "<Figure size 432x288 with 1 Axes>"
      ]
     },
     "metadata": {
      "needs_background": "light"
     },
     "output_type": "display_data"
    }
   ],
   "source": [
    "faturamento_quarto_grafico = sns.barplot(x=faturamento_quarto[\"number_of_bedrooms\"], y=faturamento_quarto[\"price_string\"]);\n",
    "faturamento_quarto_grafico.set(xlabel=\"Número de quartos\", ylabel=\"Faturamento médio\")\n",
    "plt.show()"
   ]
  },
  {
   "cell_type": "code",
   "execution_count": 28,
   "id": "48f12699",
   "metadata": {
    "ExecuteTime": {
     "end_time": "2022-01-16T21:18:43.523502Z",
     "start_time": "2022-01-16T21:18:43.502773Z"
    }
   },
   "outputs": [
    {
     "data": {
      "text/html": [
       "<div>\n",
       "<style scoped>\n",
       "    .dataframe tbody tr th:only-of-type {\n",
       "        vertical-align: middle;\n",
       "    }\n",
       "\n",
       "    .dataframe tbody tr th {\n",
       "        vertical-align: top;\n",
       "    }\n",
       "\n",
       "    .dataframe thead th {\n",
       "        text-align: right;\n",
       "    }\n",
       "</style>\n",
       "<table border=\"1\" class=\"dataframe\">\n",
       "  <thead>\n",
       "    <tr style=\"text-align: right;\">\n",
       "      <th></th>\n",
       "      <th>number_of_bedrooms</th>\n",
       "      <th>airbnb_listing_id</th>\n",
       "    </tr>\n",
       "  </thead>\n",
       "  <tbody>\n",
       "    <tr>\n",
       "      <th>0</th>\n",
       "      <td>0.0</td>\n",
       "      <td>144</td>\n",
       "    </tr>\n",
       "    <tr>\n",
       "      <th>1</th>\n",
       "      <td>1.0</td>\n",
       "      <td>1393</td>\n",
       "    </tr>\n",
       "    <tr>\n",
       "      <th>2</th>\n",
       "      <td>2.0</td>\n",
       "      <td>1598</td>\n",
       "    </tr>\n",
       "    <tr>\n",
       "      <th>3</th>\n",
       "      <td>3.0</td>\n",
       "      <td>445</td>\n",
       "    </tr>\n",
       "    <tr>\n",
       "      <th>4</th>\n",
       "      <td>4.0</td>\n",
       "      <td>46</td>\n",
       "    </tr>\n",
       "    <tr>\n",
       "      <th>5</th>\n",
       "      <td>5.0</td>\n",
       "      <td>5</td>\n",
       "    </tr>\n",
       "  </tbody>\n",
       "</table>\n",
       "</div>"
      ],
      "text/plain": [
       "   number_of_bedrooms  airbnb_listing_id\n",
       "0                 0.0                144\n",
       "1                 1.0               1393\n",
       "2                 2.0               1598\n",
       "3                 3.0                445\n",
       "4                 4.0                 46\n",
       "5                 5.0                  5"
      ]
     },
     "execution_count": 28,
     "metadata": {},
     "output_type": "execute_result"
    }
   ],
   "source": [
    "listing_por_quarto = faturamento_e_caracteristica[[\"number_of_bedrooms\", \"airbnb_listing_id\"]].groupby(\"number_of_bedrooms\").count().reset_index()\n",
    "listing_por_quarto"
   ]
  },
  {
   "cell_type": "code",
   "execution_count": 29,
   "id": "222499e0",
   "metadata": {
    "ExecuteTime": {
     "end_time": "2022-01-16T21:18:43.869183Z",
     "start_time": "2022-01-16T21:18:43.527407Z"
    }
   },
   "outputs": [
    {
     "data": {
      "image/png": "[encoded data removed]",
      "text/plain": [
       "<Figure size 432x288 with 1 Axes>"
      ]
     },
     "metadata": {
      "needs_background": "light"
     },
     "output_type": "display_data"
    }
   ],
   "source": [
    "listing_por_quarto_grafico = sns.barplot(x=listing_por_quarto[\"number_of_bedrooms\"], y=listing_por_quarto[\"airbnb_listing_id\"]);\n",
    "listing_por_quarto_grafico.set(xlabel=\"Número de quartos\", ylabel=\"Contagem de listings\")\n",
    "plt.show()"
   ]
  },
  {
   "cell_type": "code",
   "execution_count": 30,
   "id": "f8354fc3",
   "metadata": {
    "ExecuteTime": {
     "end_time": "2022-01-16T21:18:43.925264Z",
     "start_time": "2022-01-16T21:18:43.874087Z"
    }
   },
   "outputs": [
    {
     "data": {
      "text/html": [
       "<div>\n",
       "<style scoped>\n",
       "    .dataframe tbody tr th:only-of-type {\n",
       "        vertical-align: middle;\n",
       "    }\n",
       "\n",
       "    .dataframe tbody tr th {\n",
       "        vertical-align: top;\n",
       "    }\n",
       "\n",
       "    .dataframe thead th {\n",
       "        text-align: right;\n",
       "    }\n",
       "</style>\n",
       "<table border=\"1\" class=\"dataframe\">\n",
       "  <thead>\n",
       "    <tr style=\"text-align: right;\">\n",
       "      <th></th>\n",
       "      <th>star_rating</th>\n",
       "      <th>price_string</th>\n",
       "    </tr>\n",
       "  </thead>\n",
       "  <tbody>\n",
       "    <tr>\n",
       "      <th>0</th>\n",
       "      <td>0.0</td>\n",
       "      <td>13266.63</td>\n",
       "    </tr>\n",
       "    <tr>\n",
       "      <th>1</th>\n",
       "      <td>3.0</td>\n",
       "      <td>18682.00</td>\n",
       "    </tr>\n",
       "    <tr>\n",
       "      <th>2</th>\n",
       "      <td>3.5</td>\n",
       "      <td>6220.00</td>\n",
       "    </tr>\n",
       "    <tr>\n",
       "      <th>3</th>\n",
       "      <td>4.0</td>\n",
       "      <td>9789.07</td>\n",
       "    </tr>\n",
       "    <tr>\n",
       "      <th>4</th>\n",
       "      <td>4.5</td>\n",
       "      <td>12266.74</td>\n",
       "    </tr>\n",
       "    <tr>\n",
       "      <th>5</th>\n",
       "      <td>5.0</td>\n",
       "      <td>11863.41</td>\n",
       "    </tr>\n",
       "  </tbody>\n",
       "</table>\n",
       "</div>"
      ],
      "text/plain": [
       "   star_rating  price_string\n",
       "0          0.0      13266.63\n",
       "1          3.0      18682.00\n",
       "2          3.5       6220.00\n",
       "3          4.0       9789.07\n",
       "4          4.5      12266.74\n",
       "5          5.0      11863.41"
      ]
     },
     "execution_count": 30,
     "metadata": {},
     "output_type": "execute_result"
    }
   ],
   "source": [
    "faturamento_rating = faturamento_e_caracteristica[[\"star_rating\", \"price_string\"]].groupby(\"star_rating\").mean().reset_index()\n",
    "faturamento_rating[\"price_string\"] = faturamento_rating[\"price_string\"].round(2)\n",
    "faturamento_rating"
   ]
  },
  {
   "cell_type": "code",
   "execution_count": 31,
   "id": "1bb4b925",
   "metadata": {
    "ExecuteTime": {
     "end_time": "2022-01-16T21:18:44.193116Z",
     "start_time": "2022-01-16T21:18:43.928452Z"
    }
   },
   "outputs": [
    {
     "data": {
      "image/png": "[encoded data removed]",
      "text/plain": [
       "<Figure size 432x288 with 1 Axes>"
      ]
     },
     "metadata": {
      "needs_background": "light"
     },
     "output_type": "display_data"
    }
   ],
   "source": [
    "faturamento_rating_grafico = sns.barplot(x=faturamento_rating[\"star_rating\"], y=faturamento_rating[\"price_string\"]);\n",
    "faturamento_rating_grafico.set(xlabel=\"Rating\", ylabel=\"Faturamento médio\")\n",
    "plt.show()"
   ]
  },
  {
   "cell_type": "code",
   "execution_count": 32,
   "id": "8551dcd3",
   "metadata": {
    "ExecuteTime": {
     "end_time": "2022-01-16T21:18:44.216096Z",
     "start_time": "2022-01-16T21:18:44.195638Z"
    }
   },
   "outputs": [
    {
     "data": {
      "text/html": [
       "<div>\n",
       "<style scoped>\n",
       "    .dataframe tbody tr th:only-of-type {\n",
       "        vertical-align: middle;\n",
       "    }\n",
       "\n",
       "    .dataframe tbody tr th {\n",
       "        vertical-align: top;\n",
       "    }\n",
       "\n",
       "    .dataframe thead th {\n",
       "        text-align: right;\n",
       "    }\n",
       "</style>\n",
       "<table border=\"1\" class=\"dataframe\">\n",
       "  <thead>\n",
       "    <tr style=\"text-align: right;\">\n",
       "      <th></th>\n",
       "      <th>star_rating</th>\n",
       "      <th>airbnb_listing_id</th>\n",
       "    </tr>\n",
       "  </thead>\n",
       "  <tbody>\n",
       "    <tr>\n",
       "      <th>0</th>\n",
       "      <td>0.0</td>\n",
       "      <td>1417</td>\n",
       "    </tr>\n",
       "    <tr>\n",
       "      <th>1</th>\n",
       "      <td>3.0</td>\n",
       "      <td>2</td>\n",
       "    </tr>\n",
       "    <tr>\n",
       "      <th>2</th>\n",
       "      <td>3.5</td>\n",
       "      <td>10</td>\n",
       "    </tr>\n",
       "    <tr>\n",
       "      <th>3</th>\n",
       "      <td>4.0</td>\n",
       "      <td>46</td>\n",
       "    </tr>\n",
       "    <tr>\n",
       "      <th>4</th>\n",
       "      <td>4.5</td>\n",
       "      <td>428</td>\n",
       "    </tr>\n",
       "    <tr>\n",
       "      <th>5</th>\n",
       "      <td>5.0</td>\n",
       "      <td>1728</td>\n",
       "    </tr>\n",
       "  </tbody>\n",
       "</table>\n",
       "</div>"
      ],
      "text/plain": [
       "   star_rating  airbnb_listing_id\n",
       "0          0.0               1417\n",
       "1          3.0                  2\n",
       "2          3.5                 10\n",
       "3          4.0                 46\n",
       "4          4.5                428\n",
       "5          5.0               1728"
      ]
     },
     "execution_count": 32,
     "metadata": {},
     "output_type": "execute_result"
    }
   ],
   "source": [
    "listing_por_rating = faturamento_e_caracteristica[[\"star_rating\", \"airbnb_listing_id\"]].groupby(\"star_rating\").count().reset_index()\n",
    "listing_por_rating"
   ]
  },
  {
   "cell_type": "code",
   "execution_count": 33,
   "id": "ac991549",
   "metadata": {
    "ExecuteTime": {
     "end_time": "2022-01-16T21:18:44.490329Z",
     "start_time": "2022-01-16T21:18:44.219347Z"
    }
   },
   "outputs": [
    {
     "data": {
      "image/png": "[encoded data removed]",
      "text/plain": [
       "<Figure size 432x288 with 1 Axes>"
      ]
     },
     "metadata": {
      "needs_background": "light"
     },
     "output_type": "display_data"
    }
   ],
   "source": [
    "listing_por_rating_grafico = sns.barplot(x=listing_por_rating[\"star_rating\"], y=listing_por_rating[\"airbnb_listing_id\"]);\n",
    "listing_por_rating_grafico.set(xlabel=\"Rating\", ylabel=\"Contagem de listings\")\n",
    "plt.show()"
   ]
  },
  {
   "cell_type": "code",
   "execution_count": 34,
   "id": "c495e636",
   "metadata": {
    "ExecuteTime": {
     "end_time": "2022-01-16T21:18:44.553584Z",
     "start_time": "2022-01-16T21:18:44.492690Z"
    }
   },
   "outputs": [
    {
     "data": {
      "text/html": [
       "<div>\n",
       "<style scoped>\n",
       "    .dataframe tbody tr th:only-of-type {\n",
       "        vertical-align: middle;\n",
       "    }\n",
       "\n",
       "    .dataframe tbody tr th {\n",
       "        vertical-align: top;\n",
       "    }\n",
       "\n",
       "    .dataframe thead th {\n",
       "        text-align: right;\n",
       "    }\n",
       "</style>\n",
       "<table border=\"1\" class=\"dataframe\">\n",
       "  <thead>\n",
       "    <tr style=\"text-align: right;\">\n",
       "      <th></th>\n",
       "      <th>number_of_reviews</th>\n",
       "      <th>price_string</th>\n",
       "      <th>range_of_reviews</th>\n",
       "    </tr>\n",
       "  </thead>\n",
       "  <tbody>\n",
       "    <tr>\n",
       "      <th>0</th>\n",
       "      <td>0.0</td>\n",
       "      <td>10217339.0</td>\n",
       "      <td>NaN</td>\n",
       "    </tr>\n",
       "    <tr>\n",
       "      <th>1</th>\n",
       "      <td>1.0</td>\n",
       "      <td>5792119.0</td>\n",
       "      <td>(0.0, 50.0]</td>\n",
       "    </tr>\n",
       "    <tr>\n",
       "      <th>2</th>\n",
       "      <td>2.0</td>\n",
       "      <td>2699185.0</td>\n",
       "      <td>(0.0, 50.0]</td>\n",
       "    </tr>\n",
       "    <tr>\n",
       "      <th>3</th>\n",
       "      <td>3.0</td>\n",
       "      <td>2619524.0</td>\n",
       "      <td>(0.0, 50.0]</td>\n",
       "    </tr>\n",
       "    <tr>\n",
       "      <th>4</th>\n",
       "      <td>4.0</td>\n",
       "      <td>1677722.0</td>\n",
       "      <td>(0.0, 50.0]</td>\n",
       "    </tr>\n",
       "    <tr>\n",
       "      <th>...</th>\n",
       "      <td>...</td>\n",
       "      <td>...</td>\n",
       "      <td>...</td>\n",
       "    </tr>\n",
       "    <tr>\n",
       "      <th>112</th>\n",
       "      <td>163.0</td>\n",
       "      <td>35760.0</td>\n",
       "      <td>(150.0, 200.0]</td>\n",
       "    </tr>\n",
       "    <tr>\n",
       "      <th>113</th>\n",
       "      <td>188.0</td>\n",
       "      <td>4768.0</td>\n",
       "      <td>(150.0, 200.0]</td>\n",
       "    </tr>\n",
       "    <tr>\n",
       "      <th>114</th>\n",
       "      <td>205.0</td>\n",
       "      <td>3040.0</td>\n",
       "      <td>(200.0, 250.0]</td>\n",
       "    </tr>\n",
       "    <tr>\n",
       "      <th>115</th>\n",
       "      <td>215.0</td>\n",
       "      <td>34244.0</td>\n",
       "      <td>(200.0, 250.0]</td>\n",
       "    </tr>\n",
       "    <tr>\n",
       "      <th>116</th>\n",
       "      <td>232.0</td>\n",
       "      <td>8150.0</td>\n",
       "      <td>(200.0, 250.0]</td>\n",
       "    </tr>\n",
       "  </tbody>\n",
       "</table>\n",
       "<p>117 rows × 3 columns</p>\n",
       "</div>"
      ],
      "text/plain": [
       "     number_of_reviews  price_string range_of_reviews\n",
       "0                  0.0    10217339.0              NaN\n",
       "1                  1.0     5792119.0      (0.0, 50.0]\n",
       "2                  2.0     2699185.0      (0.0, 50.0]\n",
       "3                  3.0     2619524.0      (0.0, 50.0]\n",
       "4                  4.0     1677722.0      (0.0, 50.0]\n",
       "..                 ...           ...              ...\n",
       "112              163.0       35760.0   (150.0, 200.0]\n",
       "113              188.0        4768.0   (150.0, 200.0]\n",
       "114              205.0        3040.0   (200.0, 250.0]\n",
       "115              215.0       34244.0   (200.0, 250.0]\n",
       "116              232.0        8150.0   (200.0, 250.0]\n",
       "\n",
       "[117 rows x 3 columns]"
      ]
     },
     "execution_count": 34,
     "metadata": {},
     "output_type": "execute_result"
    }
   ],
   "source": [
    "faturamento_reviews = faturamento_e_caracteristica[[\"number_of_reviews\", \"price_string\"]].groupby(\"number_of_reviews\").sum().reset_index()\n",
    "faturamento_reviews[\"range_of_reviews\"] = pd.cut(faturamento_reviews[\"number_of_reviews\"], np.arange(0, 300, 50))\n",
    "faturamento_reviews[\"price_string\"] = faturamento_reviews[\"price_string\"].round(2)\n",
    "faturamento_reviews"
   ]
  },
  {
   "cell_type": "code",
   "execution_count": 35,
   "id": "3cc00626",
   "metadata": {
    "ExecuteTime": {
     "end_time": "2022-01-16T21:18:44.580291Z",
     "start_time": "2022-01-16T21:18:44.556065Z"
    }
   },
   "outputs": [
    {
     "data": {
      "text/html": [
       "<div>\n",
       "<style scoped>\n",
       "    .dataframe tbody tr th:only-of-type {\n",
       "        vertical-align: middle;\n",
       "    }\n",
       "\n",
       "    .dataframe tbody tr th {\n",
       "        vertical-align: top;\n",
       "    }\n",
       "\n",
       "    .dataframe thead th {\n",
       "        text-align: right;\n",
       "    }\n",
       "</style>\n",
       "<table border=\"1\" class=\"dataframe\">\n",
       "  <thead>\n",
       "    <tr style=\"text-align: right;\">\n",
       "      <th></th>\n",
       "      <th>range_of_reviews</th>\n",
       "      <th>price_string</th>\n",
       "    </tr>\n",
       "  </thead>\n",
       "  <tbody>\n",
       "    <tr>\n",
       "      <th>0</th>\n",
       "      <td>(0, 50]</td>\n",
       "      <td>651468.420000</td>\n",
       "    </tr>\n",
       "    <tr>\n",
       "      <th>1</th>\n",
       "      <td>(50, 100]</td>\n",
       "      <td>40320.955556</td>\n",
       "    </tr>\n",
       "    <tr>\n",
       "      <th>2</th>\n",
       "      <td>(100, 150]</td>\n",
       "      <td>28385.857143</td>\n",
       "    </tr>\n",
       "    <tr>\n",
       "      <th>3</th>\n",
       "      <td>(150, 200]</td>\n",
       "      <td>12692.500000</td>\n",
       "    </tr>\n",
       "    <tr>\n",
       "      <th>4</th>\n",
       "      <td>(200, 250]</td>\n",
       "      <td>15144.666667</td>\n",
       "    </tr>\n",
       "  </tbody>\n",
       "</table>\n",
       "</div>"
      ],
      "text/plain": [
       "  range_of_reviews   price_string\n",
       "0          (0, 50]  651468.420000\n",
       "1        (50, 100]   40320.955556\n",
       "2       (100, 150]   28385.857143\n",
       "3       (150, 200]   12692.500000\n",
       "4       (200, 250]   15144.666667"
      ]
     },
     "execution_count": 35,
     "metadata": {},
     "output_type": "execute_result"
    }
   ],
   "source": [
    "faturamento_medio_reviews = faturamento_reviews[[\"range_of_reviews\", \"price_string\"]].groupby(\"range_of_reviews\").mean().reset_index()\n",
    "faturamento_medio_reviews"
   ]
  },
  {
   "cell_type": "code",
   "execution_count": 36,
   "id": "5d6b3846",
   "metadata": {
    "ExecuteTime": {
     "end_time": "2022-01-16T21:18:44.866008Z",
     "start_time": "2022-01-16T21:18:44.585395Z"
    }
   },
   "outputs": [
    {
     "data": {
      "image/png": "[encoded data removed]",
      "text/plain": [
       "<Figure size 432x288 with 1 Axes>"
      ]
     },
     "metadata": {
      "needs_background": "light"
     },
     "output_type": "display_data"
    }
   ],
   "source": [
    "faturamento_rating_reviews = sns.barplot(x=faturamento_medio_reviews[\"range_of_reviews\"], y=faturamento_medio_reviews[\"price_string\"]);\n",
    "faturamento_rating_reviews.set(xlabel=\"Alcance de Reviews\", ylabel=\"Faturamento médio\")\n",
    "plt.show()"
   ]
  },
  {
   "cell_type": "code",
   "execution_count": 37,
   "id": "2a9c9757",
   "metadata": {
    "ExecuteTime": {
     "end_time": "2022-01-16T21:18:44.903122Z",
     "start_time": "2022-01-16T21:18:44.868922Z"
    }
   },
   "outputs": [
    {
     "data": {
      "text/html": [
       "<div>\n",
       "<style scoped>\n",
       "    .dataframe tbody tr th:only-of-type {\n",
       "        vertical-align: middle;\n",
       "    }\n",
       "\n",
       "    .dataframe tbody tr th {\n",
       "        vertical-align: top;\n",
       "    }\n",
       "\n",
       "    .dataframe thead th {\n",
       "        text-align: right;\n",
       "    }\n",
       "</style>\n",
       "<table border=\"1\" class=\"dataframe\">\n",
       "  <thead>\n",
       "    <tr style=\"text-align: right;\">\n",
       "      <th></th>\n",
       "      <th>number_of_reviews</th>\n",
       "      <th>airbnb_listing_id</th>\n",
       "      <th>range_of_reviews</th>\n",
       "    </tr>\n",
       "  </thead>\n",
       "  <tbody>\n",
       "    <tr>\n",
       "      <th>0</th>\n",
       "      <td>0.0</td>\n",
       "      <td>761</td>\n",
       "      <td>NaN</td>\n",
       "    </tr>\n",
       "    <tr>\n",
       "      <th>1</th>\n",
       "      <td>1.0</td>\n",
       "      <td>426</td>\n",
       "      <td>(0.0, 50.0]</td>\n",
       "    </tr>\n",
       "    <tr>\n",
       "      <th>2</th>\n",
       "      <td>2.0</td>\n",
       "      <td>227</td>\n",
       "      <td>(0.0, 50.0]</td>\n",
       "    </tr>\n",
       "    <tr>\n",
       "      <th>3</th>\n",
       "      <td>3.0</td>\n",
       "      <td>201</td>\n",
       "      <td>(0.0, 50.0]</td>\n",
       "    </tr>\n",
       "    <tr>\n",
       "      <th>4</th>\n",
       "      <td>4.0</td>\n",
       "      <td>149</td>\n",
       "      <td>(0.0, 50.0]</td>\n",
       "    </tr>\n",
       "    <tr>\n",
       "      <th>...</th>\n",
       "      <td>...</td>\n",
       "      <td>...</td>\n",
       "      <td>...</td>\n",
       "    </tr>\n",
       "    <tr>\n",
       "      <th>112</th>\n",
       "      <td>163.0</td>\n",
       "      <td>2</td>\n",
       "      <td>(150.0, 200.0]</td>\n",
       "    </tr>\n",
       "    <tr>\n",
       "      <th>113</th>\n",
       "      <td>188.0</td>\n",
       "      <td>1</td>\n",
       "      <td>(150.0, 200.0]</td>\n",
       "    </tr>\n",
       "    <tr>\n",
       "      <th>114</th>\n",
       "      <td>205.0</td>\n",
       "      <td>1</td>\n",
       "      <td>(200.0, 250.0]</td>\n",
       "    </tr>\n",
       "    <tr>\n",
       "      <th>115</th>\n",
       "      <td>215.0</td>\n",
       "      <td>1</td>\n",
       "      <td>(200.0, 250.0]</td>\n",
       "    </tr>\n",
       "    <tr>\n",
       "      <th>116</th>\n",
       "      <td>232.0</td>\n",
       "      <td>1</td>\n",
       "      <td>(200.0, 250.0]</td>\n",
       "    </tr>\n",
       "  </tbody>\n",
       "</table>\n",
       "<p>117 rows × 3 columns</p>\n",
       "</div>"
      ],
      "text/plain": [
       "     number_of_reviews  airbnb_listing_id range_of_reviews\n",
       "0                  0.0                761              NaN\n",
       "1                  1.0                426      (0.0, 50.0]\n",
       "2                  2.0                227      (0.0, 50.0]\n",
       "3                  3.0                201      (0.0, 50.0]\n",
       "4                  4.0                149      (0.0, 50.0]\n",
       "..                 ...                ...              ...\n",
       "112              163.0                  2   (150.0, 200.0]\n",
       "113              188.0                  1   (150.0, 200.0]\n",
       "114              205.0                  1   (200.0, 250.0]\n",
       "115              215.0                  1   (200.0, 250.0]\n",
       "116              232.0                  1   (200.0, 250.0]\n",
       "\n",
       "[117 rows x 3 columns]"
      ]
     },
     "execution_count": 37,
     "metadata": {},
     "output_type": "execute_result"
    }
   ],
   "source": [
    "listing_por_reviews = faturamento_e_caracteristica[[\"number_of_reviews\", \"airbnb_listing_id\"]].groupby(\"number_of_reviews\").count().reset_index()\n",
    "listing_por_reviews[\"range_of_reviews\"] = pd.cut(listing_por_reviews[\"number_of_reviews\"], np.arange(0, 300, 50))\n",
    "listing_por_reviews"
   ]
  },
  {
   "cell_type": "code",
   "execution_count": 38,
   "id": "d5782e9f",
   "metadata": {
    "ExecuteTime": {
     "end_time": "2022-01-16T21:18:44.922526Z",
     "start_time": "2022-01-16T21:18:44.905313Z"
    }
   },
   "outputs": [
    {
     "data": {
      "text/html": [
       "<div>\n",
       "<style scoped>\n",
       "    .dataframe tbody tr th:only-of-type {\n",
       "        vertical-align: middle;\n",
       "    }\n",
       "\n",
       "    .dataframe tbody tr th {\n",
       "        vertical-align: top;\n",
       "    }\n",
       "\n",
       "    .dataframe thead th {\n",
       "        text-align: right;\n",
       "    }\n",
       "</style>\n",
       "<table border=\"1\" class=\"dataframe\">\n",
       "  <thead>\n",
       "    <tr style=\"text-align: right;\">\n",
       "      <th></th>\n",
       "      <th>range_of_reviews</th>\n",
       "      <th>airbnb_listing_id</th>\n",
       "    </tr>\n",
       "  </thead>\n",
       "  <tbody>\n",
       "    <tr>\n",
       "      <th>0</th>\n",
       "      <td>(0, 50]</td>\n",
       "      <td>50</td>\n",
       "    </tr>\n",
       "    <tr>\n",
       "      <th>1</th>\n",
       "      <td>(50, 100]</td>\n",
       "      <td>45</td>\n",
       "    </tr>\n",
       "    <tr>\n",
       "      <th>2</th>\n",
       "      <td>(100, 150]</td>\n",
       "      <td>14</td>\n",
       "    </tr>\n",
       "    <tr>\n",
       "      <th>3</th>\n",
       "      <td>(150, 200]</td>\n",
       "      <td>4</td>\n",
       "    </tr>\n",
       "    <tr>\n",
       "      <th>4</th>\n",
       "      <td>(200, 250]</td>\n",
       "      <td>3</td>\n",
       "    </tr>\n",
       "  </tbody>\n",
       "</table>\n",
       "</div>"
      ],
      "text/plain": [
       "  range_of_reviews  airbnb_listing_id\n",
       "0          (0, 50]                 50\n",
       "1        (50, 100]                 45\n",
       "2       (100, 150]                 14\n",
       "3       (150, 200]                  4\n",
       "4       (200, 250]                  3"
      ]
     },
     "execution_count": 38,
     "metadata": {},
     "output_type": "execute_result"
    }
   ],
   "source": [
    "listing_alcance_reviews = listing_por_reviews[[\"range_of_reviews\", \"airbnb_listing_id\"]].groupby(\"range_of_reviews\").count().reset_index()\n",
    "listing_alcance_reviews"
   ]
  },
  {
   "cell_type": "code",
   "execution_count": 39,
   "id": "c55f483a",
   "metadata": {
    "ExecuteTime": {
     "end_time": "2022-01-16T21:18:45.226662Z",
     "start_time": "2022-01-16T21:18:44.924866Z"
    }
   },
   "outputs": [
    {
     "data": {
      "image/png": "[encoded data removed]",
      "text/plain": [
       "<Figure size 432x288 with 1 Axes>"
      ]
     },
     "metadata": {
      "needs_background": "light"
     },
     "output_type": "display_data"
    }
   ],
   "source": [
    "listing_por_reviews_grafico = sns.barplot(x=listing_alcance_reviews[\"range_of_reviews\"], y=listing_alcance_reviews[\"airbnb_listing_id\"]);\n",
    "listing_por_reviews_grafico.set(xlabel=\"Alcance de reviews\", ylabel=\"Contagem de listings\")\n",
    "plt.show()"
   ]
  },
  {
   "cell_type": "code",
   "execution_count": 40,
   "id": "6ffb1014",
   "metadata": {
    "ExecuteTime": {
     "end_time": "2022-01-16T21:18:45.554181Z",
     "start_time": "2022-01-16T21:18:45.230106Z"
    }
   },
   "outputs": [],
   "source": [
    "faturamento_superhost = 0\n",
    "faturamento_nao_superhost = 0\n",
    "contador_superhost = 0\n",
    "contador_nao_superhost = 0\n",
    "for i in range(len(faturamento_e_caracteristica[\"is_superhost\"])):\n",
    "    if faturamento_e_caracteristica.iloc[i, 5] != 0:\n",
    "        faturamento_superhost += faturamento_e_caracteristica.iloc[i, 6]\n",
    "        contador_superhost += 1\n",
    "    else:\n",
    "        faturamento_nao_superhost += faturamento_e_caracteristica.iloc[i, 6]\n",
    "        contador_nao_superhost += 1\n",
    "\n",
    "faturamento_superhost_medio = faturamento_superhost / contador_superhost\n",
    "faturamento_nao_superhost_medio = faturamento_nao_superhost / contador_nao_superhost"
   ]
  },
  {
   "cell_type": "code",
   "execution_count": 41,
   "id": "d322d35e",
   "metadata": {
    "ExecuteTime": {
     "end_time": "2022-01-16T21:18:45.562924Z",
     "start_time": "2022-01-16T21:18:45.556101Z"
    }
   },
   "outputs": [
    {
     "name": "stdout",
     "output_type": "stream",
     "text": [
      "Não Superhost\n",
      "Faturamento médio: 13883.80\n",
      "Faturamento total: 33085098.00\n",
      "Número total: 2383\n"
     ]
    }
   ],
   "source": [
    "print(\"Não Superhost\")\n",
    "print(f\"Faturamento médio: {faturamento_nao_superhost_medio:.2f}\\nFaturamento total: {faturamento_nao_superhost:.2f}\\nNúmero total: {contador_nao_superhost}\")"
   ]
  },
  {
   "cell_type": "code",
   "execution_count": 42,
   "id": "82e8af9a",
   "metadata": {
    "ExecuteTime": {
     "end_time": "2022-01-16T21:18:45.581418Z",
     "start_time": "2022-01-16T21:18:45.567905Z"
    }
   },
   "outputs": [
    {
     "name": "stdout",
     "output_type": "stream",
     "text": [
      "Superhost\n",
      "Faturamento médio: 9626.37\n",
      "Faturamento total: 12013711.00\n",
      "Número total: 1248\n"
     ]
    }
   ],
   "source": [
    "print(\"Superhost\")\n",
    "print(f\"Faturamento médio: {faturamento_superhost_medio:.2f}\\nFaturamento total: {faturamento_superhost:.2f}\\nNúmero total: {contador_superhost}\")"
   ]
  },
  {
   "cell_type": "markdown",
   "id": "00a32344",
   "metadata": {},
   "source": [
    "# Questão 4"
   ]
  },
  {
   "cell_type": "code",
   "execution_count": 43,
   "id": "0b328c6f",
   "metadata": {
    "ExecuteTime": {
     "end_time": "2022-01-16T21:18:45.666826Z",
     "start_time": "2022-01-16T21:18:45.587124Z"
    }
   },
   "outputs": [
    {
     "data": {
      "text/plain": [
       "Timedelta('30 days 11:23:11.511035653')"
      ]
     },
     "execution_count": 43,
     "metadata": {},
     "output_type": "execute_result"
    }
   ],
   "source": [
    "datas = relacoes_numericas[[\"airbnb_listing_id\", \"booked_on\", \"date\"]].groupby([\"airbnb_listing_id\", \"booked_on\"], sort=False)[\"date\"].min().sort_values().reset_index()\n",
    "datas[\"weekday_rent\"] = datas[\"date\"].dt.dayofweek\n",
    "datas[\"diferenca\"] = (datas.date - datas.booked_on)\n",
    "datas = datas[datas.diferenca != \"0 days\"]\n",
    "datas[\"diferenca\"].mean()"
   ]
  },
  {
   "cell_type": "code",
   "execution_count": 44,
   "id": "329b6f0d",
   "metadata": {
    "ExecuteTime": {
     "end_time": "2022-01-16T21:18:45.687298Z",
     "start_time": "2022-01-16T21:18:45.669669Z"
    }
   },
   "outputs": [
    {
     "data": {
      "text/plain": [
       "Timedelta('32 days 15:15:34.468085106')"
      ]
     },
     "execution_count": 44,
     "metadata": {},
     "output_type": "execute_result"
    }
   ],
   "source": [
    "datas_final_de_semana = datas[datas.weekday_rent > 4]\n",
    "datas_final_de_semana = datas_final_de_semana[datas_final_de_semana.diferenca != \"0 days\"]\n",
    "datas_final_de_semana[\"diferenca\"].mean()"
   ]
  },
  {
   "cell_type": "code",
   "execution_count": null,
   "id": "6220eea4",
   "metadata": {},
   "outputs": [],
   "source": []
  },
  {
   "cell_type": "code",
   "execution_count": null,
   "id": "d1409f8e",
   "metadata": {},
   "outputs": [],
   "source": []
  }
 ],
 "metadata": {
  "kernelspec": {
   "display_name": "Python 3 (ipykernel)",
   "language": "python",
   "name": "python3"
  },
  "language_info": {
   "codemirror_mode": {
    "name": "ipython",
    "version": 3
   },
   "file_extension": ".py",
   "mimetype": "text/x-python",
   "name": "python",
   "nbconvert_exporter": "python",
   "pygments_lexer": "ipython3",
   "version": "3.8.5"
  }
 },
 "nbformat": 4,
 "nbformat_minor": 5
}
